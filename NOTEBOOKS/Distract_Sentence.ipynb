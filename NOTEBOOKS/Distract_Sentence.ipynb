{
  "nbformat": 4,
  "nbformat_minor": 0,
  "metadata": {
    "colab": {
      "name": "Distract_Sentence.ipynb",
      "provenance": [],
      "collapsed_sections": []
    },
    "kernelspec": {
      "name": "python3",
      "display_name": "Python 3"
    }
  },
  "cells": [
    {
      "cell_type": "markdown",
      "metadata": {
        "id": "6ylOY_jmwVCN",
        "colab_type": "text"
      },
      "source": [
        "On colab using a Python 3 kernel, you should be all set with running in one cell (takes a while, but gives you visual feedback about progress, differently from spacy.cli)"
      ]
    },
    {
      "cell_type": "code",
      "metadata": {
        "id": "mK0F669Od7aj",
        "colab_type": "code",
        "outputId": "c42426bd-e880-4c75-a754-87346df1ef14",
        "colab": {
          "base_uri": "https://localhost:8080/",
          "height": 646
        }
      },
      "source": [
        "! rm -rf *\n",
        "! pip install word2number\n",
        "! pip install num2words\n",
        "! python -m spacy download en_core_web_lg\n",
        "! pip install pyldavis\n"
      ],
      "execution_count": 0,
      "outputs": [
        {
          "output_type": "stream",
          "text": [
            "Collecting word2number\n",
            "  Downloading https://files.pythonhosted.org/packages/4a/29/a31940c848521f0725f0df6b25dca8917f13a2025b0e8fcbe5d0457e45e6/word2number-1.1.zip\n",
            "Building wheels for collected packages: word2number\n",
            "  Building wheel for word2number (setup.py) ... \u001b[?25l\u001b[?25hdone\n",
            "  Created wheel for word2number: filename=word2number-1.1-cp36-none-any.whl size=5588 sha256=20dc9442bd037f5196252b1081d85740b859ee1228c4b86bd8779af9508fd6f0\n",
            "  Stored in directory: /root/.cache/pip/wheels/46/2f/53/5f5c1d275492f2fce1cdab9a9bb12d49286dead829a4078e0e\n",
            "Successfully built word2number\n",
            "Installing collected packages: word2number\n",
            "Successfully installed word2number-1.1\n",
            "Requirement already satisfied: num2words in /usr/local/lib/python3.6/dist-packages (0.5.10)\n",
            "Requirement already satisfied: docopt>=0.6.2 in /usr/local/lib/python3.6/dist-packages (from num2words) (0.6.2)\n",
            "Requirement already satisfied: en_core_web_lg==2.1.0 from https://github.com/explosion/spacy-models/releases/download/en_core_web_lg-2.1.0/en_core_web_lg-2.1.0.tar.gz#egg=en_core_web_lg==2.1.0 in /usr/local/lib/python3.6/dist-packages (2.1.0)\n",
            "\u001b[38;5;2m✔ Download and installation successful\u001b[0m\n",
            "You can now load the model via spacy.load('en_core_web_lg')\n",
            "Requirement already satisfied: pyldavis in /usr/local/lib/python3.6/dist-packages (2.1.2)\n",
            "Requirement already satisfied: pytest in /usr/local/lib/python3.6/dist-packages (from pyldavis) (3.6.4)\n",
            "Requirement already satisfied: pandas>=0.17.0 in /usr/local/lib/python3.6/dist-packages (from pyldavis) (0.24.2)\n",
            "Requirement already satisfied: future in /usr/local/lib/python3.6/dist-packages (from pyldavis) (0.16.0)\n",
            "Requirement already satisfied: joblib>=0.8.4 in /usr/local/lib/python3.6/dist-packages (from pyldavis) (0.14.0)\n",
            "Requirement already satisfied: jinja2>=2.7.2 in /usr/local/lib/python3.6/dist-packages (from pyldavis) (2.10.3)\n",
            "Requirement already satisfied: scipy>=0.18.0 in /usr/local/lib/python3.6/dist-packages (from pyldavis) (1.3.1)\n",
            "Requirement already satisfied: numexpr in /usr/local/lib/python3.6/dist-packages (from pyldavis) (2.7.0)\n",
            "Requirement already satisfied: wheel>=0.23.0 in /usr/local/lib/python3.6/dist-packages (from pyldavis) (0.33.6)\n",
            "Requirement already satisfied: funcy in /usr/local/lib/python3.6/dist-packages (from pyldavis) (1.13)\n",
            "Requirement already satisfied: numpy>=1.9.2 in /usr/local/lib/python3.6/dist-packages (from pyldavis) (1.16.5)\n",
            "Requirement already satisfied: setuptools in /usr/local/lib/python3.6/dist-packages (from pytest->pyldavis) (41.2.0)\n",
            "Requirement already satisfied: py>=1.5.0 in /usr/local/lib/python3.6/dist-packages (from pytest->pyldavis) (1.8.0)\n",
            "Requirement already satisfied: attrs>=17.4.0 in /usr/local/lib/python3.6/dist-packages (from pytest->pyldavis) (19.3.0)\n",
            "Requirement already satisfied: six>=1.10.0 in /usr/local/lib/python3.6/dist-packages (from pytest->pyldavis) (1.12.0)\n",
            "Requirement already satisfied: more-itertools>=4.0.0 in /usr/local/lib/python3.6/dist-packages (from pytest->pyldavis) (7.2.0)\n",
            "Requirement already satisfied: pluggy<0.8,>=0.5 in /usr/local/lib/python3.6/dist-packages (from pytest->pyldavis) (0.7.1)\n",
            "Requirement already satisfied: atomicwrites>=1.0 in /usr/local/lib/python3.6/dist-packages (from pytest->pyldavis) (1.3.0)\n",
            "Requirement already satisfied: python-dateutil>=2.5.0 in /usr/local/lib/python3.6/dist-packages (from pandas>=0.17.0->pyldavis) (2.5.3)\n",
            "Requirement already satisfied: pytz>=2011k in /usr/local/lib/python3.6/dist-packages (from pandas>=0.17.0->pyldavis) (2018.9)\n",
            "Requirement already satisfied: MarkupSafe>=0.23 in /usr/local/lib/python3.6/dist-packages (from jinja2>=2.7.2->pyldavis) (1.1.1)\n"
          ],
          "name": "stdout"
        }
      ]
    },
    {
      "cell_type": "code",
      "metadata": {
        "id": "VKnTtQNoAEuh",
        "colab_type": "code",
        "outputId": "83dc1650-cb58-4681-c079-7783e32f9769",
        "colab": {
          "base_uri": "https://localhost:8080/",
          "height": 315
        }
      },
      "source": [
        "from word2number.w2n import word_to_num\n",
        "word_to_num(\"second\")"
      ],
      "execution_count": 0,
      "outputs": [
        {
          "output_type": "error",
          "ename": "ValueError",
          "evalue": "ignored",
          "traceback": [
            "\u001b[0;31m---------------------------------------------------------------------------\u001b[0m",
            "\u001b[0;31mValueError\u001b[0m                                Traceback (most recent call last)",
            "\u001b[0;32m<ipython-input-56-003761ed6793>\u001b[0m in \u001b[0;36m<module>\u001b[0;34m()\u001b[0m\n\u001b[1;32m      1\u001b[0m \u001b[0;32mfrom\u001b[0m \u001b[0mword2number\u001b[0m\u001b[0;34m.\u001b[0m\u001b[0mw2n\u001b[0m \u001b[0;32mimport\u001b[0m \u001b[0mword_to_num\u001b[0m\u001b[0;34m\u001b[0m\u001b[0;34m\u001b[0m\u001b[0m\n\u001b[0;32m----> 2\u001b[0;31m \u001b[0mword_to_num\u001b[0m\u001b[0;34m(\u001b[0m\u001b[0;34m\"second\"\u001b[0m\u001b[0;34m)\u001b[0m\u001b[0;34m\u001b[0m\u001b[0;34m\u001b[0m\u001b[0m\n\u001b[0m",
            "\u001b[0;32m/usr/local/lib/python3.6/dist-packages/word2number/w2n.py\u001b[0m in \u001b[0;36mword_to_num\u001b[0;34m(number_sentence)\u001b[0m\n\u001b[1;32m    152\u001b[0m     \u001b[0;31m# Error message if the user enters invalid input!\u001b[0m\u001b[0;34m\u001b[0m\u001b[0;34m\u001b[0m\u001b[0;34m\u001b[0m\u001b[0m\n\u001b[1;32m    153\u001b[0m     \u001b[0;32mif\u001b[0m \u001b[0mlen\u001b[0m\u001b[0;34m(\u001b[0m\u001b[0mclean_numbers\u001b[0m\u001b[0;34m)\u001b[0m \u001b[0;34m==\u001b[0m \u001b[0;36m0\u001b[0m\u001b[0;34m:\u001b[0m\u001b[0;34m\u001b[0m\u001b[0;34m\u001b[0m\u001b[0m\n\u001b[0;32m--> 154\u001b[0;31m         \u001b[0;32mraise\u001b[0m \u001b[0mValueError\u001b[0m\u001b[0;34m(\u001b[0m\u001b[0;34m\"No valid number words found! Please enter a valid number word (eg. two million twenty three thousand and forty nine)\"\u001b[0m\u001b[0;34m)\u001b[0m\u001b[0;34m\u001b[0m\u001b[0;34m\u001b[0m\u001b[0m\n\u001b[0m\u001b[1;32m    155\u001b[0m \u001b[0;34m\u001b[0m\u001b[0m\n\u001b[1;32m    156\u001b[0m     \u001b[0;31m# Error if user enters million,billion, thousand or decimal point twice\u001b[0m\u001b[0;34m\u001b[0m\u001b[0;34m\u001b[0m\u001b[0;34m\u001b[0m\u001b[0m\n",
            "\u001b[0;31mValueError\u001b[0m: No valid number words found! Please enter a valid number word (eg. two million twenty three thousand and forty nine)"
          ]
        }
      ]
    },
    {
      "cell_type": "markdown",
      "metadata": {
        "id": "vGMszwkveN6U",
        "colab_type": "text"
      },
      "source": [
        "After executing, comment the line and restart the runtime.\n",
        "\n",
        "\n",
        "```\n",
        "# !python -m spacy download en_core_web_lg\n",
        "```\n",
        "\n"
      ]
    },
    {
      "cell_type": "code",
      "metadata": {
        "id": "ZyyNDHcnXBae",
        "colab_type": "code",
        "colab": {}
      },
      "source": [
        "# from google.colab import drive\n",
        "# drive.mount('/content/drive')"
      ],
      "execution_count": 0,
      "outputs": []
    },
    {
      "cell_type": "code",
      "metadata": {
        "id": "LGi-e2i4A9ly",
        "colab_type": "code",
        "colab": {}
      },
      "source": [
        "# import pickle\n",
        "# with open('./drive/My Drive/Colab Notebooks/ifixit_docs.pkl', 'rb') as f:\n",
        "#    docs=pickle.load( f)\n",
        "# f.close()\n",
        "# with open('./drive/My Drive/Colab Notebooks/ifixit_data.pkl', 'rb') as f:\n",
        "#    data=pickle.load( f)\n",
        "# f.close()"
      ],
      "execution_count": 0,
      "outputs": []
    },
    {
      "cell_type": "code",
      "metadata": {
        "id": "_Yii1Z8nXj8E",
        "colab_type": "code",
        "colab": {}
      },
      "source": [
        "import numpy as np\n",
        "import pandas as pd\n",
        "from tqdm import tqdm\n",
        "import string\n",
        "import matplotlib.pyplot as plt\n",
        "from tqdm import tqdm_notebook as tqdm\n",
        "from collections import defaultdict\n",
        "import nltk\n",
        "from nltk.corpus import wordnet\n",
        "import requests\n",
        "import spacy\n",
        "from spacy import displacy\n",
        "from spacy.lang.en.stop_words import STOP_WORDS\n",
        "from spacy.lang.en import English\n",
        "from spacy.matcher import Matcher \n",
        "from spacy.tokens import Span , Doc, Token\n",
        "import seaborn as sns\n",
        "from num2words import num2words\n",
        "\n",
        "import pyLDAvis.sklearn\n",
        "\n",
        "from sklearn.decomposition import NMF, LatentDirichletAllocation, TruncatedSVD\n",
        "from sklearn.feature_extraction.text import TfidfTransformer\n",
        "from sklearn.feature_extraction.text import CountVectorizer\n",
        "from sklearn.manifold import TSNE\n",
        "import nltk"
      ],
      "execution_count": 0,
      "outputs": []
    },
    {
      "cell_type": "code",
      "metadata": {
        "id": "jFw4gpF66Nv0",
        "colab_type": "code",
        "outputId": "45c7e31b-fa9e-42d4-f35f-658b4025d9f9",
        "colab": {
          "base_uri": "https://localhost:8080/",
          "height": 52
        }
      },
      "source": [
        "nlp = spacy.load('en_core_web_lg')\n",
        "punctuations = string.punctuation\n",
        "stopwords = list(STOP_WORDS)\n",
        "question = [\"what\", \"when\", \"how\", \"?\"]\n",
        "nltk.download(\"wordnet\")\n",
        "matcher = Matcher(nlp.vocab)\n",
        "for q in question :\n",
        "  if q in stopwords:\n",
        "    stopwords.remove(q)"
      ],
      "execution_count": 0,
      "outputs": [
        {
          "output_type": "stream",
          "text": [
            "[nltk_data] Downloading package wordnet to /root/nltk_data...\n",
            "[nltk_data]   Unzipping corpora/wordnet.zip.\n"
          ],
          "name": "stdout"
        }
      ]
    },
    {
      "cell_type": "code",
      "metadata": {
        "id": "jgPmEOKLrw1T",
        "colab_type": "code",
        "colab": {}
      },
      "source": [
        "urls = [\n",
        "        \"https://www.gutenberg.org/ebooks/29444\",\n",
        "        \"https://www.gutenberg.org/ebooks/31428\",\n",
        "        \"https://www.gutenberg.org/ebooks/4908\",\n",
        "        \"https://www.gutenberg.org/ebooks/33504\",\n",
        "        \"https://www.gutenberg.org/ebooks/39017\",\n",
        "        \"https://www.gutenberg.org/ebooks/37157\",\n",
        "        \"https://www.gutenberg.org/ebooks/15207\",\n",
        "        \"https://www.gutenberg.org/ebooks/10773\",\n",
        "        \"https://www.gutenberg.org/ebooks/31624\",\n",
        "        \"https://www.gutenberg.org/ebooks/5192\",\n",
        "        \"https://www.gutenberg.org/ebooks/40030\",\n",
        "        \"https://www.gutenberg.org/ebooks/50992\",\n",
        "        \"https://www.gutenberg.org/ebooks/50880\",\n",
        "        \"https://www.gutenberg.org/ebooks/36525\",\n",
        "        \"https://www.gutenberg.org/ebooks/47167\",\n",
        "        \"https://www.gutenberg.org/ebooks/47464\",\n",
        "        \"https://www.gutenberg.org/ebooks/33397\",\n",
        "        \"https://www.gutenberg.org/ebooks/29782\",\n",
        "        \"https://www.gutenberg.org/ebooks/32857\",\n",
        "        \"https://www.gutenberg.org/ebooks/26262\",\n",
        "        ]\n",
        "\n",
        "urls = ['http://www.gutenberg.org/cache/epub/'+ u.split(\"/\")[-1]+\"/pg\"+u.split(\"/\")[-1] +\".txt\"  for u in urls]"
      ],
      "execution_count": 0,
      "outputs": []
    },
    {
      "cell_type": "code",
      "metadata": {
        "id": "5nlXy4O7tOaC",
        "colab_type": "code",
        "colab": {}
      },
      "source": [
        "for u in urls:\n",
        "  docs = [requests.get(u).text for u in urls]"
      ],
      "execution_count": 0,
      "outputs": []
    },
    {
      "cell_type": "code",
      "metadata": {
        "id": "aiM31pGBNtZg",
        "colab_type": "code",
        "colab": {}
      },
      "source": [
        "def spacy_tokenizer(sentence):\n",
        "    sentence = sentence.lower()\n",
        "    mytokens = parser(sentence)\n",
        "    mytokens = [ word.lemma_.lower().strip() if word.lemma_ != \"-PRON-\" else word.lower_ for word in mytokens ]\n",
        "    mytokens = [ word for word in mytokens if word not in stopwords and word not in punctuations ]\n",
        "    mytokens = \" \".join([i for i in mytokens])\n",
        "    return mytokens\n",
        "parser =  English()"
      ],
      "execution_count": 0,
      "outputs": []
    },
    {
      "cell_type": "code",
      "metadata": {
        "id": "I6pbzhkrN7oF",
        "colab_type": "code",
        "outputId": "f446cc8a-aafd-4a61-d63a-ac0d5451683c",
        "colab": {
          "base_uri": "https://localhost:8080/",
          "height": 376
        }
      },
      "source": [
        "def process_docs(docs):\n",
        "\n",
        "  ndocs = []\n",
        "  for i in tqdm(range(len(docs))):\n",
        "    doc = docs[i]\n",
        "    doc.replace(\"\\n\",\" \")\n",
        "    doc.replace(\"  \",\" \")\n",
        "    ndocs.append( spacy_tokenizer(doc))\n",
        "  vectorizer = CountVectorizer(min_df=5, max_df=0.9, stop_words='english', lowercase=True, token_pattern='[a-zA-Z\\-][a-zA-Z\\-]{2,}')\n",
        "  ndocs_vec = vectorizer.fit_transform(ndocs)\n",
        "  tfidf_transformer=TfidfTransformer(smooth_idf=True,use_idf=True)\n",
        "  tfidf_transformer.fit(ndocs_vec)\n",
        "  tf_idf_vector=tfidf_transformer.transform(ndocs_vec)\n",
        "  return ndocs, ndocs_vec, vectorizer, tfidf_transformer, tf_idf_vector\n"
      ],
      "execution_count": 0,
      "outputs": [
        {
          "output_type": "stream",
          "text": [
            "<input>:9: DeprecationWarning: invalid escape sequence \\-\n",
            "<input>:9: DeprecationWarning: invalid escape sequence \\-\n",
            "<input>:9: DeprecationWarning: invalid escape sequence \\-\n",
            "<input>:9: DeprecationWarning: invalid escape sequence \\-\n",
            "<input>:9: DeprecationWarning: invalid escape sequence \\-\n",
            "<input>:9: DeprecationWarning: invalid escape sequence \\-\n",
            "<input>:9: DeprecationWarning: invalid escape sequence \\-\n",
            "<input>:9: DeprecationWarning: invalid escape sequence \\-\n",
            "<input>:9: DeprecationWarning: invalid escape sequence \\-\n",
            "<input>:9: DeprecationWarning: invalid escape sequence \\-\n",
            "<input>:9: DeprecationWarning: invalid escape sequence \\-\n",
            "<input>:9: DeprecationWarning: invalid escape sequence \\-\n",
            "<input>:9: DeprecationWarning: invalid escape sequence \\-\n",
            "<input>:9: DeprecationWarning: invalid escape sequence \\-\n",
            "<input>:9: DeprecationWarning: invalid escape sequence \\-\n",
            "<input>:9: DeprecationWarning: invalid escape sequence \\-\n",
            "<input>:9: DeprecationWarning: invalid escape sequence \\-\n",
            "<input>:9: DeprecationWarning: invalid escape sequence \\-\n",
            "<ipython-input-8-38a3f7b397d4>:9: DeprecationWarning: invalid escape sequence \\-\n",
            "  vectorizer = CountVectorizer(min_df=5, max_df=0.9, stop_words='english', lowercase=True, token_pattern='[a-zA-Z\\-][a-zA-Z\\-]{2,}')\n"
          ],
          "name": "stderr"
        }
      ]
    },
    {
      "cell_type": "code",
      "metadata": {
        "id": "beadXZSnPPEm",
        "colab_type": "code",
        "outputId": "e2c60d95-d7d1-4b42-c304-4a83c047ca9a",
        "colab": {
          "base_uri": "https://localhost:8080/",
          "height": 34
        }
      },
      "source": [
        "ndocs, ndocs_vec, vectorizer, tfidf_transformer, tf_idf_vector =process_docs(docs)"
      ],
      "execution_count": 0,
      "outputs": [
        {
          "output_type": "display_data",
          "data": {
            "application/vnd.jupyter.widget-view+json": {
              "model_id": "622dd1be56344e8f85107f549c20acb3",
              "version_minor": 0,
              "version_major": 2
            },
            "text/plain": [
              "HBox(children=(IntProgress(value=0, max=20), HTML(value='')))"
            ]
          },
          "metadata": {
            "tags": []
          }
        },
        {
          "output_type": "stream",
          "text": [
            "\n"
          ],
          "name": "stdout"
        }
      ]
    },
    {
      "cell_type": "code",
      "metadata": {
        "id": "lytNvloExAkE",
        "colab_type": "code",
        "colab": {}
      },
      "source": [
        "\n",
        "def sentence_weight( tfidf, sentence):\n",
        "    sentence_weight = 0\n",
        "    sentence_processed = spacy_tokenizer(sentence)\n",
        "    sentence_processed = sentence_processed.split(\" \")\n",
        "    for word in sentence_processed:\n",
        "            if word in question : \n",
        "              sentence_weight += -1000\n",
        "            else:\n",
        "              sentence_weight += tfidf[word]\n",
        "    sentence_weight =  sentence_weight/ len(sentence_processed)\n",
        "    return sentence_weight"
      ],
      "execution_count": 0,
      "outputs": []
    },
    {
      "cell_type": "code",
      "metadata": {
        "id": "59688NyEM_Bx",
        "colab_type": "code",
        "colab": {}
      },
      "source": [
        "def determine_weights(tfidf, lines):\n",
        "  sentence_weights=[]\n",
        "\n",
        "\n",
        "  for line in lines :\n",
        "    try :\n",
        "      sentence_weights.append(sentence_weight( tfidf, line))\n",
        "    except :\n",
        "      sentence_weights.append(0)\n",
        "  return np.array(sentence_weights), lines"
      ],
      "execution_count": 0,
      "outputs": []
    },
    {
      "cell_type": "code",
      "metadata": {
        "id": "a5r8zlFM_9qq",
        "colab_type": "code",
        "outputId": "f1c66bfa-8070-4a82-9411-7369fd5bc2e2",
        "colab": {
          "base_uri": "https://localhost:8080/",
          "height": 250
        }
      },
      "source": [
        "SEL_FR = 0.4\n",
        "# para_text  = \"What is common in liquids and gases? Unlike a solid, a fluid has no definite shape of its own. Solids and liquids have a fixed volume, whereas a gas fills the entire volume of its container. We have learnt in the previous chapter that the volume of solids can be changed by stress. The volume of solid, liquid or gas depends on the stress or pressure acting on it. When we talk about fixed volume of solid or liquid, we mean its volume under atmospheric pressure. The difference between gases and solids or liquids is that for solids or liquids the change in volume due to change of external pressure is rather small. In other words solids and liquids have much lower compressibility as compared to gases. Shear stress can change the shape of a solid keeping its volume fixed. The key property of fluids is that they offer very little resistance to shear stress; their shape changes by application of very small shear stress. The shearing stress of fluids is about million times smaller than that of solids. \"\n",
        "para_text = \"We are familiar with air current and water current. We know that flowing water constitute water current in rivers. Similarly, if the electric charge flows through a conductor (for example, through a metallic wire), we say that there is an electric current in the conductor. In a torch, we know that the cells (or a battery, when placed in proper order) provide flow of charges or an electric current through the torch bulb to glow. We have also seen that the torch gives light only when its switch is on. What does a switch do? A switch makes a conducting link between the cell and the bulb. A continuous and closed path of an electric current is called an electric circuit. Now, if the circuit is broken anywhere (or the switch of the torch is turned off), the current stops flowing and the bulb does not glow. How do we express electric current? Electric current is expressed by the amount of charge flowing through a particular area in unit time. In other words, it is the rate of flow of electric charges. In circuits using metallic wires, electrons constitute the flow of charges. However, electrons were not known at the time when the phenomenon of electricity was first observed. So, electric current was considered to be the flow of positive charges and the direction of flow of positive charges was taken to be the direction of electric current. Conventionally, in an electric circuit the direction of electric current is taken as opposite to the direction of the flow of electrons, which are negative charges. The SI unit of electric charge is coulomb (C), which is equivalent to the charge contained in nearly 6 × 1018 electrons. (We know that an electron possesses a negative charge of 1.6 × 10–19 C.) The electric current is expressed by a unit called ampere (A), named after the French scientist, Andre-Marie Ampere (1775–1836). One ampere is constituted by the flow of one coulomb of charge per second, that is, 1 A = 1 C/1 s. Small quantities of current are expressed in milliampere (1 mA = 10–3 A) or in microampere (1 µA = 10–6 A). An instrument called ammeter measures electric current in a circuit. It is always connected in series in a circuit through which the current is to be measured. Figure 12.1 shows the schematic diagram of a typical electric circuit comprising a cell, an electric bulb, an ammeter and a plug key. Note that the electric current flows in the circuit from the positive terminal of the cell to the negative terminal of the cell through the bulb and ammeter What makes the electric charge to flow? Let us consider the analogy of flow of water. Charges do not flow in a copper wire by themselves, just as water in a perfectly horizontal tube does not flow. If one end of the tube is connected to a tank of water kept at a higher level, such that there is a pressure difference between the two ends of the tube, water flows out of the other end of the tube. For flow of charges in a conducting metallic wire, the gravity, of course, has no role to play; the electrons move only if there is a difference of electric pressure – called the potential difference – along the conductor. This difference of potential may be produced by a battery, consisting of one or more electric cells. The chemical action within a cell generates the potential difference across the terminals of the cell, even when no current is drawn from it. When the cell is connected to a conducting circuit element, the potential difference sets the charges in motion in the conductor and produces an electric current. In order to maintain the current in a given electric circuit, the cell has to expend its chemical energy stored in it.\"\n",
        "doc =  nlp(para_text)\n",
        "sents = [sent for sent in doc.sents]\n",
        "lines = [b.text  for b in [sent for sent in doc.sents]]\n",
        "paras = [spacy_tokenizer(l) for l in lines]\n",
        "paras_vec = vectorizer.transform(paras)\n",
        "paras_tfidf = tfidf_transformer.transform(paras_vec)\n",
        "feature_names = vectorizer.get_feature_names()\n",
        "para_tfidf = paras_tfidf[0].T.toarray().flatten() \n",
        "tfidf = defaultdict(int,zip(feature_names,para_tfidf))\n",
        "sent_wt , lines = determine_weights(tfidf, lines)\n",
        "arg_mx_sent_wt = np.argsort(-sent_wt)\n",
        "n_sents =  int( SEL_FR * len(sent_wt))\n",
        "for i in range(n_sents) :\n",
        "  print(lines[arg_mx_sent_wt[i]], \" | \", sent_wt[arg_mx_sent_wt[i]])\n"
      ],
      "execution_count": 0,
      "outputs": [
        {
          "output_type": "stream",
          "text": [
            "We are familiar with air current and water current.  |  0.4898979485566356\n",
            "We know that flowing water constitute water current in rivers.  |  0.23328473740792172\n",
            "It is always connected in series in a circuit through which the current is to be measured.  |  0.16329931618554522\n",
            "An instrument called ammeter measures electric current in a circuit.  |  0.13608276348795434\n",
            "So, electric current was considered to be the flow of positive charges and the direction of flow of positive charges was taken to be the direction of electric current.  |  0.12561485860426555\n",
            "A continuous and closed path of an electric current is called an electric circuit.  |  0.11664236870396086\n",
            "Electric current is expressed by the amount of charge flowing through a particular area in unit time.  |  0.09072184232530289\n",
            "Let us consider the analogy of flow of water.  |  0.08164965809277261\n",
            "In order to maintain the current in a given electric circuit, the cell has to expend its chemical energy stored in it.  |  0.08164965809277261\n",
            "Similarly, if the electric charge flows through a conductor (for example, through a metallic wire), we say that there is an electric current in the conductor.  |  0.07422696190252055\n",
            "Now, if the circuit is broken anywhere (or the switch of the torch is turned off), the current stops flowing and the bulb does not glow.  |  0.07422696190252055\n",
            "The electric current is expressed by a unit called ampere (A), named after the French scientist, Andre-Marie Ampere (1775–1836).  |  0.07422696190252055\n",
            "Small quantities of current are expressed in milliampere (1 mA = 10–3 A) or in microampere (1 µA = 10–6 A).  |  0.06804138174397717\n"
          ],
          "name": "stdout"
        }
      ]
    },
    {
      "cell_type": "markdown",
      "metadata": {
        "id": "229Ip8nDmoGG",
        "colab_type": "text"
      },
      "source": [
        " \n",
        "*In other words solids and liquids have much lower compressibility as compared to gases.  text*\n",
        "\n",
        "\n",
        "\n",
        "*   In other words solids and liquids have much lower compressibility as compared to gases. \n",
        "*   In other words solids and liquids have much higher compressibility as compared to gases. \n",
        "*    In other words solids and gas have much lower compressibility as compared to liquids. \n",
        "*   In other words solids and gas have much higher compressibility as compared to liquids. \n",
        "\n",
        "\n",
        "*The volume of solid, liquid or gas depends on the stress or pressure acting on it.*\n",
        "1.   The volume of solid, liquid or gas depends on the stress or pressure acting on it.\n",
        "2.   The volume of solid, liquid or gas doesnt depends on the stress or pressure acting on it.\n",
        "3. The volume of solid, liquid or gas depends on the stress or force acting on it.\n",
        "4. The weight of solid, liquid or gas depends on the stress or pressure acting on it.\n",
        "\n",
        "\n",
        "*The difference between gases and solids or liquids is that for solids or liquids the change in volume due to change of external pressure is rather small.*\n",
        "1.   The difference between gases and solids or liquids is that for solids or liquids the change in volume due to change of external pressure is rather small.\n",
        "2.   The similarity between gases and solids or liquids is that for solids or liquids the change in volume due to change of external pressure is rather small.\n",
        "3.   The difference between gases and solids or liquids is that for solids or liquids the change in weight due to change of external pressure is rather big.\n",
        "4.   The difference between gases and solids or liquids is that for solids or liquids the change in volume due to change of internal pressure is rather small.\n",
        "\n",
        "\n",
        "*Solids and liquids have a fixed volume, whereas a gas fills the entire volume of its container.\n",
        "1.   Solids and liquids have a fixed volume, whereas a gas fills the entire volume of its container.\n",
        "2.   Solids and liquids have a flexible  volume, whereas a gas fills the entire volume of its container.\n",
        "3.   Solids and gas have a fixed weight, whereas a liquid fills the entire volume of its container.\n",
        "4.    Solids and liquids have a fixed volume, whereas a gas fills the half volume of its container.\n",
        "\n",
        "\n",
        "\n",
        "\n",
        "\n",
        "\n"
      ]
    },
    {
      "cell_type": "code",
      "metadata": {
        "id": "T77t8UawfxBm",
        "colab_type": "code",
        "outputId": "ad054b84-04f3-404d-db5e-fad417383c1a",
        "colab": {
          "base_uri": "https://localhost:8080/",
          "height": 1000
        }
      },
      "source": [
        "displacy.render(doc, style=\"ent\", jupyter=True)\n",
        "displacy.render(nlp(\"An instrument called ammeter measures electric current in a circuit.\"), style=\"dep\", jupyter=True)\n"
      ],
      "execution_count": 0,
      "outputs": [
        {
          "output_type": "display_data",
          "data": {
            "text/html": [
              "<div class=\"entities\" style=\"line-height: 2.5; direction: ltr\">We are familiar with air current and water current. We know that flowing water constitute water current in rivers. Similarly, if the electric charge flows through a conductor (for example, through a metallic wire), we say that there is an electric current in the conductor. In a torch, we know that the cells (or a battery, when placed in proper order) provide flow of charges or an electric current through the torch bulb to glow. We have also seen that the torch gives light only when its switch is on. What does a switch do? A switch makes a conducting link between the cell and the bulb. A continuous and closed path of an electric current is called an electric circuit. Now, if the circuit is broken anywhere (or the switch of the torch is turned off), the current stops flowing and the bulb does not glow. How do we express electric current? Electric current is expressed by the amount of charge flowing through a particular area in unit time. In other words, it is the rate of flow of electric charges. In circuits using metallic wires, electrons constitute the flow of charges. However, electrons were not known at the time when the phenomenon of electricity was first observed. So, electric current was considered to be the flow of positive charges and the direction of flow of positive charges was taken to be the direction of electric current. Conventionally, in an electric circuit the direction of electric current is taken as opposite to the direction of the flow of electrons, which are negative charges. The \n",
              "<mark class=\"entity\" style=\"background: #7aecec; padding: 0.45em 0.6em; margin: 0 0.25em; line-height: 1; border-radius: 0.35em; box-decoration-break: clone; -webkit-box-decoration-break: clone\">\n",
              "    SI\n",
              "    <span style=\"font-size: 0.8em; font-weight: bold; line-height: 1; border-radius: 0.35em; text-transform: uppercase; vertical-align: middle; margin-left: 0.5rem\">ORG</span>\n",
              "</mark>\n",
              " unit of electric charge is coulomb (C), which is equivalent to the charge contained in nearly \n",
              "<mark class=\"entity\" style=\"background: #e4e7d2; padding: 0.45em 0.6em; margin: 0 0.25em; line-height: 1; border-radius: 0.35em; box-decoration-break: clone; -webkit-box-decoration-break: clone\">\n",
              "    6 × 1018\n",
              "    <span style=\"font-size: 0.8em; font-weight: bold; line-height: 1; border-radius: 0.35em; text-transform: uppercase; vertical-align: middle; margin-left: 0.5rem\">QUANTITY</span>\n",
              "</mark>\n",
              " electrons. (We know that an electron possesses a negative charge of \n",
              "<mark class=\"entity\" style=\"background: #e4e7d2; padding: 0.45em 0.6em; margin: 0 0.25em; line-height: 1; border-radius: 0.35em; box-decoration-break: clone; -webkit-box-decoration-break: clone\">\n",
              "    1.6 ×\n",
              "    <span style=\"font-size: 0.8em; font-weight: bold; line-height: 1; border-radius: 0.35em; text-transform: uppercase; vertical-align: middle; margin-left: 0.5rem\">CARDINAL</span>\n",
              "</mark>\n",
              " 10–19 C.) The electric current is expressed by a unit called ampere (A), named after the \n",
              "<mark class=\"entity\" style=\"background: #c887fb; padding: 0.45em 0.6em; margin: 0 0.25em; line-height: 1; border-radius: 0.35em; box-decoration-break: clone; -webkit-box-decoration-break: clone\">\n",
              "    French\n",
              "    <span style=\"font-size: 0.8em; font-weight: bold; line-height: 1; border-radius: 0.35em; text-transform: uppercase; vertical-align: middle; margin-left: 0.5rem\">NORP</span>\n",
              "</mark>\n",
              " scientist, \n",
              "<mark class=\"entity\" style=\"background: #aa9cfc; padding: 0.45em 0.6em; margin: 0 0.25em; line-height: 1; border-radius: 0.35em; box-decoration-break: clone; -webkit-box-decoration-break: clone\">\n",
              "    Andre-Marie Ampere\n",
              "    <span style=\"font-size: 0.8em; font-weight: bold; line-height: 1; border-radius: 0.35em; text-transform: uppercase; vertical-align: middle; margin-left: 0.5rem\">PERSON</span>\n",
              "</mark>\n",
              " (1775–1836). \n",
              "<mark class=\"entity\" style=\"background: #e4e7d2; padding: 0.45em 0.6em; margin: 0 0.25em; line-height: 1; border-radius: 0.35em; box-decoration-break: clone; -webkit-box-decoration-break: clone\">\n",
              "    One\n",
              "    <span style=\"font-size: 0.8em; font-weight: bold; line-height: 1; border-radius: 0.35em; text-transform: uppercase; vertical-align: middle; margin-left: 0.5rem\">CARDINAL</span>\n",
              "</mark>\n",
              " ampere is constituted by the flow of \n",
              "<mark class=\"entity\" style=\"background: #e4e7d2; padding: 0.45em 0.6em; margin: 0 0.25em; line-height: 1; border-radius: 0.35em; box-decoration-break: clone; -webkit-box-decoration-break: clone\">\n",
              "    one coulomb\n",
              "    <span style=\"font-size: 0.8em; font-weight: bold; line-height: 1; border-radius: 0.35em; text-transform: uppercase; vertical-align: middle; margin-left: 0.5rem\">QUANTITY</span>\n",
              "</mark>\n",
              " of charge per \n",
              "<mark class=\"entity\" style=\"background: #e4e7d2; padding: 0.45em 0.6em; margin: 0 0.25em; line-height: 1; border-radius: 0.35em; box-decoration-break: clone; -webkit-box-decoration-break: clone\">\n",
              "    second\n",
              "    <span style=\"font-size: 0.8em; font-weight: bold; line-height: 1; border-radius: 0.35em; text-transform: uppercase; vertical-align: middle; margin-left: 0.5rem\">ORDINAL</span>\n",
              "</mark>\n",
              ", that is, \n",
              "<mark class=\"entity\" style=\"background: #e4e7d2; padding: 0.45em 0.6em; margin: 0 0.25em; line-height: 1; border-radius: 0.35em; box-decoration-break: clone; -webkit-box-decoration-break: clone\">\n",
              "    1\n",
              "    <span style=\"font-size: 0.8em; font-weight: bold; line-height: 1; border-radius: 0.35em; text-transform: uppercase; vertical-align: middle; margin-left: 0.5rem\">CARDINAL</span>\n",
              "</mark>\n",
              " A = \n",
              "<mark class=\"entity\" style=\"background: #e4e7d2; padding: 0.45em 0.6em; margin: 0 0.25em; line-height: 1; border-radius: 0.35em; box-decoration-break: clone; -webkit-box-decoration-break: clone\">\n",
              "    1\n",
              "    <span style=\"font-size: 0.8em; font-weight: bold; line-height: 1; border-radius: 0.35em; text-transform: uppercase; vertical-align: middle; margin-left: 0.5rem\">CARDINAL</span>\n",
              "</mark>\n",
              " C/1 s. Small quantities of current are expressed in milliampere (\n",
              "<mark class=\"entity\" style=\"background: #e4e7d2; padding: 0.45em 0.6em; margin: 0 0.25em; line-height: 1; border-radius: 0.35em; box-decoration-break: clone; -webkit-box-decoration-break: clone\">\n",
              "    1\n",
              "    <span style=\"font-size: 0.8em; font-weight: bold; line-height: 1; border-radius: 0.35em; text-transform: uppercase; vertical-align: middle; margin-left: 0.5rem\">CARDINAL</span>\n",
              "</mark>\n",
              " mA = 10–3 A) or in microampere (\n",
              "<mark class=\"entity\" style=\"background: #e4e7d2; padding: 0.45em 0.6em; margin: 0 0.25em; line-height: 1; border-radius: 0.35em; box-decoration-break: clone; -webkit-box-decoration-break: clone\">\n",
              "    1\n",
              "    <span style=\"font-size: 0.8em; font-weight: bold; line-height: 1; border-radius: 0.35em; text-transform: uppercase; vertical-align: middle; margin-left: 0.5rem\">CARDINAL</span>\n",
              "</mark>\n",
              " µA = 10–6 A). An instrument called ammeter measures electric current in a circuit. It is always connected in series in a circuit through which the current is to be measured. Figure \n",
              "<mark class=\"entity\" style=\"background: #e4e7d2; padding: 0.45em 0.6em; margin: 0 0.25em; line-height: 1; border-radius: 0.35em; box-decoration-break: clone; -webkit-box-decoration-break: clone\">\n",
              "    12.1\n",
              "    <span style=\"font-size: 0.8em; font-weight: bold; line-height: 1; border-radius: 0.35em; text-transform: uppercase; vertical-align: middle; margin-left: 0.5rem\">CARDINAL</span>\n",
              "</mark>\n",
              " shows the schematic diagram of a typical electric circuit comprising a cell, an electric bulb, an ammeter and a plug key. Note that the electric current flows in the circuit from the positive terminal of the cell to the negative terminal of the cell through the bulb and ammeter What makes the electric charge to flow? Let us consider the analogy of flow of water. Charges do not flow in a copper wire by themselves, just as water in a perfectly horizontal tube does not flow. If \n",
              "<mark class=\"entity\" style=\"background: #e4e7d2; padding: 0.45em 0.6em; margin: 0 0.25em; line-height: 1; border-radius: 0.35em; box-decoration-break: clone; -webkit-box-decoration-break: clone\">\n",
              "    one\n",
              "    <span style=\"font-size: 0.8em; font-weight: bold; line-height: 1; border-radius: 0.35em; text-transform: uppercase; vertical-align: middle; margin-left: 0.5rem\">CARDINAL</span>\n",
              "</mark>\n",
              " end of the tube is connected to a tank of water kept at a higher level, such that there is a pressure difference between the \n",
              "<mark class=\"entity\" style=\"background: #e4e7d2; padding: 0.45em 0.6em; margin: 0 0.25em; line-height: 1; border-radius: 0.35em; box-decoration-break: clone; -webkit-box-decoration-break: clone\">\n",
              "    two\n",
              "    <span style=\"font-size: 0.8em; font-weight: bold; line-height: 1; border-radius: 0.35em; text-transform: uppercase; vertical-align: middle; margin-left: 0.5rem\">CARDINAL</span>\n",
              "</mark>\n",
              " ends of the tube, water flows out of the other end of the tube. For flow of charges in a conducting metallic wire, the gravity, of course, has no role to play; the electrons move only if there is a difference of electric pressure – called the potential difference – along the conductor. This difference of potential may be produced by a battery, consisting of \n",
              "<mark class=\"entity\" style=\"background: #e4e7d2; padding: 0.45em 0.6em; margin: 0 0.25em; line-height: 1; border-radius: 0.35em; box-decoration-break: clone; -webkit-box-decoration-break: clone\">\n",
              "    one\n",
              "    <span style=\"font-size: 0.8em; font-weight: bold; line-height: 1; border-radius: 0.35em; text-transform: uppercase; vertical-align: middle; margin-left: 0.5rem\">CARDINAL</span>\n",
              "</mark>\n",
              " or more electric cells. The chemical action within a cell generates the potential difference across the terminals of the cell, even when no current is drawn from it. When the cell is connected to a conducting circuit element, the potential difference sets the charges in motion in the conductor and produces an electric current. In order to maintain the current in a given electric circuit, the cell has to expend its chemical energy stored in it.</div>"
            ],
            "text/plain": [
              "<IPython.core.display.HTML object>"
            ]
          },
          "metadata": {
            "tags": []
          }
        },
        {
          "output_type": "display_data",
          "data": {
            "text/html": [
              "<svg xmlns=\"http://www.w3.org/2000/svg\" xmlns:xlink=\"http://www.w3.org/1999/xlink\" xml:lang=\"en\" id=\"15fa3fee244748a79fc1afb45bdf5f2d-0\" class=\"displacy\" width=\"1800\" height=\"487.0\" direction=\"ltr\" style=\"max-width: none; height: 487.0px; color: #000000; background: #ffffff; font-family: Arial; direction: ltr\">\n",
              "<text class=\"displacy-token\" fill=\"currentColor\" text-anchor=\"middle\" y=\"397.0\">\n",
              "    <tspan class=\"displacy-word\" fill=\"currentColor\" x=\"50\">An</tspan>\n",
              "    <tspan class=\"displacy-tag\" dy=\"2em\" fill=\"currentColor\" x=\"50\">DET</tspan>\n",
              "</text>\n",
              "\n",
              "<text class=\"displacy-token\" fill=\"currentColor\" text-anchor=\"middle\" y=\"397.0\">\n",
              "    <tspan class=\"displacy-word\" fill=\"currentColor\" x=\"225\">instrument</tspan>\n",
              "    <tspan class=\"displacy-tag\" dy=\"2em\" fill=\"currentColor\" x=\"225\">NOUN</tspan>\n",
              "</text>\n",
              "\n",
              "<text class=\"displacy-token\" fill=\"currentColor\" text-anchor=\"middle\" y=\"397.0\">\n",
              "    <tspan class=\"displacy-word\" fill=\"currentColor\" x=\"400\">called</tspan>\n",
              "    <tspan class=\"displacy-tag\" dy=\"2em\" fill=\"currentColor\" x=\"400\">VERB</tspan>\n",
              "</text>\n",
              "\n",
              "<text class=\"displacy-token\" fill=\"currentColor\" text-anchor=\"middle\" y=\"397.0\">\n",
              "    <tspan class=\"displacy-word\" fill=\"currentColor\" x=\"575\">ammeter</tspan>\n",
              "    <tspan class=\"displacy-tag\" dy=\"2em\" fill=\"currentColor\" x=\"575\">NOUN</tspan>\n",
              "</text>\n",
              "\n",
              "<text class=\"displacy-token\" fill=\"currentColor\" text-anchor=\"middle\" y=\"397.0\">\n",
              "    <tspan class=\"displacy-word\" fill=\"currentColor\" x=\"750\">measures</tspan>\n",
              "    <tspan class=\"displacy-tag\" dy=\"2em\" fill=\"currentColor\" x=\"750\">NOUN</tspan>\n",
              "</text>\n",
              "\n",
              "<text class=\"displacy-token\" fill=\"currentColor\" text-anchor=\"middle\" y=\"397.0\">\n",
              "    <tspan class=\"displacy-word\" fill=\"currentColor\" x=\"925\">electric</tspan>\n",
              "    <tspan class=\"displacy-tag\" dy=\"2em\" fill=\"currentColor\" x=\"925\">ADJ</tspan>\n",
              "</text>\n",
              "\n",
              "<text class=\"displacy-token\" fill=\"currentColor\" text-anchor=\"middle\" y=\"397.0\">\n",
              "    <tspan class=\"displacy-word\" fill=\"currentColor\" x=\"1100\">current</tspan>\n",
              "    <tspan class=\"displacy-tag\" dy=\"2em\" fill=\"currentColor\" x=\"1100\">NOUN</tspan>\n",
              "</text>\n",
              "\n",
              "<text class=\"displacy-token\" fill=\"currentColor\" text-anchor=\"middle\" y=\"397.0\">\n",
              "    <tspan class=\"displacy-word\" fill=\"currentColor\" x=\"1275\">in</tspan>\n",
              "    <tspan class=\"displacy-tag\" dy=\"2em\" fill=\"currentColor\" x=\"1275\">ADP</tspan>\n",
              "</text>\n",
              "\n",
              "<text class=\"displacy-token\" fill=\"currentColor\" text-anchor=\"middle\" y=\"397.0\">\n",
              "    <tspan class=\"displacy-word\" fill=\"currentColor\" x=\"1450\">a</tspan>\n",
              "    <tspan class=\"displacy-tag\" dy=\"2em\" fill=\"currentColor\" x=\"1450\">DET</tspan>\n",
              "</text>\n",
              "\n",
              "<text class=\"displacy-token\" fill=\"currentColor\" text-anchor=\"middle\" y=\"397.0\">\n",
              "    <tspan class=\"displacy-word\" fill=\"currentColor\" x=\"1625\">circuit.</tspan>\n",
              "    <tspan class=\"displacy-tag\" dy=\"2em\" fill=\"currentColor\" x=\"1625\">NOUN</tspan>\n",
              "</text>\n",
              "\n",
              "<g class=\"displacy-arrow\">\n",
              "    <path class=\"displacy-arc\" id=\"arrow-15fa3fee244748a79fc1afb45bdf5f2d-0-0\" stroke-width=\"2px\" d=\"M70,352.0 C70,264.5 210.0,264.5 210.0,352.0\" fill=\"none\" stroke=\"currentColor\"/>\n",
              "    <text dy=\"1.25em\" style=\"font-size: 0.8em; letter-spacing: 1px\">\n",
              "        <textPath xlink:href=\"#arrow-15fa3fee244748a79fc1afb45bdf5f2d-0-0\" class=\"displacy-label\" startOffset=\"50%\" side=\"left\" fill=\"currentColor\" text-anchor=\"middle\">det</textPath>\n",
              "    </text>\n",
              "    <path class=\"displacy-arrowhead\" d=\"M70,354.0 L62,342.0 78,342.0\" fill=\"currentColor\"/>\n",
              "</g>\n",
              "\n",
              "<g class=\"displacy-arrow\">\n",
              "    <path class=\"displacy-arc\" id=\"arrow-15fa3fee244748a79fc1afb45bdf5f2d-0-1\" stroke-width=\"2px\" d=\"M245,352.0 C245,264.5 385.0,264.5 385.0,352.0\" fill=\"none\" stroke=\"currentColor\"/>\n",
              "    <text dy=\"1.25em\" style=\"font-size: 0.8em; letter-spacing: 1px\">\n",
              "        <textPath xlink:href=\"#arrow-15fa3fee244748a79fc1afb45bdf5f2d-0-1\" class=\"displacy-label\" startOffset=\"50%\" side=\"left\" fill=\"currentColor\" text-anchor=\"middle\">acl</textPath>\n",
              "    </text>\n",
              "    <path class=\"displacy-arrowhead\" d=\"M385.0,354.0 L393.0,342.0 377.0,342.0\" fill=\"currentColor\"/>\n",
              "</g>\n",
              "\n",
              "<g class=\"displacy-arrow\">\n",
              "    <path class=\"displacy-arc\" id=\"arrow-15fa3fee244748a79fc1afb45bdf5f2d-0-2\" stroke-width=\"2px\" d=\"M595,352.0 C595,264.5 735.0,264.5 735.0,352.0\" fill=\"none\" stroke=\"currentColor\"/>\n",
              "    <text dy=\"1.25em\" style=\"font-size: 0.8em; letter-spacing: 1px\">\n",
              "        <textPath xlink:href=\"#arrow-15fa3fee244748a79fc1afb45bdf5f2d-0-2\" class=\"displacy-label\" startOffset=\"50%\" side=\"left\" fill=\"currentColor\" text-anchor=\"middle\">compound</textPath>\n",
              "    </text>\n",
              "    <path class=\"displacy-arrowhead\" d=\"M595,354.0 L587,342.0 603,342.0\" fill=\"currentColor\"/>\n",
              "</g>\n",
              "\n",
              "<g class=\"displacy-arrow\">\n",
              "    <path class=\"displacy-arc\" id=\"arrow-15fa3fee244748a79fc1afb45bdf5f2d-0-3\" stroke-width=\"2px\" d=\"M420,352.0 C420,177.0 740.0,177.0 740.0,352.0\" fill=\"none\" stroke=\"currentColor\"/>\n",
              "    <text dy=\"1.25em\" style=\"font-size: 0.8em; letter-spacing: 1px\">\n",
              "        <textPath xlink:href=\"#arrow-15fa3fee244748a79fc1afb45bdf5f2d-0-3\" class=\"displacy-label\" startOffset=\"50%\" side=\"left\" fill=\"currentColor\" text-anchor=\"middle\">oprd</textPath>\n",
              "    </text>\n",
              "    <path class=\"displacy-arrowhead\" d=\"M740.0,354.0 L748.0,342.0 732.0,342.0\" fill=\"currentColor\"/>\n",
              "</g>\n",
              "\n",
              "<g class=\"displacy-arrow\">\n",
              "    <path class=\"displacy-arc\" id=\"arrow-15fa3fee244748a79fc1afb45bdf5f2d-0-4\" stroke-width=\"2px\" d=\"M945,352.0 C945,264.5 1085.0,264.5 1085.0,352.0\" fill=\"none\" stroke=\"currentColor\"/>\n",
              "    <text dy=\"1.25em\" style=\"font-size: 0.8em; letter-spacing: 1px\">\n",
              "        <textPath xlink:href=\"#arrow-15fa3fee244748a79fc1afb45bdf5f2d-0-4\" class=\"displacy-label\" startOffset=\"50%\" side=\"left\" fill=\"currentColor\" text-anchor=\"middle\">amod</textPath>\n",
              "    </text>\n",
              "    <path class=\"displacy-arrowhead\" d=\"M945,354.0 L937,342.0 953,342.0\" fill=\"currentColor\"/>\n",
              "</g>\n",
              "\n",
              "<g class=\"displacy-arrow\">\n",
              "    <path class=\"displacy-arc\" id=\"arrow-15fa3fee244748a79fc1afb45bdf5f2d-0-5\" stroke-width=\"2px\" d=\"M420,352.0 C420,89.5 1095.0,89.5 1095.0,352.0\" fill=\"none\" stroke=\"currentColor\"/>\n",
              "    <text dy=\"1.25em\" style=\"font-size: 0.8em; letter-spacing: 1px\">\n",
              "        <textPath xlink:href=\"#arrow-15fa3fee244748a79fc1afb45bdf5f2d-0-5\" class=\"displacy-label\" startOffset=\"50%\" side=\"left\" fill=\"currentColor\" text-anchor=\"middle\">oprd</textPath>\n",
              "    </text>\n",
              "    <path class=\"displacy-arrowhead\" d=\"M1095.0,354.0 L1103.0,342.0 1087.0,342.0\" fill=\"currentColor\"/>\n",
              "</g>\n",
              "\n",
              "<g class=\"displacy-arrow\">\n",
              "    <path class=\"displacy-arc\" id=\"arrow-15fa3fee244748a79fc1afb45bdf5f2d-0-6\" stroke-width=\"2px\" d=\"M245,352.0 C245,2.0 1275.0,2.0 1275.0,352.0\" fill=\"none\" stroke=\"currentColor\"/>\n",
              "    <text dy=\"1.25em\" style=\"font-size: 0.8em; letter-spacing: 1px\">\n",
              "        <textPath xlink:href=\"#arrow-15fa3fee244748a79fc1afb45bdf5f2d-0-6\" class=\"displacy-label\" startOffset=\"50%\" side=\"left\" fill=\"currentColor\" text-anchor=\"middle\">prep</textPath>\n",
              "    </text>\n",
              "    <path class=\"displacy-arrowhead\" d=\"M1275.0,354.0 L1283.0,342.0 1267.0,342.0\" fill=\"currentColor\"/>\n",
              "</g>\n",
              "\n",
              "<g class=\"displacy-arrow\">\n",
              "    <path class=\"displacy-arc\" id=\"arrow-15fa3fee244748a79fc1afb45bdf5f2d-0-7\" stroke-width=\"2px\" d=\"M1470,352.0 C1470,264.5 1610.0,264.5 1610.0,352.0\" fill=\"none\" stroke=\"currentColor\"/>\n",
              "    <text dy=\"1.25em\" style=\"font-size: 0.8em; letter-spacing: 1px\">\n",
              "        <textPath xlink:href=\"#arrow-15fa3fee244748a79fc1afb45bdf5f2d-0-7\" class=\"displacy-label\" startOffset=\"50%\" side=\"left\" fill=\"currentColor\" text-anchor=\"middle\">det</textPath>\n",
              "    </text>\n",
              "    <path class=\"displacy-arrowhead\" d=\"M1470,354.0 L1462,342.0 1478,342.0\" fill=\"currentColor\"/>\n",
              "</g>\n",
              "\n",
              "<g class=\"displacy-arrow\">\n",
              "    <path class=\"displacy-arc\" id=\"arrow-15fa3fee244748a79fc1afb45bdf5f2d-0-8\" stroke-width=\"2px\" d=\"M1295,352.0 C1295,177.0 1615.0,177.0 1615.0,352.0\" fill=\"none\" stroke=\"currentColor\"/>\n",
              "    <text dy=\"1.25em\" style=\"font-size: 0.8em; letter-spacing: 1px\">\n",
              "        <textPath xlink:href=\"#arrow-15fa3fee244748a79fc1afb45bdf5f2d-0-8\" class=\"displacy-label\" startOffset=\"50%\" side=\"left\" fill=\"currentColor\" text-anchor=\"middle\">pobj</textPath>\n",
              "    </text>\n",
              "    <path class=\"displacy-arrowhead\" d=\"M1615.0,354.0 L1623.0,342.0 1607.0,342.0\" fill=\"currentColor\"/>\n",
              "</g>\n",
              "</svg>"
            ],
            "text/plain": [
              "<IPython.core.display.HTML object>"
            ]
          },
          "metadata": {
            "tags": []
          }
        }
      ]
    },
    {
      "cell_type": "code",
      "metadata": {
        "id": "cYbK8x-gXyS-",
        "colab_type": "code",
        "outputId": "ab58f3f7-a797-4425-9f2e-92d8b5eb101b",
        "colab": {
          "base_uri": "https://localhost:8080/",
          "height": 170
        }
      },
      "source": [
        "sent = next(nlp(\"An instrument called ammeter measures electric current in a circuit.\").sents)\n",
        "sent = next(nlp(\"A continuous and closed path of an electric current is called an electric circuit.\").sents)\n",
        "for tok in sent:\n",
        "  if tok.pos_ == \"ADJ\":\n",
        "    print(tok.text, tok.prob, tok.dep_, tok.cluster, [s.text for s in find_similar(tok,offset=7)])\n",
        "sent.root"
      ],
      "execution_count": 0,
      "outputs": [
        {
          "output_type": "stream",
          "text": [
            "173\n",
            "continuous -12.275837898254395 amod 1831 ['predetermined', 'partial', 'corresponding', 'incessant', 'considerable', 'relentless', 'simulated', 'proper', 'permanent', 'broad']\n",
            "0\n",
            "closed -10.28239917755127 conj 2858 []\n",
            "25\n",
            "electric -11.099902153015137 amod 1463 ['outdoor', 'sanitary', 'decorative', 'optical', 'filtration', 'marine', 'agricultural', 'audio', 'organic', 'raw']\n",
            "25\n",
            "electric -11.099902153015137 amod 1463 ['outdoor', 'sanitary', 'decorative', 'optical', 'filtration', 'marine', 'agricultural', 'audio', 'organic', 'raw']\n"
          ],
          "name": "stdout"
        },
        {
          "output_type": "execute_result",
          "data": {
            "text/plain": [
              "called"
            ]
          },
          "metadata": {
            "tags": []
          },
          "execution_count": 153
        }
      ]
    },
    {
      "cell_type": "markdown",
      "metadata": {
        "id": "RF57Kj-biwbS",
        "colab_type": "text"
      },
      "source": [
        ""
      ]
    },
    {
      "cell_type": "code",
      "metadata": {
        "id": "kV2DeYitkUu-",
        "colab_type": "code",
        "outputId": "71ca865f-7cc2-473a-e936-78e15628750b",
        "colab": {
          "base_uri": "https://localhost:8080/",
          "height": 204
        }
      },
      "source": [
        "def find_similar(tok, offset = 10):\n",
        "  querry = [ w for w in tok.vocab if w.cluster  == tok.cluster \\\n",
        "            and w.prob > -15 and w.has_vector and w.is_lower \\\n",
        "            and  w.is_alpha and len(w.text)>2 and w.text != tok.text ]#and w.pos  == tok.pos]\n",
        "  similar = sorted(querry, key=lambda w: tok.similarity(w), reverse=True)\n",
        "  print(len(querry))\n",
        "  # return similar[offset:offset+10]\n",
        "  return similar[offset:offset+10]\n",
        "tok = nlp('It is an ammeter')[3]\n",
        "similar = find_similar(tok)\n",
        "\n",
        "[s.text for s in similar]\n",
        "# s.suffix_ , s.text\n"
      ],
      "execution_count": 0,
      "outputs": [
        {
          "output_type": "stream",
          "text": [
            "5671\n"
          ],
          "name": "stdout"
        },
        {
          "output_type": "execute_result",
          "data": {
            "text/plain": [
              "['preamp',\n",
              " 'amps',\n",
              " 'speedo',\n",
              " 'phono',\n",
              " 'leds',\n",
              " 'condenser',\n",
              " 'unplugging',\n",
              " 'blinker',\n",
              " 'unplug',\n",
              " 'soldered']"
            ]
          },
          "metadata": {
            "tags": []
          },
          "execution_count": 141
        }
      ]
    },
    {
      "cell_type": "code",
      "metadata": {
        "id": "pd6i-zx8MOT8",
        "colab_type": "code",
        "colab": {}
      },
      "source": [
        ""
      ],
      "execution_count": 0,
      "outputs": []
    },
    {
      "cell_type": "code",
      "metadata": {
        "id": "WvTj-dqey1cY",
        "colab_type": "code",
        "colab": {}
      },
      "source": [
        "def get_entities(doc):\n",
        "  ## chunk 1\n",
        "  subjects = []\n",
        "  objects =  []\n",
        "  relations = []\n",
        "  sentences = []\n",
        "  prefix = \"\"\n",
        "  modifier = \"\"\n",
        "  pattern = [{'DEP':'ROOT'}, \n",
        "            {'DEP':'prep','OP':\"?\"},\n",
        "            {'DEP':'agent','OP':\"?\"},  \n",
        "            {'POS':'ADJ','OP':\"?\"}] \n",
        "  matcher.add(\"sub_obj_relation\", None, pattern)\n",
        "  matches = matcher(doc)\n",
        "  sents = doc.sents\n",
        "  for sent in sents :\n",
        "    subject_ = \"\"\n",
        "    object_ =\"\"\n",
        "    relation = \"\"\n",
        "    for match in matches :\n",
        "      if sent.start <= match[1] and sent.end >= match[2] : \n",
        "        relation  =  doc[match[1] :  match[2]].text\n",
        "    for i,  tok in enumerate(sent) :\n",
        "      if tok.dep_ != \"punct\":\n",
        "        \n",
        "        if tok.dep_ == \"compound\":\n",
        "          prefix = tok.text\n",
        "          \n",
        "          if i > 0  and  prv_tok.dep_ == \"compound\":\n",
        "            prefix = prv_tok_text + \" \"+ tok.text\n",
        "        if tok.dep_.endswith(\"mod\") == True:\n",
        "          modifier = tok.text\n",
        "          if i > 0  and prv_tok.dep_ == \"compound\":\n",
        "            modifier = prv_tok_text + \" \"+ tok.text\n",
        "        if tok.dep_.find(\"subj\") == True:\n",
        "          subject_ = modifier +\" \"+ prefix + \" \"+ tok.text\n",
        "          prefix = \"\"\n",
        "          modifier = \"\"\n",
        "          prv_tok_dep = \"\"\n",
        "          prv_tok_text = \"\"     \n",
        "        if tok.dep_.find(\"obj\") == True:\n",
        "          object_ = modifier +\" \"+ prefix +\" \"+ tok.text\n",
        "        prv_tok = tok\n",
        "    if len(relation)>0 : \n",
        "      relations.append(relation)\n",
        "      subjects.append(subject_.strip())\n",
        "      objects.append(object_.strip())\n",
        "      sentences.append(sent.text)\n",
        "  matcher.remove(\"sub_obj_relation\")\n",
        "  return pd.DataFrame({\"subject\": subjects, \"object\":objects, \"relation\":relations, 'sentence': sentences})\n"
      ],
      "execution_count": 0,
      "outputs": []
    },
    {
      "cell_type": "code",
      "metadata": {
        "id": "cXJEO_X31rKw",
        "colab_type": "code",
        "colab": {}
      },
      "source": [
        "df = get_entities(doc)\n",
        "for i in range(len(df)):\n",
        "  print(df[\"subject\"][i], \" | \",df[\"object\"][i], \" | \",df[\"relation\"][i], \" | \",df[\"sentence\"][i])"
      ],
      "execution_count": 0,
      "outputs": []
    },
    {
      "cell_type": "code",
      "metadata": {
        "id": "DsTXjVCARjxA",
        "colab_type": "code",
        "outputId": "d11ad762-4f55-40af-9f09-becb5b0a22b9",
        "colab": {
          "base_uri": "https://localhost:8080/",
          "height": 52
        }
      },
      "source": [
        "from nltk.corpus import wordnet\n",
        "synonyms = [] \n",
        "antonyms = [] \n",
        "  \n",
        "for syn in wordnet.synsets(\"solids\", 'n'): \n",
        "    for l in syn.lemmas(): \n",
        "        synonyms.append(l.name()) \n",
        "        if l.antonyms(): \n",
        "            antonyms.append(l.antonyms()[0].name()) \n",
        "  \n",
        "print(set(synonyms)) \n",
        "print(set(antonyms))"
      ],
      "execution_count": 0,
      "outputs": [
        {
          "output_type": "stream",
          "text": [
            "{'solid_state', 'solid', 'solidness'}\n",
            "set()\n"
          ],
          "name": "stdout"
        }
      ]
    },
    {
      "cell_type": "code",
      "metadata": {
        "id": "KY4eqjun0nW6",
        "colab_type": "code",
        "colab": {}
      },
      "source": [
        "def detect_noun(doc):\n",
        "    n = []\n",
        "    noun =[]\n",
        "    propn =[]\n",
        "    for token in doc :\n",
        "      if token.pos_ == \"NOUN\" and token.is_alpha and not token.lemma_ in n:\n",
        "        n.append(token.lemma_)\n",
        "        noun.append(token)\n",
        "      if token.pos_  == \"PROPN\" and token.is_alpha:\n",
        "        propn.append(token)\n",
        "    return noun, propn\n",
        "\n",
        "noun, propn = detect_noun(doc)\n",
        "\n",
        "\n",
        "# for i  in range(len(noun)) : \n",
        "#   for j in range(i, len(noun)) :\n",
        "#     mat[i,j] = noun[i].similarity(noun[j])\n",
        "#     mat[j,i] =  mat[i,j]\n",
        "\n"
      ],
      "execution_count": 0,
      "outputs": []
    },
    {
      "cell_type": "code",
      "metadata": {
        "id": "GLs12TWvay8L",
        "colab_type": "code",
        "outputId": "63f0906b-d7fc-4752-a1e0-f6ebdb694de5",
        "colab": {
          "base_uri": "https://localhost:8080/",
          "height": 1000
        }
      },
      "source": [
        "tok = nlp(\"I had lower than average stat today\")[2]\n",
        "similar  =  find_similar(tok, offset=0)\n",
        "mat =  np.zeros((len(similar), len(similar)))\n",
        "for i  in range(len(similar)) : \n",
        "  syni = wordnet.synsets(similar[i].lower_, 'a')\n",
        "  if syni :\n",
        "    for j in range(i, len(similar)) :\n",
        "      \n",
        "      synj = wordnet.synsets(similar[j].lower_, 'a')\n",
        "      if synj :\n",
        "        mat[i,j] = syni[0].lch_similarity(synj[0])\n",
        "        mat[j,i] =  mat[i,j]\n",
        "n = [n.text for n in similar]\n",
        "df_noun =  pd.DataFrame(mat, index =n, columns=n )\n",
        "sns.set(rc={'figure.figsize':(21,21)})\n",
        "sns.heatmap(df_noun, annot=False)"
      ],
      "execution_count": 0,
      "outputs": [
        {
          "output_type": "stream",
          "text": [
            "3\n"
          ],
          "name": "stdout"
        },
        {
          "output_type": "execute_result",
          "data": {
            "text/plain": [
              "<matplotlib.axes._subplots.AxesSubplot at 0x7f80dd6a0390>"
            ]
          },
          "metadata": {
            "tags": []
          },
          "execution_count": 37
        },
        {
          "output_type": "display_data",
          "data": {
            "image/png": "[encoded data removed]",
            "text/plain": [
              "<Figure size 1512x1512 with 2 Axes>"
            ]
          },
          "metadata": {
            "tags": []
          }
        }
      ]
    },
    {
      "cell_type": "code",
      "metadata": {
        "id": "l6EaBE7OK8cP",
        "colab_type": "code",
        "colab": {}
      },
      "source": [
        "def root_negation(span):\n",
        "  # find all verbs in the span\n",
        "  # if more than one verb select:\n",
        "  # 1. non have am be is form\n",
        "  # 2. select root verb\n",
        "  # check if previus ofr next token is negative\n",
        "  # for the sentence negation on the verb\n",
        "  aux_verb = [ 'am', 'are', 'is', 'was', 'were', 'being', 'been', 'can', 'could', 'dare', 'do' ,'does', 'did', 'have', 'has', 'had', 'having', 'may', 'might', 'must', 'need', 'ought', 'shall', 'should', 'will', 'would']\n",
        "\n",
        "  aux_verb_neg = [ 'am not', 'are not', 'is not', 'was not', 'were not', 'not being', 'not been', 'can not', 'could not', 'dare not', 'do not' ,'doesnt', 'did not', 'dont have', 'doesnt have', 'had not', 'not having', 'may not', 'might not', 'must not', 'need not', 'ought not', 'shall not', 'should not', 'will not', 'would not']\n",
        "  map_aux = {aux_verb[i] : aux_verb_neg[i] for i in range(len(aux_verb))}\n",
        "  root  =  span.root\n",
        "  if root.pos_ != \"VERB\":\n",
        "    return span.text ,  False\n",
        "  distr =  [tok.text for tok in span]\n",
        "  negated = False\n",
        "  if root.i > span.start :\n",
        "    prev = span[root.i -1 - sent.start]\n",
        "    if prev.lower_ == \"not\" or prev.lower_ == \"no\":\n",
        "      negated = True\n",
        "      del distr[root.i -1 - sent.start]\n",
        "      return \" \".join(distr) , True\n",
        "    elif   prev.suffix_ ==\"'nt\" or prev.suffix_ ==\"nt\" :\n",
        "      negated  = True\n",
        "      distr[root.i -1 - sent.start] = prev.text[:-len(prev.suffix_)]\n",
        "      return \" \".join(distr) , True\n",
        "  if  root.i < span.end :\n",
        "    after = span[root.i +1 - sent.start]\n",
        "    if after.lower_ == \"not\" or after.lower_ == \"no\":\n",
        "      negated = True\n",
        "      del distr[root.i +1 - sent.start]\n",
        "      return \" \".join(distr) , True\n",
        "    elif   after.suffix_ ==\"'nt\" or after.suffix_ ==\"nt\" :\n",
        "      negated  = True\n",
        "      distr[root.i +1 - sent.start] = after.text[:-len(after.suffix_)]\n",
        "      return \" \".join(distr) , True\n",
        "  if root.lower_ in aux_verb :\n",
        "    distr[root.i -span.start] =map_aux[ root.lower_ ]\n",
        "  else :\n",
        "    if span[root.i -1-span.start].lower_ in aux_verb :\n",
        "      distr[root.i -1 -span.start] =  map_aux[span[root.i -1-span.start].lower_ ]\n",
        "    elif root.tag_ ==\"VBN\" : \n",
        "      distr.insert(root.i -span.start ,  \"not\")\n",
        "    else:\n",
        "      distr.insert(root.i -span.start ,  \"do not\")\n",
        "    print(\"do not\", root.lower_,span[root.i -1-span.start].lower_ )\n",
        "  return  \" \".join(distr) , True"
      ],
      "execution_count": 0,
      "outputs": []
    },
    {
      "cell_type": "code",
      "metadata": {
        "id": "jluLxSSHF1Yn",
        "colab_type": "code",
        "outputId": "791a72ce-aa80-40b4-a0c2-6543ec79bdaf",
        "colab": {
          "base_uri": "https://localhost:8080/",
          "height": 1000
        }
      },
      "source": [
        "i = 0 \n",
        "for sent in doc.sents:\n",
        "  print(i , sent,\"|\",sent.root, sent.root.tag_ )\n",
        "  print(i ,  root_negation(sent)[0])\n",
        "  print(\"-----------------------------\")\n",
        "  # print(sent[0].lower_ == \"we\")\n",
        "  i+=1"
      ],
      "execution_count": 0,
      "outputs": [
        {
          "output_type": "stream",
          "text": [
            "0 We are familiar with air current and water current. | are VBP\n",
            "0 We are not familiar with air current and water current .\n",
            "-----------------------------\n",
            "1 We know that flowing water constitute water current in rivers. | know VBP\n",
            "do not know we\n",
            "1 We do not know that flowing water constitute water current in rivers .\n",
            "-----------------------------\n",
            "2 Similarly, if the electric charge flows through a conductor (for example, through a metallic wire), we say that there is an electric current in the conductor. | say VBP\n",
            "do not say we\n",
            "2 Similarly , if the electric charge flows through a conductor ( for example , through a metallic wire ) , we do not say that there is an electric current in the conductor .\n",
            "-----------------------------\n",
            "3 In a torch, we know that the cells (or a battery, when placed in proper order) provide flow of charges or an electric current through the torch bulb to glow. | know VBP\n",
            "do not know we\n",
            "3 In a torch , we do not know that the cells ( or a battery , when placed in proper order ) provide flow of charges or an electric current through the torch bulb to glow .\n",
            "-----------------------------\n",
            "4 We have also seen that the torch gives light only when its switch is on. | seen VBN\n",
            "do not seen also\n",
            "4 We have also not seen that the torch gives light only when its switch is on .\n",
            "-----------------------------\n",
            "5 What does a switch do? | do VB\n",
            "5 What does a switch do not ?\n",
            "-----------------------------\n",
            "6 A switch makes a conducting link between the cell and the bulb. | makes VBZ\n",
            "do not makes switch\n",
            "6 A switch do not makes a conducting link between the cell and the bulb .\n",
            "-----------------------------\n",
            "7 A continuous and closed path of an electric current is called an electric circuit. | called VBN\n",
            "do not called is\n",
            "7 A continuous and closed path of an electric current is not called an electric circuit .\n",
            "-----------------------------\n",
            "8 Now, if the circuit is broken anywhere (or the switch of the torch is turned off), the current stops flowing and the bulb does not glow. | glow VB\n",
            "8 Now , if the circuit is broken anywhere ( or the switch of the torch is turned off ) , the current stops flowing and the bulb does glow .\n",
            "-----------------------------\n",
            "9 How do we express electric current? | express VB\n",
            "do not express we\n",
            "9 How do we do not express electric current ?\n",
            "-----------------------------\n",
            "10 Electric current is expressed by the amount of charge flowing through a particular area in unit time. | expressed VBN\n",
            "do not expressed is\n",
            "10 Electric current is not expressed by the amount of charge flowing through a particular area in unit time .\n",
            "-----------------------------\n",
            "11 In other words, it is the rate of flow of electric charges. | is VBZ\n",
            "11 In other words , it is not the rate of flow of electric charges .\n",
            "-----------------------------\n",
            "12 In circuits using metallic wires, electrons constitute the flow of charges. | constitute VBP\n",
            "do not constitute electrons\n",
            "12 In circuits using metallic wires , electrons do not constitute the flow of charges .\n",
            "-----------------------------\n",
            "13 However, electrons were not known at the time when the phenomenon of electricity was first observed. | known VBN\n",
            "13 However , electrons were known at the time when the phenomenon of electricity was first observed .\n",
            "-----------------------------\n",
            "14 So, electric current was considered to be the flow of positive charges and the direction of flow of positive charges was taken to be the direction of electric current. | considered VBN\n",
            "do not considered was\n",
            "14 So , electric current was not considered to be the flow of positive charges and the direction of flow of positive charges was taken to be the direction of electric current .\n",
            "-----------------------------\n",
            "15 Conventionally, in an electric circuit the direction of electric current is taken as opposite to the direction of the flow of electrons, which are negative charges. | taken VBN\n",
            "do not taken is\n",
            "15 Conventionally , in an electric circuit the direction of electric current is not taken as opposite to the direction of the flow of electrons , which are negative charges .\n",
            "-----------------------------\n",
            "16 The SI unit of electric charge is coulomb (C), which is equivalent to the charge contained in nearly 6 × 1018 electrons. | is VBZ\n",
            "16 The SI unit of electric charge is not coulomb ( C ) , which is equivalent to the charge contained in nearly 6 × 1018 electrons .\n",
            "-----------------------------\n",
            "17 (We know that an electron possesses a negative charge of 1.6 × 10–19 C.) | know VBP\n",
            "do not know we\n",
            "17 ( We do not know that an electron possesses a negative charge of 1.6 × 10–19 C. )\n",
            "-----------------------------\n",
            "18 The electric current is expressed by a unit called ampere (A), named after the French scientist, Andre-Marie Ampere (1775–1836). | expressed VBN\n",
            "do not expressed is\n",
            "18 The electric current is not expressed by a unit called ampere ( A ) , named after the French scientist , Andre - Marie Ampere ( 1775–1836 ) .\n",
            "-----------------------------\n",
            "19 One ampere is constituted by the flow of one coulomb of charge per second, that is, 1 A = 1 C/1 s. | constituted VBN\n",
            "do not constituted is\n",
            "19 One ampere is not constituted by the flow of one coulomb of charge per second , that is , 1 A = 1 C/1 s.\n",
            "-----------------------------\n",
            "20 Small quantities of current are expressed in milliampere (1 mA = 10–3 A) or in microampere (1 µA = 10–6 A). | expressed VBN\n",
            "do not expressed are\n",
            "20 Small quantities of current are not expressed in milliampere ( 1 mA = 10–3 A ) or in microampere ( 1 µA = 10–6 A ) .\n",
            "-----------------------------\n",
            "21 An instrument called ammeter measures electric current in a circuit. | instrument NN\n",
            "21 An instrument called ammeter measures electric current in a circuit.\n",
            "-----------------------------\n",
            "22 It is always connected in series in a circuit through which the current is to be measured. | connected VBN\n",
            "do not connected always\n",
            "22 It is always not connected in series in a circuit through which the current is to be measured .\n",
            "-----------------------------\n",
            "23 Figure 12.1 shows the schematic diagram of a typical electric circuit comprising a cell, an electric bulb, an ammeter and a plug key. | shows VBZ\n",
            "do not shows 12.1\n",
            "23 Figure 12.1 do not shows the schematic diagram of a typical electric circuit comprising a cell , an electric bulb , an ammeter and a plug key .\n",
            "-----------------------------\n",
            "24 Note that the electric current flows in the circuit from the positive terminal of the cell to the negative terminal of the cell through the bulb and ammeter What makes the electric charge to flow? | Note VB\n",
            "do not note ?\n",
            "24 do not Note that the electric current flows in the circuit from the positive terminal of the cell to the negative terminal of the cell through the bulb and ammeter What makes the electric charge to flow ?\n",
            "-----------------------------\n",
            "25 Let us consider the analogy of flow of water. | Let VB\n",
            "do not let .\n",
            "25 do not Let us consider the analogy of flow of water .\n",
            "-----------------------------\n",
            "26 Charges do not flow in a copper wire by themselves, just as water in a perfectly horizontal tube does not flow. | flow VB\n",
            "26 Charges do flow in a copper wire by themselves , just as water in a perfectly horizontal tube does not flow .\n",
            "-----------------------------\n",
            "27 If one end of the tube is connected to a tank of water kept at a higher level, such that there is a pressure difference between the two ends of the tube, water flows out of the other end of the tube. | connected VBN\n",
            "do not connected is\n",
            "27 If one end of the tube is not connected to a tank of water kept at a higher level , such that there is a pressure difference between the two ends of the tube , water flows out of the other end of the tube .\n",
            "-----------------------------\n",
            "28 For flow of charges in a conducting metallic wire, the gravity, of course, has no role to play; the electrons move only if there is a difference of electric pressure – called the potential difference – along the conductor. | move VBP\n",
            "do not move electrons\n",
            "28 For flow of charges in a conducting metallic wire , the gravity , of course , has no role to play ; the electrons do not move only if there is a difference of electric pressure – called the potential difference – along the conductor .\n",
            "-----------------------------\n",
            "29 This difference of potential may be produced by a battery, consisting of one or more electric cells. | produced VBN\n",
            "do not produced be\n",
            "29 This difference of potential may be not produced by a battery , consisting of one or more electric cells .\n",
            "-----------------------------\n",
            "30 The chemical action within a cell generates the potential difference across the terminals of the cell, even when no current is drawn from it. | generates VBZ\n",
            "do not generates cell\n",
            "30 The chemical action within a cell do not generates the potential difference across the terminals of the cell , even when no current is drawn from it .\n",
            "-----------------------------\n",
            "31 When the cell is connected to a conducting circuit element, the potential difference sets the charges in motion in the conductor and produces an electric current. | sets VBZ\n",
            "do not sets difference\n",
            "31 When the cell is connected to a conducting circuit element , the potential difference do not sets the charges in motion in the conductor and produces an electric current .\n",
            "-----------------------------\n",
            "32 In order to maintain the current in a given electric circuit, the cell has to expend its chemical energy stored in it. | has VBZ\n",
            "32 In order to maintain the current in a given electric circuit , the cell doesnt have to expend its chemical energy stored in it .\n",
            "-----------------------------\n"
          ],
          "name": "stdout"
        }
      ]
    },
    {
      "cell_type": "code",
      "metadata": {
        "id": "IzzIzITr6QTX",
        "colab_type": "code",
        "colab": {}
      },
      "source": [
        "def is_number(x):\n",
        "    if type(x) == str:\n",
        "        x = x.replace(',', '')\n",
        "    try:\n",
        "        float(x)\n",
        "    except:\n",
        "        return False\n",
        "    return True\n",
        "\n",
        "def text2int (textnum, numwords={}):\n",
        "    units = [\n",
        "        'zero', 'one', 'two', 'three', 'four', 'five', 'six', 'seven', 'eight',\n",
        "        'nine', 'ten', 'eleven', 'twelve', 'thirteen', 'fourteen', 'fifteen',\n",
        "        'sixteen', 'seventeen', 'eighteen', 'nineteen',\n",
        "    ]\n",
        "    tens = ['', '', 'twenty', 'thirty', 'forty', 'fifty', 'sixty', 'seventy', 'eighty', 'ninety']\n",
        "    scales = ['hundred', 'thousand', 'million', 'billion', 'trillion']\n",
        "    ordinal_words = {'first':1, 'second':2, 'third':3, 'fifth':5, 'eighth':8, 'ninth':9, 'twelfth':12}\n",
        "    ordinal_endings = [('ieth', 'y'), ('th', '')]\n",
        "\n",
        "    if not numwords:\n",
        "        numwords['and'] = (1, 0)\n",
        "        for idx, word in enumerate(units): numwords[word] = (1, idx)\n",
        "        for idx, word in enumerate(tens): numwords[word] = (1, idx * 10)\n",
        "        for idx, word in enumerate(scales): numwords[word] = (10 ** (idx * 3 or 2), 0)\n",
        "\n",
        "    textnum = textnum.replace('-', ' ')\n",
        "\n",
        "    current = result = 0\n",
        "    curstring = ''\n",
        "    onnumber = False\n",
        "    lastunit = False\n",
        "    lastscale = False\n",
        "\n",
        "    def is_numword(x):\n",
        "        if is_number(x):\n",
        "            return True\n",
        "        if word in numwords:\n",
        "            return True\n",
        "        return False\n",
        "\n",
        "    def from_numword(x):\n",
        "        if is_number(x):\n",
        "            scale = 0\n",
        "            increment = int(x.replace(',', ''))\n",
        "            return scale, increment\n",
        "        return numwords[x]\n",
        "\n",
        "    for word in textnum.split():\n",
        "        if word in ordinal_words:\n",
        "            scale, increment = (1, ordinal_words[word])\n",
        "            current = current * scale + increment\n",
        "            if scale > 100:\n",
        "                result += current\n",
        "                current = 0\n",
        "            onnumber = True\n",
        "            lastunit = False\n",
        "            lastscale = False\n",
        "        else:\n",
        "            for ending, replacement in ordinal_endings:\n",
        "                if word.endswith(ending):\n",
        "                    word = \"%s%s\" % (word[:-len(ending)], replacement)\n",
        "\n",
        "            if (not is_numword(word)) or (word == 'and' and not lastscale):\n",
        "                if onnumber:\n",
        "                    # Flush the current number we are building\n",
        "                    curstring += repr(result + current) + \" \"\n",
        "                curstring += word + \" \"\n",
        "                result = current = 0\n",
        "                onnumber = False\n",
        "                lastunit = False\n",
        "                lastscale = False\n",
        "            else:\n",
        "                scale, increment = from_numword(word)\n",
        "                onnumber = True\n",
        "\n",
        "                if lastunit and (word not in scales):                                                                                                                                                                                                                                         \n",
        "                    # Assume this is part of a string of individual numbers to                                                                                                                                                                                                                \n",
        "                    # be flushed, such as a zipcode \"one two three four five\"                                                                                                                                                                                                                 \n",
        "                    curstring += repr(result + current)                                                                                                                                                                                                                                       \n",
        "                    result = current = 0                                                                                                                                                                                                                                                      \n",
        "\n",
        "                if scale > 1:                                                                                                                                                                                                                                                                 \n",
        "                    current = max(1, current)                                                                                                                                                                                                                                                 \n",
        "\n",
        "                current = current * scale + increment                                                                                                                                                                                                                                         \n",
        "                if scale > 100:                                                                                                                                                                                                                                                               \n",
        "                    result += current                                                                                                                                                                                                                                                         \n",
        "                    current = 0                                                                                                                                                                                                                                                               \n",
        "\n",
        "                lastscale = False                                                                                                                                                                                                              \n",
        "                lastunit = False                                                                                                                                                \n",
        "                if word in scales:                                                                                                                                                                                                             \n",
        "                    lastscale = True                                                                                                                                                                                                         \n",
        "                elif word in units:                                                                                                                                                                                                             \n",
        "                    lastunit = True\n",
        "\n",
        "    if onnumber:\n",
        "        curstring += repr(result + current)\n",
        "\n",
        "    return curstring"
      ],
      "execution_count": 0,
      "outputs": []
    },
    {
      "cell_type": "code",
      "metadata": {
        "id": "dy4vwATHQY5Q",
        "colab_type": "code",
        "colab": {}
      },
      "source": [
        "def cardinality_change(span, ordinal =True):\n",
        "  ratio_sel = np.concatenate((np.arange(0.1,0.25,0.5), np.arange(5, 20, 5)))\n",
        "  ratio = ratio_sel[np.random.choice(len(ratio_sel),3,replace =  False)]\n",
        "  sent = span.sent\n",
        "  distr =  [tok.text for tok in sent]\n",
        "  tok =  span[0]\n",
        "  prev=  sent[tok.i -1 -sent.start]\n",
        "  if prev.lower_ in [\"figure\", \"fig\", \"graph\" ,\"table\"] :\n",
        "    return [sent.text] , [], False\n",
        "  try : \n",
        "    num = int(text2int(span.lower_))\n",
        "    \n",
        "  except :\n",
        "    try :\n",
        "      num = float(span.lower_.split(\" \")[0])\n",
        "    except:\n",
        "      return [sent.text] ,[], False\n",
        "  answers = []\n",
        "\n",
        "  dist_num  = num *ratio\n",
        "  if num > 10 :\n",
        "    dist_num =dist_num.astype('int32')\n",
        "  else :\n",
        "    dist_num = [round(d,2) for d  in  dist_num] \n",
        "  if tok.is_alpha:\n",
        "    distr_txt= [num2words(int(f), ordinal=ordinal) for f in dist_num]\n",
        "  else:\n",
        "    distr_txt = [str(f) for f in dist_num]\n",
        "  for r in distr_txt:\n",
        "    text = distr.copy()\n",
        "    del text[ent.start - sent.start: ent.end- sent.start]\n",
        "    # print(r,distr, text)\n",
        "    text.insert(tok.i-sent.start , r)\n",
        "    answers.append(\" \".join(text))\n",
        "  \n",
        "  # matcher.remove(\"cardinal\")\n",
        "  return answers ,distr_txt , True"
      ],
      "execution_count": 0,
      "outputs": []
    },
    {
      "cell_type": "code",
      "metadata": {
        "id": "DY6XUKDvZpgd",
        "colab_type": "code",
        "colab": {}
      },
      "source": [
        "def entity_substitution(span):\n",
        "  sent = span.sent\n",
        "  distr = [tok.text  for tok in sent]\n",
        "  tok =  span[0]\n",
        "  similar = np.array(find_similar( tok, offset = 2))\n",
        "  # print(similar)\n",
        "  if len(similar) >  3 :\n",
        "    # print(len(similar),np.random.choice(len(similar),3, replace= False))\n",
        "    #  ratio_sel[np.random.choice(len(ratio_sel),3,replace =  False)]\n",
        "    dist_ent = similar[np.random.choice(len(similar),3, replace= False)]\n",
        "    \n",
        "    distraction =[]\n",
        "    for i in range(len(dist_ent)) :\n",
        "      distr[tok.i -sent.start] = dist_ent[i].text.title()\n",
        "      distraction.append(\" \".join(distr))\n",
        "      # print(\" \".join(distr))\n",
        "    return distraction ,[e.text for e  in  dist_ent] ,  True\n",
        "  return [sent.text] , [] , False"
      ],
      "execution_count": 0,
      "outputs": []
    },
    {
      "cell_type": "code",
      "metadata": {
        "id": "4Jw9H1t9I83S",
        "colab_type": "code",
        "outputId": "8d1f271a-20d5-46fd-e95a-efdf5a32f762",
        "colab": {
          "base_uri": "https://localhost:8080/",
          "height": 810
        }
      },
      "source": [
        "for i, ent in   enumerate(doc.ents):\n",
        "  ent_typ = ent[0].ent_type_\n",
        "  status =  False\n",
        "  if ent_typ in ['ORG' , \"NORP\" , \"GPE\", \"LOC\"] :\n",
        "    distraction , _, status  =  entity_substitution(ent)\n",
        "\n",
        "  elif ent_typ in ['MONEY' , \"CARDINAL\" , \"GPE\", \"LOC\", \"QUANTITY\"] :\n",
        "    distraction ,_, status  =  cardinality_change(ent, ordinal =False)\n",
        "  elif ent_typ in [ \"ORDINAL\"] :\n",
        "    distraction ,_, status  =  cardinality_change(ent, ordinal =True)\n",
        "  if status :\n",
        "    print(\"{}. {} ##### | {} | {}\".format(i, ent.sent, ent.text,ent_typ) )\n",
        "    print(i, distraction)\n",
        "    print(\"-------------\")\n",
        "\n"
      ],
      "execution_count": 0,
      "outputs": [
        {
          "output_type": "stream",
          "text": [
            "SI\n",
            "46\n",
            "0. The SI unit of electric charge is coulomb (C), which is equivalent to the charge contained in nearly 6 × 1018 electrons. ##### | SI | ORG\n",
            "0 ['The Dee unit of electric charge is coulomb ( C ) , which is equivalent to the charge contained in nearly 6 × 1018 electrons .', 'The Modelo unit of electric charge is coulomb ( C ) , which is equivalent to the charge contained in nearly 6 × 1018 electrons .', 'The Bei unit of electric charge is coulomb ( C ) , which is equivalent to the charge contained in nearly 6 × 1018 electrons .']\n",
            "-------------\n",
            "1. The SI unit of electric charge is coulomb (C), which is equivalent to the charge contained in nearly 6 × 1018 electrons. ##### | 6 × 1018 | QUANTITY\n",
            "1 ['The SI unit of electric charge is coulomb ( C ) , which is equivalent to the charge contained in nearly 0.6 electrons .', 'The SI unit of electric charge is coulomb ( C ) , which is equivalent to the charge contained in nearly 60.0 electrons .', 'The SI unit of electric charge is coulomb ( C ) , which is equivalent to the charge contained in nearly 30.0 electrons .']\n",
            "-------------\n",
            "2. (We know that an electron possesses a negative charge of 1.6 × 10–19 C.) ##### | 1.6 × | CARDINAL\n",
            "2 ['( We know that an electron possesses a negative charge of 0.16 10–19 C. )', '( We know that an electron possesses a negative charge of 24.0 10–19 C. )', '( We know that an electron possesses a negative charge of 8.0 10–19 C. )']\n",
            "-------------\n",
            "French\n",
            "11\n",
            "3. The electric current is expressed by a unit called ampere (A), named after the French scientist, Andre-Marie Ampere (1775–1836). ##### | French | NORP\n",
            "3 ['The electric current is expressed by a unit called ampere ( A ) , named after the Norwegian scientist , Andre - Marie Ampere ( 1775–1836 ) .', 'The electric current is expressed by a unit called ampere ( A ) , named after the Greek scientist , Andre - Marie Ampere ( 1775–1836 ) .', 'The electric current is expressed by a unit called ampere ( A ) , named after the Defunct scientist , Andre - Marie Ampere ( 1775–1836 ) .']\n",
            "-------------\n",
            "5. One ampere is constituted by the flow of one coulomb of charge per second, that is, 1 A = 1 C/1 s. ##### | One | CARDINAL\n",
            "5 ['fifteen ampere is constituted by the flow of one coulomb of charge per second , that is , 1 A = 1 C/1 s.', 'ten ampere is constituted by the flow of one coulomb of charge per second , that is , 1 A = 1 C/1 s.', 'zero ampere is constituted by the flow of one coulomb of charge per second , that is , 1 A = 1 C/1 s.']\n",
            "-------------\n",
            "7. One ampere is constituted by the flow of one coulomb of charge per second, that is, 1 A = 1 C/1 s. ##### | second | ORDINAL\n",
            "7 ['One ampere is constituted by the flow of one coulomb of charge per zeroth , that is , 1 A = 1 C/1 s.', 'One ampere is constituted by the flow of one coulomb of charge per twentieth , that is , 1 A = 1 C/1 s.', 'One ampere is constituted by the flow of one coulomb of charge per thirtieth , that is , 1 A = 1 C/1 s.']\n",
            "-------------\n",
            "8. One ampere is constituted by the flow of one coulomb of charge per second, that is, 1 A = 1 C/1 s. ##### | 1 | CARDINAL\n",
            "8 ['One ampere is constituted by the flow of one coulomb of charge per second , that is , 15.0 A = 1 C/1 s.', 'One ampere is constituted by the flow of one coulomb of charge per second , that is , 0.1 A = 1 C/1 s.', 'One ampere is constituted by the flow of one coulomb of charge per second , that is , 10.0 A = 1 C/1 s.']\n",
            "-------------\n",
            "9. One ampere is constituted by the flow of one coulomb of charge per second, that is, 1 A = 1 C/1 s. ##### | 1 | CARDINAL\n",
            "9 ['One ampere is constituted by the flow of one coulomb of charge per second , that is , 1 A = 5.0 C/1 s.', 'One ampere is constituted by the flow of one coulomb of charge per second , that is , 1 A = 0.1 C/1 s.', 'One ampere is constituted by the flow of one coulomb of charge per second , that is , 1 A = 10.0 C/1 s.']\n",
            "-------------\n",
            "10. Small quantities of current are expressed in milliampere (1 mA = 10–3 A) or in microampere (1 µA = 10–6 A). ##### | 1 | CARDINAL\n",
            "10 ['Small quantities of current are expressed in milliampere ( 5.0 mA = 10–3 A ) or in microampere ( 1 µA = 10–6 A ) .', 'Small quantities of current are expressed in milliampere ( 10.0 mA = 10–3 A ) or in microampere ( 1 µA = 10–6 A ) .', 'Small quantities of current are expressed in milliampere ( 15.0 mA = 10–3 A ) or in microampere ( 1 µA = 10–6 A ) .']\n",
            "-------------\n",
            "11. Small quantities of current are expressed in milliampere (1 mA = 10–3 A) or in microampere (1 µA = 10–6 A). ##### | 1 | CARDINAL\n",
            "11 ['Small quantities of current are expressed in milliampere ( 1 mA = 10–3 A ) or in microampere ( 10.0 µA = 10–6 A ) .', 'Small quantities of current are expressed in milliampere ( 1 mA = 10–3 A ) or in microampere ( 0.1 µA = 10–6 A ) .', 'Small quantities of current are expressed in milliampere ( 1 mA = 10–3 A ) or in microampere ( 5.0 µA = 10–6 A ) .']\n",
            "-------------\n",
            "13. If one end of the tube is connected to a tank of water kept at a higher level, such that there is a pressure difference between the two ends of the tube, water flows out of the other end of the tube. ##### | one | CARDINAL\n",
            "13 ['If zero end of the tube is connected to a tank of water kept at a higher level , such that there is a pressure difference between the two ends of the tube , water flows out of the other end of the tube .', 'If five end of the tube is connected to a tank of water kept at a higher level , such that there is a pressure difference between the two ends of the tube , water flows out of the other end of the tube .', 'If ten end of the tube is connected to a tank of water kept at a higher level , such that there is a pressure difference between the two ends of the tube , water flows out of the other end of the tube .']\n",
            "-------------\n",
            "14. If one end of the tube is connected to a tank of water kept at a higher level, such that there is a pressure difference between the two ends of the tube, water flows out of the other end of the tube. ##### | two | CARDINAL\n",
            "14 ['If one end of the tube is connected to a tank of water kept at a higher level , such that there is a pressure difference between the thirty ends of the tube , water flows out of the other end of the tube .', 'If one end of the tube is connected to a tank of water kept at a higher level , such that there is a pressure difference between the ten ends of the tube , water flows out of the other end of the tube .', 'If one end of the tube is connected to a tank of water kept at a higher level , such that there is a pressure difference between the zero ends of the tube , water flows out of the other end of the tube .']\n",
            "-------------\n",
            "15. This difference of potential may be produced by a battery, consisting of one or more electric cells. ##### | one | CARDINAL\n",
            "15 ['This difference of potential may be produced by a battery , consisting of fifteen or more electric cells .', 'This difference of potential may be produced by a battery , consisting of zero or more electric cells .', 'This difference of potential may be produced by a battery , consisting of ten or more electric cells .']\n",
            "-------------\n"
          ],
          "name": "stdout"
        }
      ]
    },
    {
      "cell_type": "code",
      "metadata": {
        "id": "lABX-A2oZzv_",
        "colab_type": "code",
        "colab": {}
      },
      "source": [
        "def adjective_antonym(span):\n",
        "  sent = span.sent\n",
        "  distr = [tok.text  for tok in sent]\n",
        "  tok =  span[0]\n",
        "  similar = np.array(find_similar( tok, offset = 2))\n",
        "  # print(span, tok, similar)\n",
        "  # print(similar)\n",
        "  if len(similar) >  3 :\n",
        "    # print(len(similar),np.random.choice(len(similar),3, replace= False))\n",
        "    #  ratio_sel[np.random.choice(len(ratio_sel),3,replace =  False)]\n",
        "    dist_ent = similar[np.random.choice(len(similar),3, replace= False)]\n",
        "    \n",
        "    distraction =[]\n",
        "    for i in range(len(dist_ent)) :\n",
        "      distr[tok.i -sent.start] = dist_ent[i].text\n",
        "      distraction.append(\" \".join(distr))\n",
        "      # print(\" \".join(distr))\n",
        "    return distraction ,[e.text for e  in  dist_ent] ,  True\n",
        "  return [sent.text] , [] , False"
      ],
      "execution_count": 0,
      "outputs": []
    },
    {
      "cell_type": "code",
      "metadata": {
        "id": "6OaJNwjPl_j8",
        "colab_type": "code",
        "outputId": "8071dfec-e0c4-4e88-fa64-d0ec2fc13ed6",
        "colab": {
          "base_uri": "https://localhost:8080/",
          "height": 54
        }
      },
      "source": [
        "doc"
      ],
      "execution_count": 0,
      "outputs": [
        {
          "output_type": "execute_result",
          "data": {
            "text/plain": [
              "We are familiar with air current and water current. We know that flowing water constitute water current in rivers. Similarly, if the electric charge flows through a conductor (for example, through a metallic wire), we say that there is an electric current in the conductor. In a torch, we know that the cells (or a battery, when placed in proper order) provide flow of charges or an electric current through the torch bulb to glow. We have also seen that the torch gives light only when its switch is on. What does a switch do? A switch makes a conducting link between the cell and the bulb. A continuous and closed path of an electric current is called an electric circuit. Now, if the circuit is broken anywhere (or the switch of the torch is turned off), the current stops flowing and the bulb does not glow. How do we express electric current? Electric current is expressed by the amount of charge flowing through a particular area in unit time. In other words, it is the rate of flow of electric charges. In circuits using metallic wires, electrons constitute the flow of charges. However, electrons were not known at the time when the phenomenon of electricity was first observed. So, electric current was considered to be the flow of positive charges and the direction of flow of positive charges was taken to be the direction of electric current. Conventionally, in an electric circuit the direction of electric current is taken as opposite to the direction of the flow of electrons, which are negative charges. The SI unit of electric charge is coulomb (C), which is equivalent to the charge contained in nearly 6 × 1018 electrons. (We know that an electron possesses a negative charge of 1.6 × 10–19 C.) The electric current is expressed by a unit called ampere (A), named after the French scientist, Andre-Marie Ampere (1775–1836). One ampere is constituted by the flow of one coulomb of charge per second, that is, 1 A = 1 C/1 s. Small quantities of current are expressed in milliampere (1 mA = 10–3 A) or in microampere (1 µA = 10–6 A). An instrument called ammeter measures electric current in a circuit. It is always connected in series in a circuit through which the current is to be measured. Figure 12.1 shows the schematic diagram of a typical electric circuit comprising a cell, an electric bulb, an ammeter and a plug key. Note that the electric current flows in the circuit from the positive terminal of the cell to the negative terminal of the cell through the bulb and ammeter What makes the electric charge to flow? Let us consider the analogy of flow of water. Charges do not flow in a copper wire by themselves, just as water in a perfectly horizontal tube does not flow. If one end of the tube is connected to a tank of water kept at a higher level, such that there is a pressure difference between the two ends of the tube, water flows out of the other end of the tube. For flow of charges in a conducting metallic wire, the gravity, of course, has no role to play; the electrons move only if there is a difference of electric pressure – called the potential difference – along the conductor. This difference of potential may be produced by a battery, consisting of one or more electric cells. The chemical action within a cell generates the potential difference across the terminals of the cell, even when no current is drawn from it. When the cell is connected to a conducting circuit element, the potential difference sets the charges in motion in the conductor and produces an electric current. In order to maintain the current in a given electric circuit, the cell has to expend its chemical energy stored in it."
            ]
          },
          "metadata": {
            "tags": []
          },
          "execution_count": 131
        }
      ]
    },
    {
      "cell_type": "code",
      "metadata": {
        "id": "ISwBhThCj4Qc",
        "colab_type": "code",
        "outputId": "edb9b008-ff5a-4d3e-86c6-532a7535def0",
        "colab": {
          "base_uri": "https://localhost:8080/",
          "height": 1000
        }
      },
      "source": [
        "from spacy.attrs import POS\n",
        "matcher =  Matcher(nlp.vocab)\n",
        "pattern = [{POS:\"ADJ\"}]#,{\"POS\":\"JJR\"},{\"POS\":\"JJS\"},]\n",
        "matcher.add(\"adjective\",None, pattern)\n",
        "matches = matcher(doc)\n",
        "# print(matches)\n",
        "spans = [doc[f[1]:f[2]] for f in matches]\n",
        "for i, span in enumerate(spans):\n",
        "  distraction , status  =  adjective_antonym(span)\n",
        "  if status :\n",
        "    print(\"{}. {} ##### | {} \".format(i, span.sent, span.text) )\n",
        "    print(i, distraction)\n",
        "    print(\"-------------\")\n"
      ],
      "execution_count": 0,
      "outputs": [
        {
          "output_type": "stream",
          "text": [
            "96\n",
            "0. We are familiar with air current and water current. ##### | familiar \n",
            "0 ['We are Peppered with air current and water current .', 'We are Imbued with air current and water current .', 'We are Consistent with air current and water current .']\n",
            "-------------\n",
            "2\n",
            "25\n",
            "2. Similarly, if the electric charge flows through a conductor (for example, through a metallic wire), we say that there is an electric current in the conductor. ##### | electric \n",
            "2 ['Similarly , if the Infrared charge flows through a conductor ( for example , through a metallic wire ) , we say that there is an electric current in the conductor .', 'Similarly , if the Outdoor charge flows through a conductor ( for example , through a metallic wire ) , we say that there is an electric current in the conductor .', 'Similarly , if the Decorative charge flows through a conductor ( for example , through a metallic wire ) , we say that there is an electric current in the conductor .']\n",
            "-------------\n",
            "60\n",
            "3. Similarly, if the electric charge flows through a conductor (for example, through a metallic wire), we say that there is an electric current in the conductor. ##### | metallic \n",
            "3 ['Similarly , if the electric charge flows through a conductor ( for example , through a Milky wire ) , we say that there is an electric current in the conductor .', 'Similarly , if the electric charge flows through a conductor ( for example , through a Caustic wire ) , we say that there is an electric current in the conductor .', 'Similarly , if the electric charge flows through a conductor ( for example , through a Tinted wire ) , we say that there is an electric current in the conductor .']\n",
            "-------------\n",
            "25\n",
            "4. Similarly, if the electric charge flows through a conductor (for example, through a metallic wire), we say that there is an electric current in the conductor. ##### | electric \n",
            "4 ['Similarly , if the electric charge flows through a conductor ( for example , through a metallic wire ) , we say that there is an Sanitary current in the conductor .', 'Similarly , if the electric charge flows through a conductor ( for example , through a metallic wire ) , we say that there is an Automotive current in the conductor .', 'Similarly , if the electric charge flows through a conductor ( for example , through a metallic wire ) , we say that there is an Electromagnetic current in the conductor .']\n",
            "-------------\n",
            "173\n",
            "5. In a torch, we know that the cells (or a battery, when placed in proper order) provide flow of charges or an electric current through the torch bulb to glow. ##### | proper \n",
            "5 ['In a torch , we know that the cells ( or a battery , when placed in Continuous order ) provide flow of charges or an electric current through the torch bulb to glow .', 'In a torch , we know that the cells ( or a battery , when placed in Continual order ) provide flow of charges or an electric current through the torch bulb to glow .', 'In a torch , we know that the cells ( or a battery , when placed in Great order ) provide flow of charges or an electric current through the torch bulb to glow .']\n",
            "-------------\n",
            "25\n",
            "6. In a torch, we know that the cells (or a battery, when placed in proper order) provide flow of charges or an electric current through the torch bulb to glow. ##### | electric \n",
            "6 ['In a torch , we know that the cells ( or a battery , when placed in proper order ) provide flow of charges or an Optical current through the torch bulb to glow .', 'In a torch , we know that the cells ( or a battery , when placed in proper order ) provide flow of charges or an Automotive current through the torch bulb to glow .', 'In a torch , we know that the cells ( or a battery , when placed in proper order ) provide flow of charges or an Hydraulic current through the torch bulb to glow .']\n",
            "-------------\n",
            "173\n",
            "7. A continuous and closed path of an electric current is called an electric circuit. ##### | continuous \n",
            "7 ['A Predetermined and closed path of an electric current is called an electric circuit .', 'A Resultant and closed path of an electric current is called an electric circuit .', 'A Partial and closed path of an electric current is called an electric circuit .']\n",
            "-------------\n",
            "0\n",
            "25\n",
            "9. A continuous and closed path of an electric current is called an electric circuit. ##### | electric \n",
            "9 ['A continuous and closed path of an Outdoor current is called an electric circuit .', 'A continuous and closed path of an Infrared current is called an electric circuit .', 'A continuous and closed path of an Automotive current is called an electric circuit .']\n",
            "-------------\n",
            "25\n",
            "10. A continuous and closed path of an electric current is called an electric circuit. ##### | electric \n",
            "10 ['A continuous and closed path of an electric current is called an Sanitary circuit .', 'A continuous and closed path of an electric current is called an Outdoor circuit .', 'A continuous and closed path of an electric current is called an Automotive circuit .']\n",
            "-------------\n",
            "2\n",
            "25\n",
            "12. How do we express electric current? ##### | electric \n",
            "12 ['How do we express Automotive current ?', 'How do we express Hydraulic current ?', 'How do we express Outdoor current ?']\n",
            "-------------\n",
            "2\n",
            "6\n",
            "14. Electric current is expressed by the amount of charge flowing through a particular area in unit time. ##### | particular \n",
            "14 ['Electric current is expressed by the amount of charge flowing through a Actuality area in unit time .', 'Electric current is expressed by the amount of charge flowing through a Snowboarding area in unit time .', 'Electric current is expressed by the amount of charge flowing through a Rumours area in unit time .']\n",
            "-------------\n",
            "3\n",
            "25\n",
            "16. In other words, it is the rate of flow of electric charges. ##### | electric \n",
            "16 ['In other words , it is the rate of flow of Industrial charges .', 'In other words , it is the rate of flow of Electromagnetic charges .', 'In other words , it is the rate of flow of Infrared charges .']\n",
            "-------------\n",
            "60\n",
            "17. In circuits using metallic wires, electrons constitute the flow of charges. ##### | metallic \n",
            "17 ['In circuits using Carbon wires , electrons constitute the flow of charges .', 'In circuits using Milky wires , electrons constitute the flow of charges .', 'In circuits using Caustic wires , electrons constitute the flow of charges .']\n",
            "-------------\n",
            "25\n",
            "18. So, electric current was considered to be the flow of positive charges and the direction of flow of positive charges was taken to be the direction of electric current. ##### | electric \n",
            "18 ['So , Hydraulic current was considered to be the flow of positive charges and the direction of flow of positive charges was taken to be the direction of electric current .', 'So , Outdoor current was considered to be the flow of positive charges and the direction of flow of positive charges was taken to be the direction of electric current .', 'So , Electromagnetic current was considered to be the flow of positive charges and the direction of flow of positive charges was taken to be the direction of electric current .']\n",
            "-------------\n",
            "128\n",
            "19. So, electric current was considered to be the flow of positive charges and the direction of flow of positive charges was taken to be the direction of electric current. ##### | positive \n",
            "19 ['So , electric current was considered to be the flow of Rational charges and the direction of flow of positive charges was taken to be the direction of electric current .', 'So , electric current was considered to be the flow of Tangible charges and the direction of flow of positive charges was taken to be the direction of electric current .', 'So , electric current was considered to be the flow of Specific charges and the direction of flow of positive charges was taken to be the direction of electric current .']\n",
            "-------------\n",
            "128\n",
            "20. So, electric current was considered to be the flow of positive charges and the direction of flow of positive charges was taken to be the direction of electric current. ##### | positive \n",
            "20 ['So , electric current was considered to be the flow of positive charges and the direction of flow of Meaningful charges was taken to be the direction of electric current .', 'So , electric current was considered to be the flow of positive charges and the direction of flow of Measurable charges was taken to be the direction of electric current .', 'So , electric current was considered to be the flow of positive charges and the direction of flow of Constructive charges was taken to be the direction of electric current .']\n",
            "-------------\n",
            "25\n",
            "21. So, electric current was considered to be the flow of positive charges and the direction of flow of positive charges was taken to be the direction of electric current. ##### | electric \n",
            "21 ['So , electric current was considered to be the flow of positive charges and the direction of flow of positive charges was taken to be the direction of Infrared current .', 'So , electric current was considered to be the flow of positive charges and the direction of flow of positive charges was taken to be the direction of Sanitary current .', 'So , electric current was considered to be the flow of positive charges and the direction of flow of positive charges was taken to be the direction of Optical current .']\n",
            "-------------\n",
            "25\n",
            "22. Conventionally, in an electric circuit the direction of electric current is taken as opposite to the direction of the flow of electrons, which are negative charges. ##### | electric \n",
            "22 ['Conventionally , in an Filtration circuit the direction of electric current is taken as opposite to the direction of the flow of electrons , which are negative charges .', 'Conventionally , in an Sanitary circuit the direction of electric current is taken as opposite to the direction of the flow of electrons , which are negative charges .', 'Conventionally , in an Optical circuit the direction of electric current is taken as opposite to the direction of the flow of electrons , which are negative charges .']\n",
            "-------------\n",
            "25\n",
            "23. Conventionally, in an electric circuit the direction of electric current is taken as opposite to the direction of the flow of electrons, which are negative charges. ##### | electric \n",
            "23 ['Conventionally , in an electric circuit the direction of Electromagnetic current is taken as opposite to the direction of the flow of electrons , which are negative charges .', 'Conventionally , in an electric circuit the direction of Infrared current is taken as opposite to the direction of the flow of electrons , which are negative charges .', 'Conventionally , in an electric circuit the direction of Sanitary current is taken as opposite to the direction of the flow of electrons , which are negative charges .']\n",
            "-------------\n",
            "17\n",
            "24. Conventionally, in an electric circuit the direction of electric current is taken as opposite to the direction of the flow of electrons, which are negative charges. ##### | opposite \n",
            "24 ['Conventionally , in an electric circuit the direction of electric current is taken as Heir to the direction of the flow of electrons , which are negative charges .', 'Conventionally , in an electric circuit the direction of electric current is taken as Horny to the direction of the flow of electrons , which are negative charges .', 'Conventionally , in an electric circuit the direction of electric current is taken as Uptown to the direction of the flow of electrons , which are negative charges .']\n",
            "-------------\n",
            "128\n",
            "25. Conventionally, in an electric circuit the direction of electric current is taken as opposite to the direction of the flow of electrons, which are negative charges. ##### | negative \n",
            "25 ['Conventionally , in an electric circuit the direction of electric current is taken as opposite to the direction of the flow of electrons , which are Serious charges .', 'Conventionally , in an electric circuit the direction of electric current is taken as opposite to the direction of the flow of electrons , which are Passive charges .', 'Conventionally , in an electric circuit the direction of electric current is taken as opposite to the direction of the flow of electrons , which are Favorable charges .']\n",
            "-------------\n",
            "25\n",
            "26. The SI unit of electric charge is coulomb (C), which is equivalent to the charge contained in nearly 6 × 1018 electrons. ##### | electric \n",
            "26 ['The SI unit of Filtration charge is coulomb ( C ) , which is equivalent to the charge contained in nearly 6 × 1018 electrons .', 'The SI unit of Industrial charge is coulomb ( C ) , which is equivalent to the charge contained in nearly 6 × 1018 electrons .', 'The SI unit of Hydraulic charge is coulomb ( C ) , which is equivalent to the charge contained in nearly 6 × 1018 electrons .']\n",
            "-------------\n",
            "5\n",
            "128\n",
            "28. (We know that an electron possesses a negative charge of 1.6 × 10–19 C.) ##### | negative \n",
            "28 ['( We know that an electron possesses a Measurable charge of 1.6 × 10–19 C. )', '( We know that an electron possesses a Serious charge of 1.6 × 10–19 C. )', '( We know that an electron possesses a Systemic charge of 1.6 × 10–19 C. )']\n",
            "-------------\n",
            "25\n",
            "29. The electric current is expressed by a unit called ampere (A), named after the French scientist, Andre-Marie Ampere (1775–1836). ##### | electric \n",
            "29 ['The Electromagnetic current is expressed by a unit called ampere ( A ) , named after the French scientist , Andre - Marie Ampere ( 1775–1836 ) .', 'The Filtration current is expressed by a unit called ampere ( A ) , named after the French scientist , Andre - Marie Ampere ( 1775–1836 ) .', 'The Infrared current is expressed by a unit called ampere ( A ) , named after the French scientist , Andre - Marie Ampere ( 1775–1836 ) .']\n",
            "-------------\n",
            "11\n",
            "30. The electric current is expressed by a unit called ampere (A), named after the French scientist, Andre-Marie Ampere (1775–1836). ##### | French \n",
            "30 ['The electric current is expressed by a unit called ampere ( A ) , named after the Defunct scientist , Andre - Marie Ampere ( 1775–1836 ) .', 'The electric current is expressed by a unit called ampere ( A ) , named after the Brazilian scientist , Andre - Marie Ampere ( 1775–1836 ) .', 'The electric current is expressed by a unit called ampere ( A ) , named after the Thai scientist , Andre - Marie Ampere ( 1775–1836 ) .']\n",
            "-------------\n",
            "2\n",
            "2\n",
            "25\n",
            "33. An instrument called ammeter measures electric current in a circuit. ##### | electric \n",
            "33 ['An instrument called ammeter measures Electromagnetic current in a circuit .', 'An instrument called ammeter measures Decorative current in a circuit .', 'An instrument called ammeter measures Industrial current in a circuit .']\n",
            "-------------\n",
            "452\n",
            "34. Figure 12.1 shows the schematic diagram of a typical electric circuit comprising a cell, an electric bulb, an ammeter and a plug key. ##### | schematic \n",
            "34 ['Figure 12.1 shows the Concise diagram of a typical electric circuit comprising a cell , an electric bulb , an ammeter and a plug key .', 'Figure 12.1 shows the Symmetrical diagram of a typical electric circuit comprising a cell , an electric bulb , an ammeter and a plug key .', 'Figure 12.1 shows the Descriptive diagram of a typical electric circuit comprising a cell , an electric bulb , an ammeter and a plug key .']\n",
            "-------------\n",
            "16\n",
            "35. Figure 12.1 shows the schematic diagram of a typical electric circuit comprising a cell, an electric bulb, an ammeter and a plug key. ##### | typical \n",
            "35 ['Figure 12.1 shows the schematic diagram of a Marginal electric circuit comprising a cell , an electric bulb , an ammeter and a plug key .', 'Figure 12.1 shows the schematic diagram of a Allowable electric circuit comprising a cell , an electric bulb , an ammeter and a plug key .', 'Figure 12.1 shows the schematic diagram of a Lump electric circuit comprising a cell , an electric bulb , an ammeter and a plug key .']\n",
            "-------------\n",
            "25\n",
            "36. Figure 12.1 shows the schematic diagram of a typical electric circuit comprising a cell, an electric bulb, an ammeter and a plug key. ##### | electric \n",
            "36 ['Figure 12.1 shows the schematic diagram of a typical Optical circuit comprising a cell , an electric bulb , an ammeter and a plug key .', 'Figure 12.1 shows the schematic diagram of a typical Filtration circuit comprising a cell , an electric bulb , an ammeter and a plug key .', 'Figure 12.1 shows the schematic diagram of a typical Industrial circuit comprising a cell , an electric bulb , an ammeter and a plug key .']\n",
            "-------------\n",
            "25\n",
            "37. Figure 12.1 shows the schematic diagram of a typical electric circuit comprising a cell, an electric bulb, an ammeter and a plug key. ##### | electric \n",
            "37 ['Figure 12.1 shows the schematic diagram of a typical electric circuit comprising a cell , an Industrial bulb , an ammeter and a plug key .', 'Figure 12.1 shows the schematic diagram of a typical electric circuit comprising a cell , an Electromagnetic bulb , an ammeter and a plug key .', 'Figure 12.1 shows the schematic diagram of a typical electric circuit comprising a cell , an Filtration bulb , an ammeter and a plug key .']\n",
            "-------------\n",
            "25\n",
            "38. Note that the electric current flows in the circuit from the positive terminal of the cell to the negative terminal of the cell through the bulb and ammeter What makes the electric charge to flow? ##### | electric \n",
            "38 ['Note that the Optical current flows in the circuit from the positive terminal of the cell to the negative terminal of the cell through the bulb and ammeter What makes the electric charge to flow ?', 'Note that the Sanitary current flows in the circuit from the positive terminal of the cell to the negative terminal of the cell through the bulb and ammeter What makes the electric charge to flow ?', 'Note that the Industrial current flows in the circuit from the positive terminal of the cell to the negative terminal of the cell through the bulb and ammeter What makes the electric charge to flow ?']\n",
            "-------------\n",
            "128\n",
            "39. Note that the electric current flows in the circuit from the positive terminal of the cell to the negative terminal of the cell through the bulb and ammeter What makes the electric charge to flow? ##### | positive \n",
            "39 ['Note that the electric current flows in the circuit from the Profound terminal of the cell to the negative terminal of the cell through the bulb and ammeter What makes the electric charge to flow ?', 'Note that the electric current flows in the circuit from the Measurable terminal of the cell to the negative terminal of the cell through the bulb and ammeter What makes the electric charge to flow ?', 'Note that the electric current flows in the circuit from the Specific terminal of the cell to the negative terminal of the cell through the bulb and ammeter What makes the electric charge to flow ?']\n",
            "-------------\n",
            "128\n",
            "40. Note that the electric current flows in the circuit from the positive terminal of the cell to the negative terminal of the cell through the bulb and ammeter What makes the electric charge to flow? ##### | negative \n",
            "40 ['Note that the electric current flows in the circuit from the positive terminal of the cell to the Subjective terminal of the cell through the bulb and ammeter What makes the electric charge to flow ?', 'Note that the electric current flows in the circuit from the positive terminal of the cell to the Favorable terminal of the cell through the bulb and ammeter What makes the electric charge to flow ?', 'Note that the electric current flows in the circuit from the positive terminal of the cell to the Serious terminal of the cell through the bulb and ammeter What makes the electric charge to flow ?']\n",
            "-------------\n",
            "25\n",
            "41. Note that the electric current flows in the circuit from the positive terminal of the cell to the negative terminal of the cell through the bulb and ammeter What makes the electric charge to flow? ##### | electric \n",
            "41 ['Note that the electric current flows in the circuit from the positive terminal of the cell to the negative terminal of the cell through the bulb and ammeter What makes the Infrared charge to flow ?', 'Note that the electric current flows in the circuit from the positive terminal of the cell to the negative terminal of the cell through the bulb and ammeter What makes the Electromagnetic charge to flow ?', 'Note that the electric current flows in the circuit from the positive terminal of the cell to the negative terminal of the cell through the bulb and ammeter What makes the Decorative charge to flow ?']\n",
            "-------------\n",
            "173\n",
            "42. Charges do not flow in a copper wire by themselves, just as water in a perfectly horizontal tube does not flow. ##### | horizontal \n",
            "42 ['Charges do not flow in a copper wire by themselves , just as water in a perfectly Partial tube does not flow .', 'Charges do not flow in a copper wire by themselves , just as water in a perfectly Resultant tube does not flow .', 'Charges do not flow in a copper wire by themselves , just as water in a perfectly Broad tube does not flow .']\n",
            "-------------\n",
            "3\n",
            "1\n",
            "3\n",
            "60\n",
            "46. For flow of charges in a conducting metallic wire, the gravity, of course, has no role to play; the electrons move only if there is a difference of electric pressure – called the potential difference – along the conductor. ##### | metallic \n",
            "46 ['For flow of charges in a conducting Powdered wire , the gravity , of course , has no role to play ; the electrons move only if there is a difference of electric pressure – called the potential difference – along the conductor .', 'For flow of charges in a conducting Carbon wire , the gravity , of course , has no role to play ; the electrons move only if there is a difference of electric pressure – called the potential difference – along the conductor .', 'For flow of charges in a conducting Caustic wire , the gravity , of course , has no role to play ; the electrons move only if there is a difference of electric pressure – called the potential difference – along the conductor .']\n",
            "-------------\n",
            "25\n",
            "47. For flow of charges in a conducting metallic wire, the gravity, of course, has no role to play; the electrons move only if there is a difference of electric pressure – called the potential difference – along the conductor. ##### | electric \n",
            "47 ['For flow of charges in a conducting metallic wire , the gravity , of course , has no role to play ; the electrons move only if there is a difference of Industrial pressure – called the potential difference – along the conductor .', 'For flow of charges in a conducting metallic wire , the gravity , of course , has no role to play ; the electrons move only if there is a difference of Decorative pressure – called the potential difference – along the conductor .', 'For flow of charges in a conducting metallic wire , the gravity , of course , has no role to play ; the electrons move only if there is a difference of Electromagnetic pressure – called the potential difference – along the conductor .']\n",
            "-------------\n",
            "19\n",
            "48. For flow of charges in a conducting metallic wire, the gravity, of course, has no role to play; the electrons move only if there is a difference of electric pressure – called the potential difference – along the conductor. ##### | potential \n",
            "48 ['For flow of charges in a conducting metallic wire , the gravity , of course , has no role to play ; the electrons move only if there is a difference of electric pressure – called the Mass difference – along the conductor .', 'For flow of charges in a conducting metallic wire , the gravity , of course , has no role to play ; the electrons move only if there is a difference of electric pressure – called the Comedic difference – along the conductor .', 'For flow of charges in a conducting metallic wire , the gravity , of course , has no role to play ; the electrons move only if there is a difference of electric pressure – called the Willful difference – along the conductor .']\n",
            "-------------\n",
            "1\n",
            "25\n",
            "50. This difference of potential may be produced by a battery, consisting of one or more electric cells. ##### | electric \n",
            "50 ['This difference of potential may be produced by a battery , consisting of one or more Sanitary cells .', 'This difference of potential may be produced by a battery , consisting of one or more Outdoor cells .', 'This difference of potential may be produced by a battery , consisting of one or more Optical cells .']\n",
            "-------------\n",
            "19\n",
            "51. The chemical action within a cell generates the potential difference across the terminals of the cell, even when no current is drawn from it. ##### | potential \n",
            "51 ['The chemical action within a cell generates the Replacement difference across the terminals of the cell , even when no current is drawn from it .', 'The chemical action within a cell generates the Secret difference across the terminals of the cell , even when no current is drawn from it .', 'The chemical action within a cell generates the Mass difference across the terminals of the cell , even when no current is drawn from it .']\n",
            "-------------\n",
            "19\n",
            "52. When the cell is connected to a conducting circuit element, the potential difference sets the charges in motion in the conductor and produces an electric current. ##### | potential \n",
            "52 ['When the cell is connected to a conducting circuit element , the Comedic difference sets the charges in motion in the conductor and produces an electric current .', 'When the cell is connected to a conducting circuit element , the Mass difference sets the charges in motion in the conductor and produces an electric current .', 'When the cell is connected to a conducting circuit element , the Superpower difference sets the charges in motion in the conductor and produces an electric current .']\n",
            "-------------\n",
            "25\n",
            "53. When the cell is connected to a conducting circuit element, the potential difference sets the charges in motion in the conductor and produces an electric current. ##### | electric \n",
            "53 ['When the cell is connected to a conducting circuit element , the potential difference sets the charges in motion in the conductor and produces an Electromagnetic current .', 'When the cell is connected to a conducting circuit element , the potential difference sets the charges in motion in the conductor and produces an Filtration current .', 'When the cell is connected to a conducting circuit element , the potential difference sets the charges in motion in the conductor and produces an Infrared current .']\n",
            "-------------\n",
            "25\n",
            "54. In order to maintain the current in a given electric circuit, the cell has to expend its chemical energy stored in it. ##### | electric \n",
            "54 ['In order to maintain the current in a given Sanitary circuit , the cell has to expend its chemical energy stored in it .', 'In order to maintain the current in a given Electromagnetic circuit , the cell has to expend its chemical energy stored in it .', 'In order to maintain the current in a given Infrared circuit , the cell has to expend its chemical energy stored in it .']\n",
            "-------------\n"
          ],
          "name": "stdout"
        }
      ]
    },
    {
      "cell_type": "code",
      "metadata": {
        "id": "wem2gMi-fcC-",
        "colab_type": "code",
        "colab": {}
      },
      "source": [
        "def fill_in_blanks(span):\n",
        "  # determine the charecterestic of the span\n",
        "  # find the best suited method to distract\n",
        "  return [span] False"
      ],
      "execution_count": 0,
      "outputs": []
    },
    {
      "cell_type": "code",
      "metadata": {
        "id": "LadDcKOSfv6O",
        "colab_type": "code",
        "colab": {}
      },
      "source": [
        "# TRUE OF FALSE  \n",
        "# FILL IN THE BLANKS\n",
        "# 4 STATEMENTS WHICH ARE TRUE\n",
        "# 4 OPTION ONE CORRECT MCQ\n",
        "# mULTI SELECT SELECT ALL TRUE\n",
        "#"
      ],
      "execution_count": 0,
      "outputs": []
    }
  ]
}