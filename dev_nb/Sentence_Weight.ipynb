{
  "nbformat": 4,
  "nbformat_minor": 0,
  "metadata": {
    "colab": {
      "name": "sentence_weight.ipynb",
      "provenance": [],
      "toc_visible": true
    },
    "kernelspec": {
      "name": "python3",
      "display_name": "Python 3"
    }
  },
  "cells": [
    {
      "cell_type": "markdown",
      "metadata": {
        "id": "nVHPc1GZF0xI",
        "colab_type": "text"
      },
      "source": [
        "# Extracting important concepts from text\n",
        "\n",
        ">Paraphrase a continous text into concepts and keywotrds\n",
        "\n",
        "* Seq-Seq Encoder *check this implementation of ULMFIT in a seperate notebook*\n",
        "* tf-idf ranking using average inverse document frequency of a sentence to denote its weight. Hoeever this needs us to establish the baseline tf from a corpus such as related text books. If such a corpus is not present we can use the internal tok.prob in spacy as a substituite.\n",
        "* [LexRank ](https://github.com/crabcamp/lexrank)is an unsupervised approach to text summarization based on graph-based centrality scoring of sentences. The main idea is that sentences \"recommend\" other similar sentences to the reader. Thus, if one sentence is very similar to many others, it will likely be a sentence of great importance. The importance of this sentence also stems from the importance of the sentences \"recommending\" it. Thus, to get ranked highly and placed in a summary, a sentence must be similar to many sentences that are in turn also similar to many other sentences. We will be using a library to build this functionality and test it with text downloaded from guttenberg (or any other relevant documents)\n",
        "􏰂\n",
        " "
      ]
    },
    {
      "cell_type": "markdown",
      "metadata": {
        "id": "NPM3huJtN_rE",
        "colab_type": "text"
      },
      "source": [
        "### Install Dependencies"
      ]
    },
    {
      "cell_type": "code",
      "metadata": {
        "id": "Q5XUq73ZMkge",
        "colab_type": "code",
        "colab": {}
      },
      "source": [
        "!pip install lexrank\n",
        "!python -m spacy download en_core_web_md"
      ],
      "execution_count": null,
      "outputs": []
    },
    {
      "cell_type": "markdown",
      "metadata": {
        "id": "FlS3FPQP6zl3",
        "colab_type": "text"
      },
      "source": [
        "# !!! RESTART THE RUNTIME BEFORE CONTINUING"
      ]
    },
    {
      "cell_type": "code",
      "metadata": {
        "id": "33e856zZcQBR",
        "colab_type": "code",
        "colab": {}
      },
      "source": [
        "#export\n",
        "import requests\n",
        "from lexrank import LexRank\n",
        "from lexrank.mappings.stopwords import STOPWORDS\n",
        "import spacy\n",
        "from spacy.tokens import Doc, Span\n",
        "import numpy as np"
      ],
      "execution_count": null,
      "outputs": []
    },
    {
      "cell_type": "markdown",
      "metadata": {
        "id": "yoEF206sOHBc",
        "colab_type": "text"
      },
      "source": [
        "### Download Documents\n",
        "\n",
        "We will be using some Physics text from guttenberg. It might be a bit dated but might just suffice for our purpose."
      ]
    },
    {
      "cell_type": "code",
      "metadata": {
        "id": "_vjhwFkUZK4g",
        "colab_type": "code",
        "colab": {}
      },
      "source": [
        "#export\n",
        "urls= ['http://www.gutenberg.org/cache/epub/29444/pg29444.txt', \n",
        "       'http://www.gutenberg.org/cache/epub/31428/pg31428.txt', \n",
        "       'http://www.gutenberg.org/cache/epub/4908/pg4908.txt', \n",
        "       'http://www.gutenberg.org/cache/epub/33504/pg33504.txt', \n",
        "       'http://www.gutenberg.org/cache/epub/39017/pg39017.txt', \n",
        "       'http://www.gutenberg.org/cache/epub/37157/pg37157.txt', \n",
        "       'http://www.gutenberg.org/cache/epub/15207/pg15207.txt', \n",
        "       'http://www.gutenberg.org/cache/epub/10773/pg10773.txt',\n",
        "       'http://www.gutenberg.org/cache/epub/31624/pg31624.txt', \n",
        "       'http://www.gutenberg.org/cache/epub/5192/pg5192.txt', \n",
        "       'http://www.gutenberg.org/cache/epub/40030/pg40030.txt', \n",
        "       'http://www.gutenberg.org/cache/epub/50992/pg50992.txt', \n",
        "       'http://www.gutenberg.org/cache/epub/50880/pg50880.txt', \n",
        "       'http://www.gutenberg.org/cache/epub/36525/pg36525.txt', \n",
        "       'http://www.gutenberg.org/cache/epub/47167/pg47167.txt', \n",
        "       'http://www.gutenberg.org/cache/epub/47464/pg47464.txt', \n",
        "       'http://www.gutenberg.org/cache/epub/33397/pg33397.txt', \n",
        "       'http://www.gutenberg.org/cache/epub/29782/pg29782.txt', \n",
        "       'http://www.gutenberg.org/cache/epub/32857/pg32857.txt',\n",
        "       'http://www.gutenberg.org/cache/epub/26262/pg26262.txt']\n",
        "docs = [requests.get(u).text for u in urls]"
      ],
      "execution_count": null,
      "outputs": []
    },
    {
      "cell_type": "markdown",
      "metadata": {
        "id": "mtOTteT5a9Ab",
        "colab_type": "text"
      },
      "source": [
        "### Sample Text used in this notebook\n",
        "Electromagnetism is a branch of physics involving the study of the electromagnetic force, a type of physical interaction that occurs between electrically charged particles. The electromagnetic force is carried by electromagnetic fields composed of electric fields and magnetic fields, and it is responsible for electromagnetic radiation such as light. It is one of the four fundamental interactions (commonly called forces) in nature, together with the strong interaction, the weak interaction, and gravitation.[1] At high energy the weak force and electromagnetic force are unified as a single electroweak force.\n",
        "\n",
        "\n",
        "Lightning is an electrostatic discharge that travels between two charged regions.\n",
        "Electromagnetic phenomena are defined in terms of the electromagnetic force, sometimes called the Lorentz force, which includes both electricity and magnetism as different manifestations of the same phenomenon. The electromagnetic force plays a major role in determining the internal properties of most objects encountered in daily life. The electromagnetic attraction between atomic nuclei and their orbital electrons holds atoms together. Electromagnetic forces are responsible for the chemical bonds between atoms which create molecules, and intermolecular forces. The electromagnetic force governs all chemical processes, which arise from interactions between the electrons of neighboring atoms.\n",
        "\n",
        "There are numerous mathematical descriptions of the electromagnetic field. In classical electrodynamics, electric fields are described as electric potential and electric current. In Faraday's law, magnetic fields are associated with electromagnetic induction and magnetism, and Maxwell's equations describe how electric and magnetic fields are generated and altered by each other and by charges and currents.\n",
        "\n",
        "The theoretical implications of electromagnetism, particularly the establishment of the speed of light based on properties of the \"medium\" of propagation (permeability and permittivity), led to the development of special relativity by Albert Einstein in 1905."
      ]
    },
    {
      "cell_type": "code",
      "metadata": {
        "id": "gei_enGr4-aF",
        "colab_type": "code",
        "colab": {}
      },
      "source": [
        "#export\n",
        "lxr = LexRank(docs, stopwords=STOPWORDS['en'])\n",
        "nlp =  spacy.load('en_core_web_md')"
      ],
      "execution_count": 4,
      "outputs": []
    },
    {
      "cell_type": "code",
      "metadata": {
        "id": "AY1F5Vsoadtj",
        "colab_type": "code",
        "colab": {}
      },
      "source": [
        "text = '''\n",
        "Electromagnetism is a branch of physics involving the study of the electromagnetic force, a type of physical interaction that occurs between electrically charged particles. The electromagnetic force is carried by electromagnetic fields composed of electric fields and magnetic fields, and it is responsible for electromagnetic radiation such as light. It is one of the four fundamental interactions (commonly called forces) in nature, together with the strong interaction, the weak interaction, and gravitation.[1] At high energy the weak force and electromagnetic force are unified as a single electroweak force.\n",
        "Lightning is an electrostatic discharge that travels between two charged regions.\n",
        "Electromagnetic phenomena are defined in terms of the electromagnetic force, sometimes called the Lorentz force, which includes both electricity and magnetism as different manifestations of the same phenomenon. The electromagnetic force plays a major role in determining the internal properties of most objects encountered in daily life. The electromagnetic attraction between atomic nuclei and their orbital electrons holds atoms together. Electromagnetic forces are responsible for the chemical bonds between atoms which create molecules, and intermolecular forces. The electromagnetic force governs all chemical processes, which arise from interactions between the electrons of neighboring atoms.\n",
        "There are numerous mathematical descriptions of the electromagnetic field. In classical electrodynamics, electric fields are described as electric potential and electric current. In Faraday's law, magnetic fields are associated with electromagnetic induction and magnetism, and Maxwell's equations describe how electric and magnetic fields are generated and altered by each other and by charges and currents.\n",
        "The theoretical implications of electromagnetism, particularly the establishment of the speed of light based on properties of the \"medium\" of propagation (permeability and permittivity), led to the development of special relativity by Albert Einstein in 1905.\n",
        "'''"
      ],
      "execution_count": 5,
      "outputs": []
    },
    {
      "cell_type": "code",
      "metadata": {
        "id": "GT-CrVr4IW4y",
        "colab_type": "code",
        "colab": {}
      },
      "source": [
        "def print_sents(sents): \n",
        "   for i , sent in enumerate(sents): print(f\"{i+1} . {sent}  \")"
      ],
      "execution_count": 17,
      "outputs": []
    },
    {
      "cell_type": "code",
      "metadata": {
        "id": "POcacRa6aIh6",
        "colab_type": "code",
        "colab": {
          "base_uri": "https://localhost:8080/",
          "height": 377
        },
        "outputId": "332cca69-5ce9-4509-e8a2-65e6b6c6d80b"
      },
      "source": [
        "# Use Tokenizer in spacy \n",
        "doc = nlp(text)\n",
        "sentences =[sent.text for sent in doc.sents]\n",
        "summary = lxr.get_summary(sentences, summary_size=14, threshold=.1)\n",
        "scores_cont = lxr.rank_sentences(\n",
        "    sentences,\n",
        "    threshold=None,\n",
        "    fast_power_method=True,\n",
        ")\n",
        "print_sents(summary)"
      ],
      "execution_count": 27,
      "outputs": [
        {
          "output_type": "stream",
          "text": [
            "1 . The electromagnetic force is carried by electromagnetic fields composed of electric fields and magnetic fields, and it is responsible for electromagnetic radiation such as light.  \n",
            "2 . Electromagnetic phenomena are defined in terms of the electromagnetic force, sometimes called the Lorentz force, which includes both electricity and magnetism as different manifestations of the same phenomenon.  \n",
            "3 . There are numerous mathematical descriptions of the electromagnetic field.  \n",
            "4 . The electromagnetic force governs all chemical processes, which arise from interactions between the electrons of neighboring atoms.\n",
            "  \n",
            "5 . \n",
            "Electromagnetism is a branch of physics involving the study of the electromagnetic force, a type of physical interaction that occurs between electrically charged particles.  \n",
            "6 . The electromagnetic force plays a major role in determining the internal properties of most objects encountered in daily life.  \n",
            "7 . The electromagnetic attraction between atomic nuclei and their orbital electrons holds atoms together.  \n",
            "8 . At high energy the weak force and electromagnetic force are unified as a single electroweak force.\n",
            "  \n",
            "9 . Electromagnetic forces are responsible for the chemical bonds between atoms which create molecules, and intermolecular forces.  \n",
            "10 . The theoretical implications of electromagnetism, particularly the establishment of the speed of light based on properties of the \"medium\" of propagation (permeability and permittivity), led to the development of special relativity by Albert Einstein in 1905.\n",
            "  \n",
            "11 . In Faraday's law, magnetic fields are associated with electromagnetic induction and magnetism, and Maxwell's equations describe how electric and magnetic fields are generated and altered by each other and by charges and currents.\n",
            "  \n",
            "12 . In classical electrodynamics, electric fields are described as electric potential and electric current.  \n",
            "13 . It is one of the four fundamental interactions (commonly called forces) in nature, together with the strong interaction, the weak interaction, and gravitation.[1]  \n",
            "14 . Lightning is an electrostatic discharge that travels between two charged regions.\n",
            "  \n"
          ],
          "name": "stdout"
        }
      ]
    },
    {
      "cell_type": "markdown",
      "metadata": {
        "id": "oQ_C-RPKPiTD",
        "colab_type": "text"
      },
      "source": [
        "### Extending spacy's functionality\n",
        "\n",
        "Sometimes we might not have documents at hand and have to cold start an application without it. In such cases we might refer to some other precomputed features and use them to denete the suntence weight \n",
        "\n",
        "* tf-idf from tok.prob\n",
        "* no of entities in a sentence\n",
        "* length of the sentence\n",
        "\n",
        "After creating the class we will compare its performance with lexrank on a text about Graduate level Electro magnetism"
      ]
    },
    {
      "cell_type": "code",
      "metadata": {
        "id": "WLAGQ3hTqK6J",
        "colab_type": "code",
        "colab": {}
      },
      "source": [
        "#export\n",
        "\n",
        "def tfidf(span):return sum([tok.prob for tok in span])*1.0/len(span)  \n",
        "Span.set_extension(\"weight\", getter=tfidf, force=True)\n",
        "\n",
        "def ranktfidf(doc): return np.argsort(np.array([sent._.weight for sent in doc.sents]))[::-1]\n",
        "Doc.set_extension(\"ranktfidf\", getter=ranktfidf, force=True)"
      ],
      "execution_count": 24,
      "outputs": []
    },
    {
      "cell_type": "code",
      "metadata": {
        "id": "3FfU9sLMql7U",
        "colab_type": "code",
        "colab": {
          "base_uri": "https://localhost:8080/",
          "height": 377
        },
        "outputId": "7fdb2ad6-62fa-4895-e751-03a9a5f65dee"
      },
      "source": [
        "sents = [sent for sent in doc.sents]\n",
        "rank_sent = [ sents[i]  for i in doc._.ranktfidf]\n",
        "print_sents(rank_sent)\n",
        "           "
      ],
      "execution_count": 25,
      "outputs": [
        {
          "output_type": "stream",
          "text": [
            "1 . It is one of the four fundamental interactions (commonly called forces) in nature, together with the strong interaction, the weak interaction, and gravitation.[1]  \n",
            "2 . The theoretical implications of electromagnetism, particularly the establishment of the speed of light based on properties of the \"medium\" of propagation (permeability and permittivity), led to the development of special relativity by Albert Einstein in 1905.\n",
            "  \n",
            "3 . \n",
            "Electromagnetism is a branch of physics involving the study of the electromagnetic force, a type of physical interaction that occurs between electrically charged particles.  \n",
            "4 . The electromagnetic force plays a major role in determining the internal properties of most objects encountered in daily life.  \n",
            "5 . At high energy the weak force and electromagnetic force are unified as a single electroweak force.\n",
            "  \n",
            "6 . Electromagnetic phenomena are defined in terms of the electromagnetic force, sometimes called the Lorentz force, which includes both electricity and magnetism as different manifestations of the same phenomenon.  \n",
            "7 . There are numerous mathematical descriptions of the electromagnetic field.  \n",
            "8 . The electromagnetic force is carried by electromagnetic fields composed of electric fields and magnetic fields, and it is responsible for electromagnetic radiation such as light.  \n",
            "9 . In Faraday's law, magnetic fields are associated with electromagnetic induction and magnetism, and Maxwell's equations describe how electric and magnetic fields are generated and altered by each other and by charges and currents.\n",
            "  \n",
            "10 . In classical electrodynamics, electric fields are described as electric potential and electric current.  \n",
            "11 . The electromagnetic force governs all chemical processes, which arise from interactions between the electrons of neighboring atoms.\n",
            "  \n",
            "12 . Lightning is an electrostatic discharge that travels between two charged regions.\n",
            "  \n",
            "13 . Electromagnetic forces are responsible for the chemical bonds between atoms which create molecules, and intermolecular forces.  \n",
            "14 . The electromagnetic attraction between atomic nuclei and their orbital electrons holds atoms together.  \n"
          ],
          "name": "stdout"
        }
      ]
    },
    {
      "cell_type": "markdown",
      "metadata": {
        "id": "Tnta5_lpLBbh",
        "colab_type": "text"
      },
      "source": [
        "### Comparision\n",
        "Ranking from Lexrank creates a sequential and hierarchial narrative as can be seen from this test case above. Spacy tf-idf implementation is not quite as great for summary however it does seem to bunch out important concepts, and perhaps doing a better job in bringing important concepts to the top which can then be used for testing.\n",
        "I would prefer spacy approach since we can cold start the problem  just by downloading a 45Mb model file *en_core_web_md*\n",
        "We will use the same in the subsequent notebook to create distractions\n",
        "\n"
      ]
    },
    {
      "cell_type": "code",
      "metadata": {
        "id": "kX-cxaHvZxUD",
        "colab_type": "code",
        "colab": {}
      },
      "source": [
        "! python notebook2script.py sentence_weight.ipynb"
      ],
      "execution_count": null,
      "outputs": []
    }
  ]
}