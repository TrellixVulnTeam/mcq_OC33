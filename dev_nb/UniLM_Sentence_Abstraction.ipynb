{
  "nbformat": 4,
  "nbformat_minor": 0,
  "metadata": {
    "colab": {
      "name": "UniLM_Sentence_Abstraction.ipynb",
      "provenance": [],
      "collapsed_sections": []
    },
    "kernelspec": {
      "name": "python3",
      "display_name": "Python 3"
    },
    "accelerator": "GPU"
  },
  "cells": [
    {
      "cell_type": "code",
      "metadata": {
        "id": "CChPbBsnrrCW",
        "colab_type": "code",
        "outputId": "8f6732f0-ecd0-42c0-f2ee-dcd50b1e5b60",
        "colab": {
          "base_uri": "https://localhost:8080/",
          "height": 717
        }
      },
      "source": [
        "!pip install pyrouge\n",
        "!pip install pytorch_transformers "
      ],
      "execution_count": 0,
      "outputs": [
        {
          "output_type": "stream",
          "text": [
            "Requirement already satisfied: pyrouge in /usr/local/lib/python3.6/dist-packages (0.1.3)\n",
            "Collecting pytorch_transformers\n",
            "\u001b[?25l  Downloading https://files.pythonhosted.org/packages/a3/b7/d3d18008a67e0b968d1ab93ad444fc05699403fa662f634b2f2c318a508b/pytorch_transformers-1.2.0-py3-none-any.whl (176kB)\n",
            "\u001b[K     |████████████████████████████████| 184kB 6.5MB/s \n",
            "\u001b[?25hRequirement already satisfied: requests in /usr/local/lib/python3.6/dist-packages (from pytorch_transformers) (2.21.0)\n",
            "Requirement already satisfied: tqdm in /usr/local/lib/python3.6/dist-packages (from pytorch_transformers) (4.28.1)\n",
            "Collecting sentencepiece (from pytorch_transformers)\n",
            "\u001b[?25l  Downloading https://files.pythonhosted.org/packages/14/3d/efb655a670b98f62ec32d66954e1109f403db4d937c50d779a75b9763a29/sentencepiece-0.1.83-cp36-cp36m-manylinux1_x86_64.whl (1.0MB)\n",
            "\u001b[K     |████████████████████████████████| 1.0MB 38.5MB/s \n",
            "\u001b[?25hRequirement already satisfied: torch>=1.0.0 in /usr/local/lib/python3.6/dist-packages (from pytorch_transformers) (1.2.0)\n",
            "Collecting sacremoses (from pytorch_transformers)\n",
            "\u001b[?25l  Downloading https://files.pythonhosted.org/packages/1f/8e/ed5364a06a9ba720fddd9820155cc57300d28f5f43a6fd7b7e817177e642/sacremoses-0.0.35.tar.gz (859kB)\n",
            "\u001b[K     |████████████████████████████████| 860kB 36.8MB/s \n",
            "\u001b[?25hCollecting regex (from pytorch_transformers)\n",
            "\u001b[?25l  Downloading https://files.pythonhosted.org/packages/6f/a6/99eeb5904ab763db87af4bd71d9b1dfdd9792681240657a4c0a599c10a81/regex-2019.08.19.tar.gz (654kB)\n",
            "\u001b[K     |████████████████████████████████| 655kB 40.6MB/s \n",
            "\u001b[?25hRequirement already satisfied: boto3 in /usr/local/lib/python3.6/dist-packages (from pytorch_transformers) (1.9.243)\n",
            "Requirement already satisfied: numpy in /usr/local/lib/python3.6/dist-packages (from pytorch_transformers) (1.16.5)\n",
            "Requirement already satisfied: chardet<3.1.0,>=3.0.2 in /usr/local/lib/python3.6/dist-packages (from requests->pytorch_transformers) (3.0.4)\n",
            "Requirement already satisfied: urllib3<1.25,>=1.21.1 in /usr/local/lib/python3.6/dist-packages (from requests->pytorch_transformers) (1.24.3)\n",
            "Requirement already satisfied: idna<2.9,>=2.5 in /usr/local/lib/python3.6/dist-packages (from requests->pytorch_transformers) (2.8)\n",
            "Requirement already satisfied: certifi>=2017.4.17 in /usr/local/lib/python3.6/dist-packages (from requests->pytorch_transformers) (2019.9.11)\n",
            "Requirement already satisfied: six in /usr/local/lib/python3.6/dist-packages (from sacremoses->pytorch_transformers) (1.12.0)\n",
            "Requirement already satisfied: click in /usr/local/lib/python3.6/dist-packages (from sacremoses->pytorch_transformers) (7.0)\n",
            "Requirement already satisfied: joblib in /usr/local/lib/python3.6/dist-packages (from sacremoses->pytorch_transformers) (0.14.0)\n",
            "Requirement already satisfied: jmespath<1.0.0,>=0.7.1 in /usr/local/lib/python3.6/dist-packages (from boto3->pytorch_transformers) (0.9.4)\n",
            "Requirement already satisfied: s3transfer<0.3.0,>=0.2.0 in /usr/local/lib/python3.6/dist-packages (from boto3->pytorch_transformers) (0.2.1)\n",
            "Requirement already satisfied: botocore<1.13.0,>=1.12.243 in /usr/local/lib/python3.6/dist-packages (from boto3->pytorch_transformers) (1.12.243)\n",
            "Requirement already satisfied: python-dateutil<3.0.0,>=2.1; python_version >= \"2.7\" in /usr/local/lib/python3.6/dist-packages (from botocore<1.13.0,>=1.12.243->boto3->pytorch_transformers) (2.5.3)\n",
            "Requirement already satisfied: docutils<0.16,>=0.10 in /usr/local/lib/python3.6/dist-packages (from botocore<1.13.0,>=1.12.243->boto3->pytorch_transformers) (0.15.2)\n",
            "Building wheels for collected packages: sacremoses, regex\n",
            "  Building wheel for sacremoses (setup.py) ... \u001b[?25l\u001b[?25hdone\n",
            "  Created wheel for sacremoses: filename=sacremoses-0.0.35-cp36-none-any.whl size=883999 sha256=58ce999505f4147ba1ce2e6c058f3783ae36d41adee4b77209e45003feacd164\n",
            "  Stored in directory: /root/.cache/pip/wheels/63/2a/db/63e2909042c634ef551d0d9ac825b2b0b32dede4a6d87ddc94\n",
            "  Building wheel for regex (setup.py) ... \u001b[?25l\u001b[?25hdone\n",
            "  Created wheel for regex: filename=regex-2019.8.19-cp36-cp36m-linux_x86_64.whl size=609239 sha256=51d1a41128ac4a8e475475ef7e67ab6b69a76a0bc908388e644b653104f37c48\n",
            "  Stored in directory: /root/.cache/pip/wheels/90/04/07/b5010fb816721eb3d6dd64ed5cc8111ca23f97fdab8619b5be\n",
            "Successfully built sacremoses regex\n",
            "Installing collected packages: sentencepiece, sacremoses, regex, pytorch-transformers\n",
            "Successfully installed pytorch-transformers-1.2.0 regex-2019.8.19 sacremoses-0.0.35 sentencepiece-0.1.83\n"
          ],
          "name": "stdout"
        }
      ]
    },
    {
      "cell_type": "code",
      "metadata": {
        "id": "DVuoBBEKwy3B",
        "colab_type": "code",
        "outputId": "fa427af5-1ac1-4db2-91f8-87ad7140c0ef",
        "colab": {
          "base_uri": "https://localhost:8080/",
          "height": 34
        }
      },
      "source": [
        "%%writefile setup.sh\n",
        "\n",
        "git clone https://github.com/NVIDIA/apex\n",
        "cd apex\n",
        "pip install -v --no-cache-dir ./"
      ],
      "execution_count": 0,
      "outputs": [
        {
          "output_type": "stream",
          "text": [
            "Writing setup.sh\n"
          ],
          "name": "stdout"
        }
      ]
    },
    {
      "cell_type": "code",
      "metadata": {
        "id": "DtImBOKSw0rO",
        "colab_type": "code",
        "outputId": "3286e96d-9381-4675-aaa2-4e882fbb0212",
        "colab": {
          "base_uri": "https://localhost:8080/",
          "height": 1000
        }
      },
      "source": [
        "!sh setup.sh"
      ],
      "execution_count": 0,
      "outputs": [
        {
          "output_type": "stream",
          "text": [
            "Cloning into 'apex'...\n",
            "remote: Enumerating objects: 42, done.\u001b[K\n",
            "remote: Counting objects:   2% (1/42)\u001b[K\rremote: Counting objects:   4% (2/42)\u001b[K\rremote: Counting objects:   7% (3/42)\u001b[K\rremote: Counting objects:   9% (4/42)\u001b[K\rremote: Counting objects:  11% (5/42)\u001b[K\rremote: Counting objects:  14% (6/42)\u001b[K\rremote: Counting objects:  16% (7/42)\u001b[K\rremote: Counting objects:  19% (8/42)\u001b[K\rremote: Counting objects:  21% (9/42)\u001b[K\rremote: Counting objects:  23% (10/42)\u001b[K\rremote: Counting objects:  26% (11/42)\u001b[K\rremote: Counting objects:  28% (12/42)\u001b[K\rremote: Counting objects:  30% (13/42)\u001b[K\rremote: Counting objects:  33% (14/42)\u001b[K\rremote: Counting objects:  35% (15/42)\u001b[K\rremote: Counting objects:  38% (16/42)\u001b[K\rremote: Counting objects:  40% (17/42)\u001b[K\rremote: Counting objects:  42% (18/42)\u001b[K\rremote: Counting objects:  45% (19/42)\u001b[K\rremote: Counting objects:  47% (20/42)\u001b[K\rremote: Counting objects:  50% (21/42)\u001b[K\rremote: Counting objects:  52% (22/42)\u001b[K\rremote: Counting objects:  54% (23/42)\u001b[K\rremote: Counting objects:  57% (24/42)\u001b[K\rremote: Counting objects:  59% (25/42)\u001b[K\rremote: Counting objects:  61% (26/42)\u001b[K\rremote: Counting objects:  64% (27/42)\u001b[K\rremote: Counting objects:  66% (28/42)\u001b[K\rremote: Counting objects:  69% (29/42)\u001b[K\rremote: Counting objects:  71% (30/42)\u001b[K\rremote: Counting objects:  73% (31/42)\u001b[K\rremote: Counting objects:  76% (32/42)\u001b[K\rremote: Counting objects:  78% (33/42)\u001b[K\rremote: Counting objects:  80% (34/42)\u001b[K\rremote: Counting objects:  83% (35/42)\u001b[K\rremote: Counting objects:  85% (36/42)\u001b[K\rremote: Counting objects:  88% (37/42)\u001b[K\rremote: Counting objects:  90% (38/42)\u001b[K\rremote: Counting objects:  92% (39/42)\u001b[K\rremote: Counting objects:  95% (40/42)\u001b[K\rremote: Counting objects:  97% (41/42)\u001b[K\rremote: Counting objects: 100% (42/42)\u001b[K\rremote: Counting objects: 100% (42/42), done.\u001b[K\n",
            "remote: Compressing objects: 100% (40/40), done.\u001b[K\n",
            "remote: Total 5464 (delta 9), reused 19 (delta 2), pack-reused 5422\u001b[K\n",
            "Receiving objects: 100% (5464/5464), 13.34 MiB | 12.70 MiB/s, done.\n",
            "Resolving deltas: 100% (3520/3520), done.\n",
            "Created temporary directory: /tmp/pip-ephem-wheel-cache-dzcfq_ab\n",
            "Created temporary directory: /tmp/pip-req-tracker-s12rbzax\n",
            "Created requirements tracker '/tmp/pip-req-tracker-s12rbzax'\n",
            "Created temporary directory: /tmp/pip-install-7akk11cw\n",
            "Processing /content/apex\n",
            "  Created temporary directory: /tmp/pip-req-build-5qx9z7ky\n",
            "  Added file:///content/apex to build tracker '/tmp/pip-req-tracker-s12rbzax'\n",
            "    Running setup.py (path:/tmp/pip-req-build-5qx9z7ky/setup.py) egg_info for package from file:///content/apex\n",
            "    Running command python setup.py egg_info\n",
            "    torch.__version__  =  1.2.0\n",
            "    running egg_info\n",
            "    creating pip-egg-info/apex.egg-info\n",
            "    writing pip-egg-info/apex.egg-info/PKG-INFO\n",
            "    writing dependency_links to pip-egg-info/apex.egg-info/dependency_links.txt\n",
            "    writing top-level names to pip-egg-info/apex.egg-info/top_level.txt\n",
            "    writing manifest file 'pip-egg-info/apex.egg-info/SOURCES.txt'\n",
            "    writing manifest file 'pip-egg-info/apex.egg-info/SOURCES.txt'\n",
            "    /tmp/pip-req-build-5qx9z7ky/setup.py:43: UserWarning: Option --pyprof not specified. Not installing PyProf dependencies!\n",
            "      warnings.warn(\"Option --pyprof not specified. Not installing PyProf dependencies!\")\n",
            "  Source in /tmp/pip-req-build-5qx9z7ky has version 0.1, which satisfies requirement apex==0.1 from file:///content/apex\n",
            "  Removed apex==0.1 from file:///content/apex from build tracker '/tmp/pip-req-tracker-s12rbzax'\n",
            "Building wheels for collected packages: apex\n",
            "  Created temporary directory: /tmp/pip-wheel-fgn8lig_\n",
            "  Building wheel for apex (setup.py) ... \u001b[?25l  Destination directory: /tmp/pip-wheel-fgn8lig_\n",
            "  Running command /usr/bin/python3 -u -c 'import sys, setuptools, tokenize; sys.argv[0] = '\"'\"'/tmp/pip-req-build-5qx9z7ky/setup.py'\"'\"'; __file__='\"'\"'/tmp/pip-req-build-5qx9z7ky/setup.py'\"'\"';f=getattr(tokenize, '\"'\"'open'\"'\"', open)(__file__);code=f.read().replace('\"'\"'\\r\\n'\"'\"', '\"'\"'\\n'\"'\"');f.close();exec(compile(code, __file__, '\"'\"'exec'\"'\"'))' bdist_wheel -d /tmp/pip-wheel-fgn8lig_ --python-tag cp36\n",
            "  torch.__version__  =  1.2.0\n",
            "  /tmp/pip-req-build-5qx9z7ky/setup.py:43: UserWarning: Option --pyprof not specified. Not installing PyProf dependencies!\n",
            "    warnings.warn(\"Option --pyprof not specified. Not installing PyProf dependencies!\")\n",
            "  running bdist_wheel\n",
            "  running build\n",
            "  running build_py\n",
            "  creating build\n",
            "  creating build/lib\n",
            "  creating build/lib/apex\n",
            "  copying apex/__init__.py -> build/lib/apex\n",
            "  creating build/lib/apex/parallel\n",
            "  copying apex/parallel/sync_batchnorm.py -> build/lib/apex/parallel\n",
            "  copying apex/parallel/multiproc.py -> build/lib/apex/parallel\n",
            "  copying apex/parallel/distributed.py -> build/lib/apex/parallel\n",
            "  copying apex/parallel/optimized_sync_batchnorm.py -> build/lib/apex/parallel\n",
            "  copying apex/parallel/optimized_sync_batchnorm_kernel.py -> build/lib/apex/parallel\n",
            "  copying apex/parallel/sync_batchnorm_kernel.py -> build/lib/apex/parallel\n",
            "  copying apex/parallel/__init__.py -> build/lib/apex/parallel\n",
            "  copying apex/parallel/LARC.py -> build/lib/apex/parallel\n",
            "  creating build/lib/apex/contrib\n",
            "  copying apex/contrib/__init__.py -> build/lib/apex/contrib\n",
            "  creating build/lib/apex/optimizers\n",
            "  copying apex/optimizers/fused_novograd.py -> build/lib/apex/optimizers\n",
            "  copying apex/optimizers/fused_adam.py -> build/lib/apex/optimizers\n",
            "  copying apex/optimizers/fused_sgd.py -> build/lib/apex/optimizers\n",
            "  copying apex/optimizers/__init__.py -> build/lib/apex/optimizers\n",
            "  copying apex/optimizers/fused_lamb.py -> build/lib/apex/optimizers\n",
            "  creating build/lib/apex/normalization\n",
            "  copying apex/normalization/fused_layer_norm.py -> build/lib/apex/normalization\n",
            "  copying apex/normalization/__init__.py -> build/lib/apex/normalization\n",
            "  creating build/lib/apex/reparameterization\n",
            "  copying apex/reparameterization/reparameterization.py -> build/lib/apex/reparameterization\n",
            "  copying apex/reparameterization/weight_norm.py -> build/lib/apex/reparameterization\n",
            "  copying apex/reparameterization/__init__.py -> build/lib/apex/reparameterization\n",
            "  creating build/lib/apex/multi_tensor_apply\n",
            "  copying apex/multi_tensor_apply/multi_tensor_apply.py -> build/lib/apex/multi_tensor_apply\n",
            "  copying apex/multi_tensor_apply/__init__.py -> build/lib/apex/multi_tensor_apply\n",
            "  creating build/lib/apex/pyprof\n",
            "  copying apex/pyprof/__init__.py -> build/lib/apex/pyprof\n",
            "  creating build/lib/apex/fp16_utils\n",
            "  copying apex/fp16_utils/fp16util.py -> build/lib/apex/fp16_utils\n",
            "  copying apex/fp16_utils/fp16_optimizer.py -> build/lib/apex/fp16_utils\n",
            "  copying apex/fp16_utils/loss_scaler.py -> build/lib/apex/fp16_utils\n",
            "  copying apex/fp16_utils/__init__.py -> build/lib/apex/fp16_utils\n",
            "  creating build/lib/apex/amp\n",
            "  copying apex/amp/_amp_state.py -> build/lib/apex/amp\n",
            "  copying apex/amp/_initialize.py -> build/lib/apex/amp\n",
            "  copying apex/amp/scaler.py -> build/lib/apex/amp\n",
            "  copying apex/amp/opt.py -> build/lib/apex/amp\n",
            "  copying apex/amp/utils.py -> build/lib/apex/amp\n",
            "  copying apex/amp/wrap.py -> build/lib/apex/amp\n",
            "  copying apex/amp/handle.py -> build/lib/apex/amp\n",
            "  copying apex/amp/amp.py -> build/lib/apex/amp\n",
            "  copying apex/amp/_process_optimizer.py -> build/lib/apex/amp\n",
            "  copying apex/amp/frontend.py -> build/lib/apex/amp\n",
            "  copying apex/amp/rnn_compat.py -> build/lib/apex/amp\n",
            "  copying apex/amp/__init__.py -> build/lib/apex/amp\n",
            "  copying apex/amp/compat.py -> build/lib/apex/amp\n",
            "  copying apex/amp/__version__.py -> build/lib/apex/amp\n",
            "  creating build/lib/apex/RNN\n",
            "  copying apex/RNN/models.py -> build/lib/apex/RNN\n",
            "  copying apex/RNN/cells.py -> build/lib/apex/RNN\n",
            "  copying apex/RNN/RNNBackend.py -> build/lib/apex/RNN\n",
            "  copying apex/RNN/__init__.py -> build/lib/apex/RNN\n",
            "  creating build/lib/apex/contrib/optimizers\n",
            "  copying apex/contrib/optimizers/fused_adam.py -> build/lib/apex/contrib/optimizers\n",
            "  copying apex/contrib/optimizers/fp16_optimizer.py -> build/lib/apex/contrib/optimizers\n",
            "  copying apex/contrib/optimizers/__init__.py -> build/lib/apex/contrib/optimizers\n",
            "  creating build/lib/apex/contrib/xentropy\n",
            "  copying apex/contrib/xentropy/softmax_xentropy.py -> build/lib/apex/contrib/xentropy\n",
            "  copying apex/contrib/xentropy/__init__.py -> build/lib/apex/contrib/xentropy\n",
            "  creating build/lib/apex/contrib/groupbn\n",
            "  copying apex/contrib/groupbn/batch_norm.py -> build/lib/apex/contrib/groupbn\n",
            "  copying apex/contrib/groupbn/__init__.py -> build/lib/apex/contrib/groupbn\n",
            "  creating build/lib/apex/pyprof/prof\n",
            "  copying apex/pyprof/prof/base.py -> build/lib/apex/pyprof/prof\n",
            "  copying apex/pyprof/prof/dropout.py -> build/lib/apex/pyprof/prof\n",
            "  copying apex/pyprof/prof/randomSample.py -> build/lib/apex/pyprof/prof\n",
            "  copying apex/pyprof/prof/convert.py -> build/lib/apex/pyprof/prof\n",
            "  copying apex/pyprof/prof/normalization.py -> build/lib/apex/pyprof/prof\n",
            "  copying apex/pyprof/prof/softmax.py -> build/lib/apex/pyprof/prof\n",
            "  copying apex/pyprof/prof/linear.py -> build/lib/apex/pyprof/prof\n",
            "  copying apex/pyprof/prof/prof.py -> build/lib/apex/pyprof/prof\n",
            "  copying apex/pyprof/prof/optim.py -> build/lib/apex/pyprof/prof\n",
            "  copying apex/pyprof/prof/misc.py -> build/lib/apex/pyprof/prof\n",
            "  copying apex/pyprof/prof/activation.py -> build/lib/apex/pyprof/prof\n",
            "  copying apex/pyprof/prof/data.py -> build/lib/apex/pyprof/prof\n",
            "  copying apex/pyprof/prof/reduction.py -> build/lib/apex/pyprof/prof\n",
            "  copying apex/pyprof/prof/recurrentCell.py -> build/lib/apex/pyprof/prof\n",
            "  copying apex/pyprof/prof/output.py -> build/lib/apex/pyprof/prof\n",
            "  copying apex/pyprof/prof/pooling.py -> build/lib/apex/pyprof/prof\n",
            "  copying apex/pyprof/prof/loss.py -> build/lib/apex/pyprof/prof\n",
            "  copying apex/pyprof/prof/blas.py -> build/lib/apex/pyprof/prof\n",
            "  copying apex/pyprof/prof/utility.py -> build/lib/apex/pyprof/prof\n",
            "  copying apex/pyprof/prof/index_slice_join_mutate.py -> build/lib/apex/pyprof/prof\n",
            "  copying apex/pyprof/prof/__main__.py -> build/lib/apex/pyprof/prof\n",
            "  copying apex/pyprof/prof/__init__.py -> build/lib/apex/pyprof/prof\n",
            "  copying apex/pyprof/prof/embedding.py -> build/lib/apex/pyprof/prof\n",
            "  copying apex/pyprof/prof/pointwise.py -> build/lib/apex/pyprof/prof\n",
            "  copying apex/pyprof/prof/conv.py -> build/lib/apex/pyprof/prof\n",
            "  copying apex/pyprof/prof/usage.py -> build/lib/apex/pyprof/prof\n",
            "  creating build/lib/apex/pyprof/parse\n",
            "  copying apex/pyprof/parse/nvvp.py -> build/lib/apex/pyprof/parse\n",
            "  copying apex/pyprof/parse/__main__.py -> build/lib/apex/pyprof/parse\n",
            "  copying apex/pyprof/parse/__init__.py -> build/lib/apex/pyprof/parse\n",
            "  copying apex/pyprof/parse/kernel.py -> build/lib/apex/pyprof/parse\n",
            "  copying apex/pyprof/parse/parse.py -> build/lib/apex/pyprof/parse\n",
            "  copying apex/pyprof/parse/db.py -> build/lib/apex/pyprof/parse\n",
            "  creating build/lib/apex/pyprof/nvtx\n",
            "  copying apex/pyprof/nvtx/__init__.py -> build/lib/apex/pyprof/nvtx\n",
            "  copying apex/pyprof/nvtx/nvmarker.py -> build/lib/apex/pyprof/nvtx\n",
            "  creating build/lib/apex/amp/lists\n",
            "  copying apex/amp/lists/tensor_overrides.py -> build/lib/apex/amp/lists\n",
            "  copying apex/amp/lists/torch_overrides.py -> build/lib/apex/amp/lists\n",
            "  copying apex/amp/lists/functional_overrides.py -> build/lib/apex/amp/lists\n",
            "  copying apex/amp/lists/__init__.py -> build/lib/apex/amp/lists\n",
            "  installing to build/bdist.linux-x86_64/wheel\n",
            "  running install\n",
            "  running install_lib\n",
            "  creating build/bdist.linux-x86_64\n",
            "  creating build/bdist.linux-x86_64/wheel\n",
            "  creating build/bdist.linux-x86_64/wheel/apex\n",
            "  creating build/bdist.linux-x86_64/wheel/apex/parallel\n",
            "  copying build/lib/apex/parallel/sync_batchnorm.py -> build/bdist.linux-x86_64/wheel/apex/parallel\n",
            "  copying build/lib/apex/parallel/multiproc.py -> build/bdist.linux-x86_64/wheel/apex/parallel\n",
            "  copying build/lib/apex/parallel/distributed.py -> build/bdist.linux-x86_64/wheel/apex/parallel\n",
            "  copying build/lib/apex/parallel/optimized_sync_batchnorm.py -> build/bdist.linux-x86_64/wheel/apex/parallel\n",
            "  copying build/lib/apex/parallel/optimized_sync_batchnorm_kernel.py -> build/bdist.linux-x86_64/wheel/apex/parallel\n",
            "  copying build/lib/apex/parallel/sync_batchnorm_kernel.py -> build/bdist.linux-x86_64/wheel/apex/parallel\n",
            "  copying build/lib/apex/parallel/__init__.py -> build/bdist.linux-x86_64/wheel/apex/parallel\n",
            "  copying build/lib/apex/parallel/LARC.py -> build/bdist.linux-x86_64/wheel/apex/parallel\n",
            "  creating build/bdist.linux-x86_64/wheel/apex/contrib\n",
            "  creating build/bdist.linux-x86_64/wheel/apex/contrib/optimizers\n",
            "  copying build/lib/apex/contrib/optimizers/fused_adam.py -> build/bdist.linux-x86_64/wheel/apex/contrib/optimizers\n",
            "  copying build/lib/apex/contrib/optimizers/fp16_optimizer.py -> build/bdist.linux-x86_64/wheel/apex/contrib/optimizers\n",
            "  copying build/lib/apex/contrib/optimizers/__init__.py -> build/bdist.linux-x86_64/wheel/apex/contrib/optimizers\n",
            "  creating build/bdist.linux-x86_64/wheel/apex/contrib/xentropy\n",
            "  copying build/lib/apex/contrib/xentropy/softmax_xentropy.py -> build/bdist.linux-x86_64/wheel/apex/contrib/xentropy\n",
            "  copying build/lib/apex/contrib/xentropy/__init__.py -> build/bdist.linux-x86_64/wheel/apex/contrib/xentropy\n",
            "  creating build/bdist.linux-x86_64/wheel/apex/contrib/groupbn\n",
            "  copying build/lib/apex/contrib/groupbn/batch_norm.py -> build/bdist.linux-x86_64/wheel/apex/contrib/groupbn\n",
            "  copying build/lib/apex/contrib/groupbn/__init__.py -> build/bdist.linux-x86_64/wheel/apex/contrib/groupbn\n",
            "  copying build/lib/apex/contrib/__init__.py -> build/bdist.linux-x86_64/wheel/apex/contrib\n",
            "  creating build/bdist.linux-x86_64/wheel/apex/optimizers\n",
            "  copying build/lib/apex/optimizers/fused_novograd.py -> build/bdist.linux-x86_64/wheel/apex/optimizers\n",
            "  copying build/lib/apex/optimizers/fused_adam.py -> build/bdist.linux-x86_64/wheel/apex/optimizers\n",
            "  copying build/lib/apex/optimizers/fused_sgd.py -> build/bdist.linux-x86_64/wheel/apex/optimizers\n",
            "  copying build/lib/apex/optimizers/__init__.py -> build/bdist.linux-x86_64/wheel/apex/optimizers\n",
            "  copying build/lib/apex/optimizers/fused_lamb.py -> build/bdist.linux-x86_64/wheel/apex/optimizers\n",
            "  creating build/bdist.linux-x86_64/wheel/apex/normalization\n",
            "  copying build/lib/apex/normalization/fused_layer_norm.py -> build/bdist.linux-x86_64/wheel/apex/normalization\n",
            "  copying build/lib/apex/normalization/__init__.py -> build/bdist.linux-x86_64/wheel/apex/normalization\n",
            "  creating build/bdist.linux-x86_64/wheel/apex/reparameterization\n",
            "  copying build/lib/apex/reparameterization/reparameterization.py -> build/bdist.linux-x86_64/wheel/apex/reparameterization\n",
            "  copying build/lib/apex/reparameterization/weight_norm.py -> build/bdist.linux-x86_64/wheel/apex/reparameterization\n",
            "  copying build/lib/apex/reparameterization/__init__.py -> build/bdist.linux-x86_64/wheel/apex/reparameterization\n",
            "  creating build/bdist.linux-x86_64/wheel/apex/multi_tensor_apply\n",
            "  copying build/lib/apex/multi_tensor_apply/multi_tensor_apply.py -> build/bdist.linux-x86_64/wheel/apex/multi_tensor_apply\n",
            "  copying build/lib/apex/multi_tensor_apply/__init__.py -> build/bdist.linux-x86_64/wheel/apex/multi_tensor_apply\n",
            "  copying build/lib/apex/__init__.py -> build/bdist.linux-x86_64/wheel/apex\n",
            "  creating build/bdist.linux-x86_64/wheel/apex/pyprof\n",
            "  creating build/bdist.linux-x86_64/wheel/apex/pyprof/prof\n",
            "  copying build/lib/apex/pyprof/prof/base.py -> build/bdist.linux-x86_64/wheel/apex/pyprof/prof\n",
            "  copying build/lib/apex/pyprof/prof/dropout.py -> build/bdist.linux-x86_64/wheel/apex/pyprof/prof\n",
            "  copying build/lib/apex/pyprof/prof/randomSample.py -> build/bdist.linux-x86_64/wheel/apex/pyprof/prof\n",
            "  copying build/lib/apex/pyprof/prof/convert.py -> build/bdist.linux-x86_64/wheel/apex/pyprof/prof\n",
            "  copying build/lib/apex/pyprof/prof/normalization.py -> build/bdist.linux-x86_64/wheel/apex/pyprof/prof\n",
            "  copying build/lib/apex/pyprof/prof/softmax.py -> build/bdist.linux-x86_64/wheel/apex/pyprof/prof\n",
            "  copying build/lib/apex/pyprof/prof/linear.py -> build/bdist.linux-x86_64/wheel/apex/pyprof/prof\n",
            "  copying build/lib/apex/pyprof/prof/prof.py -> build/bdist.linux-x86_64/wheel/apex/pyprof/prof\n",
            "  copying build/lib/apex/pyprof/prof/optim.py -> build/bdist.linux-x86_64/wheel/apex/pyprof/prof\n",
            "  copying build/lib/apex/pyprof/prof/misc.py -> build/bdist.linux-x86_64/wheel/apex/pyprof/prof\n",
            "  copying build/lib/apex/pyprof/prof/activation.py -> build/bdist.linux-x86_64/wheel/apex/pyprof/prof\n",
            "  copying build/lib/apex/pyprof/prof/data.py -> build/bdist.linux-x86_64/wheel/apex/pyprof/prof\n",
            "  copying build/lib/apex/pyprof/prof/reduction.py -> build/bdist.linux-x86_64/wheel/apex/pyprof/prof\n",
            "  copying build/lib/apex/pyprof/prof/recurrentCell.py -> build/bdist.linux-x86_64/wheel/apex/pyprof/prof\n",
            "  copying build/lib/apex/pyprof/prof/output.py -> build/bdist.linux-x86_64/wheel/apex/pyprof/prof\n",
            "  copying build/lib/apex/pyprof/prof/pooling.py -> build/bdist.linux-x86_64/wheel/apex/pyprof/prof\n",
            "  copying build/lib/apex/pyprof/prof/loss.py -> build/bdist.linux-x86_64/wheel/apex/pyprof/prof\n",
            "  copying build/lib/apex/pyprof/prof/blas.py -> build/bdist.linux-x86_64/wheel/apex/pyprof/prof\n",
            "  copying build/lib/apex/pyprof/prof/utility.py -> build/bdist.linux-x86_64/wheel/apex/pyprof/prof\n",
            "  copying build/lib/apex/pyprof/prof/index_slice_join_mutate.py -> build/bdist.linux-x86_64/wheel/apex/pyprof/prof\n",
            "  copying build/lib/apex/pyprof/prof/__main__.py -> build/bdist.linux-x86_64/wheel/apex/pyprof/prof\n",
            "  copying build/lib/apex/pyprof/prof/__init__.py -> build/bdist.linux-x86_64/wheel/apex/pyprof/prof\n",
            "  copying build/lib/apex/pyprof/prof/embedding.py -> build/bdist.linux-x86_64/wheel/apex/pyprof/prof\n",
            "  copying build/lib/apex/pyprof/prof/pointwise.py -> build/bdist.linux-x86_64/wheel/apex/pyprof/prof\n",
            "  copying build/lib/apex/pyprof/prof/conv.py -> build/bdist.linux-x86_64/wheel/apex/pyprof/prof\n",
            "  copying build/lib/apex/pyprof/prof/usage.py -> build/bdist.linux-x86_64/wheel/apex/pyprof/prof\n",
            "  creating build/bdist.linux-x86_64/wheel/apex/pyprof/parse\n",
            "  copying build/lib/apex/pyprof/parse/nvvp.py -> build/bdist.linux-x86_64/wheel/apex/pyprof/parse\n",
            "  copying build/lib/apex/pyprof/parse/__main__.py -> build/bdist.linux-x86_64/wheel/apex/pyprof/parse\n",
            "  copying build/lib/apex/pyprof/parse/__init__.py -> build/bdist.linux-x86_64/wheel/apex/pyprof/parse\n",
            "  copying build/lib/apex/pyprof/parse/kernel.py -> build/bdist.linux-x86_64/wheel/apex/pyprof/parse\n",
            "  copying build/lib/apex/pyprof/parse/parse.py -> build/bdist.linux-x86_64/wheel/apex/pyprof/parse\n",
            "  copying build/lib/apex/pyprof/parse/db.py -> build/bdist.linux-x86_64/wheel/apex/pyprof/parse\n",
            "  copying build/lib/apex/pyprof/__init__.py -> build/bdist.linux-x86_64/wheel/apex/pyprof\n",
            "  creating build/bdist.linux-x86_64/wheel/apex/pyprof/nvtx\n",
            "  copying build/lib/apex/pyprof/nvtx/__init__.py -> build/bdist.linux-x86_64/wheel/apex/pyprof/nvtx\n",
            "  copying build/lib/apex/pyprof/nvtx/nvmarker.py -> build/bdist.linux-x86_64/wheel/apex/pyprof/nvtx\n",
            "  creating build/bdist.linux-x86_64/wheel/apex/fp16_utils\n",
            "  copying build/lib/apex/fp16_utils/fp16util.py -> build/bdist.linux-x86_64/wheel/apex/fp16_utils\n",
            "  copying build/lib/apex/fp16_utils/fp16_optimizer.py -> build/bdist.linux-x86_64/wheel/apex/fp16_utils\n",
            "  copying build/lib/apex/fp16_utils/loss_scaler.py -> build/bdist.linux-x86_64/wheel/apex/fp16_utils\n",
            "  copying build/lib/apex/fp16_utils/__init__.py -> build/bdist.linux-x86_64/wheel/apex/fp16_utils\n",
            "  creating build/bdist.linux-x86_64/wheel/apex/amp\n",
            "  copying build/lib/apex/amp/_amp_state.py -> build/bdist.linux-x86_64/wheel/apex/amp\n",
            "  creating build/bdist.linux-x86_64/wheel/apex/amp/lists\n",
            "  copying build/lib/apex/amp/lists/tensor_overrides.py -> build/bdist.linux-x86_64/wheel/apex/amp/lists\n",
            "  copying build/lib/apex/amp/lists/torch_overrides.py -> build/bdist.linux-x86_64/wheel/apex/amp/lists\n",
            "  copying build/lib/apex/amp/lists/functional_overrides.py -> build/bdist.linux-x86_64/wheel/apex/amp/lists\n",
            "  copying build/lib/apex/amp/lists/__init__.py -> build/bdist.linux-x86_64/wheel/apex/amp/lists\n",
            "  copying build/lib/apex/amp/_initialize.py -> build/bdist.linux-x86_64/wheel/apex/amp\n",
            "  copying build/lib/apex/amp/scaler.py -> build/bdist.linux-x86_64/wheel/apex/amp\n",
            "  copying build/lib/apex/amp/opt.py -> build/bdist.linux-x86_64/wheel/apex/amp\n",
            "  copying build/lib/apex/amp/utils.py -> build/bdist.linux-x86_64/wheel/apex/amp\n",
            "  copying build/lib/apex/amp/wrap.py -> build/bdist.linux-x86_64/wheel/apex/amp\n",
            "  copying build/lib/apex/amp/handle.py -> build/bdist.linux-x86_64/wheel/apex/amp\n",
            "  copying build/lib/apex/amp/amp.py -> build/bdist.linux-x86_64/wheel/apex/amp\n",
            "  copying build/lib/apex/amp/_process_optimizer.py -> build/bdist.linux-x86_64/wheel/apex/amp\n",
            "  copying build/lib/apex/amp/frontend.py -> build/bdist.linux-x86_64/wheel/apex/amp\n",
            "  copying build/lib/apex/amp/rnn_compat.py -> build/bdist.linux-x86_64/wheel/apex/amp\n",
            "  copying build/lib/apex/amp/__init__.py -> build/bdist.linux-x86_64/wheel/apex/amp\n",
            "  copying build/lib/apex/amp/compat.py -> build/bdist.linux-x86_64/wheel/apex/amp\n",
            "  copying build/lib/apex/amp/__version__.py -> build/bdist.linux-x86_64/wheel/apex/amp\n",
            "  creating build/bdist.linux-x86_64/wheel/apex/RNN\n",
            "  copying build/lib/apex/RNN/models.py -> build/bdist.linux-x86_64/wheel/apex/RNN\n",
            "  copying build/lib/apex/RNN/cells.py -> build/bdist.linux-x86_64/wheel/apex/RNN\n",
            "  copying build/lib/apex/RNN/RNNBackend.py -> build/bdist.linux-x86_64/wheel/apex/RNN\n",
            "  copying build/lib/apex/RNN/__init__.py -> build/bdist.linux-x86_64/wheel/apex/RNN\n",
            "  running install_egg_info\n",
            "  running egg_info\n",
            "  creating apex.egg-info\n",
            "  writing apex.egg-info/PKG-INFO\n",
            "  writing dependency_links to apex.egg-info/dependency_links.txt\n",
            "  writing top-level names to apex.egg-info/top_level.txt\n",
            "  writing manifest file 'apex.egg-info/SOURCES.txt'\n",
            "  writing manifest file 'apex.egg-info/SOURCES.txt'\n",
            "  Copying apex.egg-info to build/bdist.linux-x86_64/wheel/apex-0.1-py3.6.egg-info\n",
            "  running install_scripts\n",
            "  adding license file \"LICENSE\" (matched pattern \"LICEN[CS]E*\")\n",
            "  creating build/bdist.linux-x86_64/wheel/apex-0.1.dist-info/WHEEL\n",
            "  creating '/tmp/pip-wheel-fgn8lig_/apex-0.1-cp36-none-any.whl' and adding 'build/bdist.linux-x86_64/wheel' to it\n",
            "  adding 'apex/__init__.py'\n",
            "  adding 'apex/RNN/RNNBackend.py'\n",
            "  adding 'apex/RNN/__init__.py'\n",
            "  adding 'apex/RNN/cells.py'\n",
            "  adding 'apex/RNN/models.py'\n",
            "  adding 'apex/amp/__init__.py'\n",
            "  adding 'apex/amp/__version__.py'\n",
            "  adding 'apex/amp/_amp_state.py'\n",
            "  adding 'apex/amp/_initialize.py'\n",
            "  adding 'apex/amp/_process_optimizer.py'\n",
            "  adding 'apex/amp/amp.py'\n",
            "  adding 'apex/amp/compat.py'\n",
            "  adding 'apex/amp/frontend.py'\n",
            "  adding 'apex/amp/handle.py'\n",
            "  adding 'apex/amp/opt.py'\n",
            "  adding 'apex/amp/rnn_compat.py'\n",
            "  adding 'apex/amp/scaler.py'\n",
            "  adding 'apex/amp/utils.py'\n",
            "  adding 'apex/amp/wrap.py'\n",
            "  adding 'apex/amp/lists/__init__.py'\n",
            "  adding 'apex/amp/lists/functional_overrides.py'\n",
            "  adding 'apex/amp/lists/tensor_overrides.py'\n",
            "  adding 'apex/amp/lists/torch_overrides.py'\n",
            "  adding 'apex/contrib/__init__.py'\n",
            "  adding 'apex/contrib/groupbn/__init__.py'\n",
            "  adding 'apex/contrib/groupbn/batch_norm.py'\n",
            "  adding 'apex/contrib/optimizers/__init__.py'\n",
            "  adding 'apex/contrib/optimizers/fp16_optimizer.py'\n",
            "  adding 'apex/contrib/optimizers/fused_adam.py'\n",
            "  adding 'apex/contrib/xentropy/__init__.py'\n",
            "  adding 'apex/contrib/xentropy/softmax_xentropy.py'\n",
            "  adding 'apex/fp16_utils/__init__.py'\n",
            "  adding 'apex/fp16_utils/fp16_optimizer.py'\n",
            "  adding 'apex/fp16_utils/fp16util.py'\n",
            "  adding 'apex/fp16_utils/loss_scaler.py'\n",
            "  adding 'apex/multi_tensor_apply/__init__.py'\n",
            "  adding 'apex/multi_tensor_apply/multi_tensor_apply.py'\n",
            "  adding 'apex/normalization/__init__.py'\n",
            "  adding 'apex/normalization/fused_layer_norm.py'\n",
            "  adding 'apex/optimizers/__init__.py'\n",
            "  adding 'apex/optimizers/fused_adam.py'\n",
            "  adding 'apex/optimizers/fused_lamb.py'\n",
            "  adding 'apex/optimizers/fused_novograd.py'\n",
            "  adding 'apex/optimizers/fused_sgd.py'\n",
            "  adding 'apex/parallel/LARC.py'\n",
            "  adding 'apex/parallel/__init__.py'\n",
            "  adding 'apex/parallel/distributed.py'\n",
            "  adding 'apex/parallel/multiproc.py'\n",
            "  adding 'apex/parallel/optimized_sync_batchnorm.py'\n",
            "  adding 'apex/parallel/optimized_sync_batchnorm_kernel.py'\n",
            "  adding 'apex/parallel/sync_batchnorm.py'\n",
            "  adding 'apex/parallel/sync_batchnorm_kernel.py'\n",
            "  adding 'apex/pyprof/__init__.py'\n",
            "  adding 'apex/pyprof/nvtx/__init__.py'\n",
            "  adding 'apex/pyprof/nvtx/nvmarker.py'\n",
            "  adding 'apex/pyprof/parse/__init__.py'\n",
            "  adding 'apex/pyprof/parse/__main__.py'\n",
            "  adding 'apex/pyprof/parse/db.py'\n",
            "  adding 'apex/pyprof/parse/kernel.py'\n",
            "  adding 'apex/pyprof/parse/nvvp.py'\n",
            "  adding 'apex/pyprof/parse/parse.py'\n",
            "  adding 'apex/pyprof/prof/__init__.py'\n",
            "  adding 'apex/pyprof/prof/__main__.py'\n",
            "  adding 'apex/pyprof/prof/activation.py'\n",
            "  adding 'apex/pyprof/prof/base.py'\n",
            "  adding 'apex/pyprof/prof/blas.py'\n",
            "  adding 'apex/pyprof/prof/conv.py'\n",
            "  adding 'apex/pyprof/prof/convert.py'\n",
            "  adding 'apex/pyprof/prof/data.py'\n",
            "  adding 'apex/pyprof/prof/dropout.py'\n",
            "  adding 'apex/pyprof/prof/embedding.py'\n",
            "  adding 'apex/pyprof/prof/index_slice_join_mutate.py'\n",
            "  adding 'apex/pyprof/prof/linear.py'\n",
            "  adding 'apex/pyprof/prof/loss.py'\n",
            "  adding 'apex/pyprof/prof/misc.py'\n",
            "  adding 'apex/pyprof/prof/normalization.py'\n",
            "  adding 'apex/pyprof/prof/optim.py'\n",
            "  adding 'apex/pyprof/prof/output.py'\n",
            "  adding 'apex/pyprof/prof/pointwise.py'\n",
            "  adding 'apex/pyprof/prof/pooling.py'\n",
            "  adding 'apex/pyprof/prof/prof.py'\n",
            "  adding 'apex/pyprof/prof/randomSample.py'\n",
            "  adding 'apex/pyprof/prof/recurrentCell.py'\n",
            "  adding 'apex/pyprof/prof/reduction.py'\n",
            "  adding 'apex/pyprof/prof/softmax.py'\n",
            "  adding 'apex/pyprof/prof/usage.py'\n",
            "  adding 'apex/pyprof/prof/utility.py'\n",
            "  adding 'apex/reparameterization/__init__.py'\n",
            "  adding 'apex/reparameterization/reparameterization.py'\n",
            "  adding 'apex/reparameterization/weight_norm.py'\n",
            "  adding 'apex-0.1.dist-info/LICENSE'\n",
            "  adding 'apex-0.1.dist-info/METADATA'\n",
            "  adding 'apex-0.1.dist-info/WHEEL'\n",
            "  adding 'apex-0.1.dist-info/top_level.txt'\n",
            "  adding 'apex-0.1.dist-info/RECORD'\n",
            "  removing build/bdist.linux-x86_64/wheel\n",
            "\u001b[?25hdone\n",
            "  Created wheel for apex: filename=apex-0.1-cp36-none-any.whl size=138474 sha256=609318840784b5a6b87eed071436565c7c5f59f3c74833cd1a8f819810191afe\n",
            "  Stored in directory: /tmp/pip-ephem-wheel-cache-dzcfq_ab/wheels/b1/3a/aa/d84906eaab780ae580c7a5686a33bf2820d8590ac3b60d5967\n",
            "  Removing source in /tmp/pip-req-build-5qx9z7ky\n",
            "Successfully built apex\n",
            "Installing collected packages: apex\n",
            "\n",
            "Successfully installed apex-0.1\n",
            "Cleaning up...\n",
            "Removed build tracker '/tmp/pip-req-tracker-s12rbzax'\n"
          ],
          "name": "stdout"
        }
      ]
    },
    {
      "cell_type": "code",
      "metadata": {
        "id": "GJbxUvXwJZ1y",
        "colab_type": "code",
        "outputId": "ed34125d-0789-4cd0-fe9b-c72c4cdc9603",
        "colab": {
          "base_uri": "https://localhost:8080/",
          "height": 119
        }
      },
      "source": [
        "! rm -rf *\n",
        "! git clone https://github.com/microsoft/unilm.git\n",
        "! mv unilm/src/* ./\n",
        "! rm -rf unilm"
      ],
      "execution_count": 0,
      "outputs": [
        {
          "output_type": "stream",
          "text": [
            "Cloning into 'unilm'...\n",
            "remote: Enumerating objects: 78, done.\u001b[K\n",
            "remote: Counting objects:   1% (1/78)\u001b[K\rremote: Counting objects:   2% (2/78)\u001b[K\rremote: Counting objects:   3% (3/78)\u001b[K\rremote: Counting objects:   5% (4/78)\u001b[K\rremote: Counting objects:   6% (5/78)\u001b[K\rremote: Counting objects:   7% (6/78)\u001b[K\rremote: Counting objects:   8% (7/78)\u001b[K\rremote: Counting objects:  10% (8/78)\u001b[K\rremote: Counting objects:  11% (9/78)\u001b[K\rremote: Counting objects:  12% (10/78)\u001b[K\rremote: Counting objects:  14% (11/78)\u001b[K\rremote: Counting objects:  15% (12/78)\u001b[K\rremote: Counting objects:  16% (13/78)\u001b[K\rremote: Counting objects:  17% (14/78)\u001b[K\rremote: Counting objects:  19% (15/78)\u001b[K\rremote: Counting objects:  20% (16/78)\u001b[K\rremote: Counting objects:  21% (17/78)\u001b[K\rremote: Counting objects:  23% (18/78)\u001b[K\rremote: Counting objects:  24% (19/78)\u001b[K\rremote: Counting objects:  25% (20/78)\u001b[K\rremote: Counting objects:  26% (21/78)\u001b[K\rremote: Counting objects:  28% (22/78)\u001b[K\rremote: Counting objects:  29% (23/78)\u001b[K\rremote: Counting objects:  30% (24/78)\u001b[K\rremote: Counting objects:  32% (25/78)\u001b[K\rremote: Counting objects:  33% (26/78)\u001b[K\rremote: Counting objects:  34% (27/78)\u001b[K\rremote: Counting objects:  35% (28/78)\u001b[K\rremote: Counting objects:  37% (29/78)\u001b[K\rremote: Counting objects:  38% (30/78)\u001b[K\rremote: Counting objects:  39% (31/78)\u001b[K\rremote: Counting objects:  41% (32/78)\u001b[K\rremote: Counting objects:  42% (33/78)\u001b[K\rremote: Counting objects:  43% (34/78)\u001b[K\rremote: Counting objects:  44% (35/78)\u001b[K\rremote: Counting objects:  46% (36/78)\u001b[K\rremote: Counting objects:  47% (37/78)\u001b[K\rremote: Counting objects:  48% (38/78)\u001b[K\rremote: Counting objects:  50% (39/78)\u001b[K\rremote: Counting objects:  51% (40/78)\u001b[K\rremote: Counting objects:  52% (41/78)\u001b[K\rremote: Counting objects:  53% (42/78)\u001b[K\rremote: Counting objects:  55% (43/78)\u001b[K\rremote: Counting objects:  56% (44/78)\u001b[K\rremote: Counting objects:  57% (45/78)\u001b[K\rremote: Counting objects:  58% (46/78)\u001b[K\rremote: Counting objects:  60% (47/78)\u001b[K\rremote: Counting objects:  61% (48/78)\u001b[K\rremote: Counting objects:  62% (49/78)\u001b[K\rremote: Counting objects:  64% (50/78)\u001b[K\rremote: Counting objects:  65% (51/78)\u001b[K\rremote: Counting objects:  66% (52/78)\u001b[K\rremote: Counting objects:  67% (53/78)\u001b[K\rremote: Counting objects:  69% (54/78)\u001b[K\rremote: Counting objects:  70% (55/78)\u001b[K\rremote: Counting objects:  71% (56/78)\u001b[K\rremote: Counting objects:  73% (57/78)\u001b[K\rremote: Counting objects:  74% (58/78)\u001b[K\rremote: Counting objects:  75% (59/78)\u001b[K\rremote: Counting objects:  76% (60/78)\u001b[K\rremote: Counting objects:  78% (61/78)\u001b[K\rremote: Counting objects:  79% (62/78)\u001b[K\rremote: Counting objects:  80% (63/78)\u001b[K\rremote: Counting objects:  82% (64/78)\u001b[K\rremote: Counting objects:  83% (65/78)\u001b[K\rremote: Counting objects:  84% (66/78)\u001b[K\rremote: Counting objects:  85% (67/78)\u001b[K\rremote: Counting objects:  87% (68/78)\u001b[K\rremote: Counting objects:  88% (69/78)\u001b[K\rremote: Counting objects:  89% (70/78)\u001b[K\rremote: Counting objects:  91% (71/78)\u001b[K\rremote: Counting objects:  92% (72/78)\u001b[K\rremote: Counting objects:  93% (73/78)\u001b[K\rremote: Counting objects:  94% (74/78)\u001b[K\rremote: Counting objects:  96% (75/78)\u001b[K\rremote: Counting objects:  97% (76/78)\u001b[K\rremote: Counting objects:  98% (77/78)\u001b[K\rremote: Counting objects: 100% (78/78)\u001b[K\rremote: Counting objects: 100% (78/78), done.\u001b[K\n",
            "remote: Compressing objects:   1% (1/70)\u001b[K\rremote: Compressing objects:   2% (2/70)\u001b[K\rremote: Compressing objects:   4% (3/70)\u001b[K\rremote: Compressing objects:   5% (4/70)\u001b[K\rremote: Compressing objects:   7% (5/70)\u001b[K\rremote: Compressing objects:   8% (6/70)\u001b[K\rremote: Compressing objects:  10% (7/70)\u001b[K\rremote: Compressing objects:  11% (8/70)\u001b[K\rremote: Compressing objects:  12% (9/70)\u001b[K\rremote: Compressing objects:  14% (10/70)\u001b[K\rremote: Compressing objects:  15% (11/70)\u001b[K\rremote: Compressing objects:  17% (12/70)\u001b[K\rremote: Compressing objects:  18% (13/70)\u001b[K\rremote: Compressing objects:  20% (14/70)\u001b[K\rremote: Compressing objects:  21% (15/70)\u001b[K\rremote: Compressing objects:  22% (16/70)\u001b[K\rremote: Compressing objects:  24% (17/70)\u001b[K\rremote: Compressing objects:  25% (18/70)\u001b[K\rremote: Compressing objects:  27% (19/70)\u001b[K\rremote: Compressing objects:  28% (20/70)\u001b[K\rremote: Compressing objects:  30% (21/70)\u001b[K\rremote: Compressing objects:  31% (22/70)\u001b[K\rremote: Compressing objects:  32% (23/70)\u001b[K\rremote: Compressing objects:  34% (24/70)\u001b[K\rremote: Compressing objects:  35% (25/70)\u001b[K\rremote: Compressing objects:  37% (26/70)\u001b[K\rremote: Compressing objects:  38% (27/70)\u001b[K\rremote: Compressing objects:  40% (28/70)\u001b[K\rremote: Compressing objects:  41% (29/70)\u001b[K\rremote: Compressing objects:  42% (30/70)\u001b[K\rremote: Compressing objects:  44% (31/70)\u001b[K\rremote: Compressing objects:  45% (32/70)\u001b[K\rremote: Compressing objects:  47% (33/70)\u001b[K\rremote: Compressing objects:  48% (34/70)\u001b[K\rremote: Compressing objects:  50% (35/70)\u001b[K\rremote: Compressing objects:  51% (36/70)\u001b[K\rremote: Compressing objects:  52% (37/70)\u001b[K\rremote: Compressing objects:  54% (38/70)\u001b[K\rremote: Compressing objects:  55% (39/70)\u001b[K\rremote: Compressing objects:  57% (40/70)\u001b[K\rremote: Compressing objects:  58% (41/70)\u001b[K\rremote: Compressing objects:  60% (42/70)\u001b[K\rremote: Compressing objects:  61% (43/70)\u001b[K\rremote: Compressing objects:  62% (44/70)\u001b[K\rremote: Compressing objects:  64% (45/70)\u001b[K\rremote: Compressing objects:  65% (46/70)\u001b[K\rremote: Compressing objects:  67% (47/70)\u001b[K\rremote: Compressing objects:  68% (48/70)\u001b[K\rremote: Compressing objects:  70% (49/70)\u001b[K\rremote: Compressing objects:  71% (50/70)\u001b[K\rremote: Compressing objects:  72% (51/70)\u001b[K\rremote: Compressing objects:  74% (52/70)\u001b[K\rremote: Compressing objects:  75% (53/70)\u001b[K\rremote: Compressing objects:  77% (54/70)\u001b[K\rremote: Compressing objects:  78% (55/70)\u001b[K\rremote: Compressing objects:  80% (56/70)\u001b[K\rremote: Compressing objects:  81% (57/70)\u001b[K\rremote: Compressing objects:  82% (58/70)\u001b[K\rremote: Compressing objects:  84% (59/70)\u001b[K\rremote: Compressing objects:  85% (60/70)\u001b[K\rremote: Compressing objects:  87% (61/70)\u001b[K\rremote: Compressing objects:  88% (62/70)\u001b[K\rremote: Compressing objects:  90% (63/70)\u001b[K\rremote: Compressing objects:  91% (64/70)\u001b[K\rremote: Compressing objects:  92% (65/70)\u001b[K\rremote: Compressing objects:  94% (66/70)\u001b[K\rremote: Compressing objects:  95% (67/70)\u001b[K\rremote: Compressing objects:  97% (68/70)\u001b[K\rremote: Compressing objects:  98% (69/70)\u001b[K\rremote: Compressing objects: 100% (70/70)\u001b[K\rremote: Compressing objects: 100% (70/70), done.\u001b[K\n",
            "Unpacking objects:   1% (1/78)   \rUnpacking objects:   2% (2/78)   \rUnpacking objects:   3% (3/78)   \rUnpacking objects:   5% (4/78)   \rUnpacking objects:   6% (5/78)   \rUnpacking objects:   7% (6/78)   \rUnpacking objects:   8% (7/78)   \rUnpacking objects:  10% (8/78)   \rUnpacking objects:  11% (9/78)   \rUnpacking objects:  12% (10/78)   \rUnpacking objects:  14% (11/78)   \rUnpacking objects:  15% (12/78)   \rUnpacking objects:  16% (13/78)   \rUnpacking objects:  17% (14/78)   \rUnpacking objects:  19% (15/78)   \rUnpacking objects:  20% (16/78)   \rUnpacking objects:  21% (17/78)   \rUnpacking objects:  23% (18/78)   \rUnpacking objects:  24% (19/78)   \rUnpacking objects:  25% (20/78)   \rUnpacking objects:  26% (21/78)   \rUnpacking objects:  28% (22/78)   \rUnpacking objects:  29% (23/78)   \rUnpacking objects:  30% (24/78)   \rUnpacking objects:  32% (25/78)   \rUnpacking objects:  33% (26/78)   \rUnpacking objects:  34% (27/78)   \rUnpacking objects:  35% (28/78)   \rUnpacking objects:  37% (29/78)   \rUnpacking objects:  38% (30/78)   \rUnpacking objects:  39% (31/78)   \rUnpacking objects:  41% (32/78)   \rUnpacking objects:  42% (33/78)   \rUnpacking objects:  43% (34/78)   \rUnpacking objects:  44% (35/78)   \rUnpacking objects:  46% (36/78)   \rUnpacking objects:  47% (37/78)   \rUnpacking objects:  48% (38/78)   \rUnpacking objects:  50% (39/78)   \rUnpacking objects:  51% (40/78)   \rUnpacking objects:  52% (41/78)   \rUnpacking objects:  53% (42/78)   \rUnpacking objects:  55% (43/78)   \rUnpacking objects:  56% (44/78)   \rUnpacking objects:  57% (45/78)   \rUnpacking objects:  58% (46/78)   \rremote: Total 78 (delta 31), reused 31 (delta 6), pack-reused 0\u001b[K\n",
            "Unpacking objects:  60% (47/78)   \rUnpacking objects:  61% (48/78)   \rUnpacking objects:  62% (49/78)   \rUnpacking objects:  64% (50/78)   \rUnpacking objects:  65% (51/78)   \rUnpacking objects:  66% (52/78)   \rUnpacking objects:  67% (53/78)   \rUnpacking objects:  69% (54/78)   \rUnpacking objects:  70% (55/78)   \rUnpacking objects:  71% (56/78)   \rUnpacking objects:  73% (57/78)   \rUnpacking objects:  74% (58/78)   \rUnpacking objects:  75% (59/78)   \rUnpacking objects:  76% (60/78)   \rUnpacking objects:  78% (61/78)   \rUnpacking objects:  79% (62/78)   \rUnpacking objects:  80% (63/78)   \rUnpacking objects:  82% (64/78)   \rUnpacking objects:  83% (65/78)   \rUnpacking objects:  84% (66/78)   \rUnpacking objects:  85% (67/78)   \rUnpacking objects:  87% (68/78)   \rUnpacking objects:  88% (69/78)   \rUnpacking objects:  89% (70/78)   \rUnpacking objects:  91% (71/78)   \rUnpacking objects:  92% (72/78)   \rUnpacking objects:  93% (73/78)   \rUnpacking objects:  94% (74/78)   \rUnpacking objects:  96% (75/78)   \rUnpacking objects:  97% (76/78)   \rUnpacking objects:  98% (77/78)   \rUnpacking objects: 100% (78/78)   \rUnpacking objects: 100% (78/78), done.\n"
          ],
          "name": "stdout"
        }
      ]
    },
    {
      "cell_type": "code",
      "metadata": {
        "id": "4aYQITPSmX8V",
        "colab_type": "code",
        "outputId": "29ddc2a6-3bbb-44fd-ba15-ec69f8c3e93b",
        "colab": {
          "base_uri": "https://localhost:8080/",
          "height": 34
        }
      },
      "source": [
        "from google.colab import drive\n",
        "drive.mount('/content/drive')"
      ],
      "execution_count": 0,
      "outputs": [
        {
          "output_type": "stream",
          "text": [
            "Mounted at /content/drive\n"
          ],
          "name": "stdout"
        }
      ]
    },
    {
      "cell_type": "code",
      "metadata": {
        "id": "5q95BktamXm1",
        "colab_type": "code",
        "outputId": "a8f11606-a8f6-4b3c-9a04-b280ecd60b4e",
        "colab": {
          "base_uri": "https://localhost:8080/",
          "height": 323
        }
      },
      "source": [
        "! mkdir ./DATA/\n",
        "! unzip  './drive/My Drive/Colab Notebooks/cnndm_data.zip' -d ./DATA/\n",
        "! mkdir ./MODELS/\n",
        "! unzip './drive/My Drive/Colab Notebooks/cnndm_model.zip' -d ./MODELS/\n",
        "! mkdir ./TMP/"
      ],
      "execution_count": 0,
      "outputs": [
        {
          "output_type": "stream",
          "text": [
            "mkdir: cannot create directory ‘./DATA/’: File exists\n",
            "Archive:  ./drive/My Drive/Colab Notebooks/cnndm_data.zip\n",
            "  inflating: ./DATA/dev.src          \n",
            "  inflating: ./DATA/dev.tgt          \n",
            "   creating: ./DATA/org_data/\n",
            "  inflating: ./DATA/org_data/dev.article  \n",
            "  inflating: ./DATA/org_data/dev.summary  \n",
            "  inflating: ./DATA/org_data/test.article  \n",
            "  inflating: ./DATA/org_data/test.summary  \n",
            "  inflating: ./DATA/org_data/training.article  \n",
            "  inflating: ./DATA/org_data/training.summary  \n",
            "  inflating: ./DATA/test.src         \n",
            "  inflating: ./DATA/test.tgt         \n",
            "  inflating: ./DATA/train.src        \n",
            "  inflating: ./DATA/train.tgt        \n",
            "mkdir: cannot create directory ‘./MODELS/’: File exists\n",
            "Archive:  ./drive/My Drive/Colab Notebooks/cnndm_model.zip\n",
            "  inflating: ./MODELS/cnndm_model.bin  \n"
          ],
          "name": "stdout"
        }
      ]
    },
    {
      "cell_type": "markdown",
      "metadata": {
        "id": "eFEfykeZmFZX",
        "colab_type": "text"
      },
      "source": [
        "\n",
        "\n",
        "```\n",
        "DATA_DIR=/{path_of_data}/cnn_dailymail\n",
        "MODEL_RECOVER_PATH=/{path_of_fine-tuned_model}/cnndm_model.bin\n",
        "EVAL_SPLIT=test\n",
        "export PYTORCH_PRETRAINED_BERT_CACHE=/{tmp_folder}/bert-cased-pretrained-cache\n",
        "# run decoding\n",
        "python biunilm/decode_seq2seq.py --fp16 --amp --bert_model bert-large-cased --new_segment_ids --mode s2s --need_score_traces \\\n",
        "  --input_file ${DATA_DIR}/${EVAL_SPLIT}.src --split ${EVAL_SPLIT} --tokenized_input \\\n",
        "  --model_recover_path ${MODEL_RECOVER_PATH} \\\n",
        "  --max_seq_length 768 --max_tgt_length 128 \\\n",
        "  --batch_size 64 --beam_size 5 --length_penalty 0 \\\n",
        "  --forbid_duplicate_ngrams --forbid_ignore_word \".|[X_SEP]\"\n",
        "# apply length penalty\n",
        "python biunilm/gen_seq_from_trace.py --bert_model bert-large-cased --alpha 1.0 \\\n",
        "  --input ${MODEL_RECOVER_PATH}.${EVAL_SPLIT}\n",
        "# run evaluation\n",
        "python gigaword/eval.py --pred ${MODEL_RECOVER_PATH}.${EVAL_SPLIT}.alp1.0 \\\n",
        "  --gold ${DATA_DIR}/org_data/${EVAL_SPLIT}.summary --trunc_len 70 --perl\n",
        "```\n",
        "\n"
      ]
    },
    {
      "cell_type": "code",
      "metadata": {
        "id": "-WxYL4C7OBmP",
        "colab_type": "code",
        "colab": {}
      },
      "source": [
        "DATA_DIR='./DATA/'\n",
        "MODEL_RECOVER_PATH='./MODELS/cnndm_model.bin'\n",
        "EVAL_SPLIT='test'\n",
        "tmp_folder = \"TMP\"\n",
        "! export PYTORCH_PRETRAINED_BERT_CACHE=/{tmp_folder}/bert-cased-pretrained-cache\n",
        "! touch __init__.py"
      ],
      "execution_count": 0,
      "outputs": []
    },
    {
      "cell_type": "code",
      "metadata": {
        "id": "XlrGdHHGwAz0",
        "colab_type": "code",
        "colab": {}
      },
      "source": [
        "from pytorch_pretrained_bert.tokenization import BertTokenizer, WhitespaceTokenizer"
      ],
      "execution_count": 0,
      "outputs": []
    },
    {
      "cell_type": "code",
      "metadata": {
        "id": "6xD7gWqVrcw3",
        "colab_type": "code",
        "outputId": "6fb30333-cd7f-4dc5-981b-5a2ae362f173",
        "colab": {
          "base_uri": "https://localhost:8080/",
          "height": 85
        }
      },
      "source": [
        "# run decoding\n",
        "! python biunilm/decode_seq2seq.py --fp16 --amp --bert_model bert-large-cased --new_segment_ids --mode s2s --need_score_traces \\\n",
        "  --input_file ${DATA_DIR}/${EVAL_SPLIT}.src --split ${EVAL_SPLIT} --tokenized_input \\\n",
        "  --model_recover_path ${MODEL_RECOVER_PATH} \\\n",
        "  --max_seq_length 768 --max_tgt_length 128 \\\n",
        "  --batch_size 64 --beam_size 5 --length_penalty 0 \\\n",
        "  --forbid_duplicate_ngrams --forbid_ignore_word \".|[X_SEP]\"\n"
      ],
      "execution_count": 0,
      "outputs": [
        {
          "output_type": "stream",
          "text": [
            "Traceback (most recent call last):\n",
            "  File \"biunilm/decode_seq2seq.py\", line 20, in <module>\n",
            "    from pytorch_pretrained_bert.tokenization import BertTokenizer, WhitespaceTokenizer\n",
            "ModuleNotFoundError: No module named 'pytorch_pretrained_bert'\n"
          ],
          "name": "stdout"
        }
      ]
    },
    {
      "cell_type": "code",
      "metadata": {
        "id": "JoLe2CcRrg9W",
        "colab_type": "code",
        "outputId": "4b3360db-1c64-43ec-e47e-436eb2d16f3c",
        "colab": {
          "base_uri": "https://localhost:8080/",
          "height": 85
        }
      },
      "source": [
        "# apply length penalty\n",
        "! python biunilm/gen_seq_from_trace.py --bert_model bert-large-cased --alpha 1.0 \\\n",
        "  --input ${MODEL_RECOVER_PATH}.${EVAL_SPLIT}\n"
      ],
      "execution_count": 0,
      "outputs": [
        {
          "output_type": "stream",
          "text": [
            "Traceback (most recent call last):\n",
            "  File \"biunilm/gen_seq_from_trace.py\", line 9, in <module>\n",
            "    from pytorch_pretrained_bert.tokenization import BertTokenizer\n",
            "ModuleNotFoundError: No module named 'pytorch_pretrained_bert'\n"
          ],
          "name": "stdout"
        }
      ]
    },
    {
      "cell_type": "code",
      "metadata": {
        "id": "MyXHbr36rizW",
        "colab_type": "code",
        "outputId": "2966fb4d-6d3b-4df6-d061-707c0566cf2b",
        "colab": {
          "base_uri": "https://localhost:8080/",
          "height": 85
        }
      },
      "source": [
        "# run evaluation\n",
        "!python gigaword/eval.py --pred ${MODEL_RECOVER_PATH}.${EVAL_SPLIT}.alp1.0 \\\n",
        "  --gold ${DATA_DIR}/org_data/${EVAL_SPLIT}.summary --trunc_len 70 --perl"
      ],
      "execution_count": 0,
      "outputs": [
        {
          "output_type": "stream",
          "text": [
            "Traceback (most recent call last):\n",
            "  File \"gigaword/eval.py\", line 19, in <module>\n",
            "    import rouge\n",
            "ModuleNotFoundError: No module named 'rouge'\n"
          ],
          "name": "stdout"
        }
      ]
    }
  ]
}